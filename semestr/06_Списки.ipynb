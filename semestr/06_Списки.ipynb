{
  "cells": [
    {
      "cell_type": "markdown",
      "id": "3402ff55",
      "metadata": {
        "id": "3402ff55"
      },
      "source": [
        "# 06 Списки (Lists)\n",
        "\n",
        "Списки - это наиболее общая версия последовательностей в Python. В отличие от строк, списки можно менять - элементы внутри списка можно менять!\n",
        "\n",
        "Мы изучим следующие темы:\n",
        "    \n",
        "    1) Создание списков\n",
        "    2) Индексирование списков и разбиение их на части\n",
        "    3) Основные методы для списков\n",
        "    4) Вложенные списки\n",
        "    5) Введение в генераторы списков (List Comprehensions)\n",
        "\n",
        "Списки создаются с помощью скобок [ ], элементы списка отделяются друг от друга запятыми.\n",
        "\n",
        "Давайте посмотрим, как можно создавать списки!"
      ]
    },
    {
      "cell_type": "code",
      "execution_count": null,
      "id": "280aa4eb",
      "metadata": {
        "id": "280aa4eb"
      },
      "outputs": [],
      "source": [
        "# Присвоить переменной my_list список\n",
        "my_list = [1,2,3]"
      ]
    },
    {
      "cell_type": "markdown",
      "id": "6ec8e2d7",
      "metadata": {
        "id": "6ec8e2d7"
      },
      "source": [
        "Мы создали список целых чисел, но на самом деле списки могут содержать элементы разных типов. Например:"
      ]
    },
    {
      "cell_type": "code",
      "execution_count": null,
      "id": "80960b76",
      "metadata": {
        "id": "80960b76"
      },
      "outputs": [],
      "source": [
        "my_list = ['A string',23,100.232,'o']"
      ]
    },
    {
      "cell_type": "markdown",
      "id": "d07f74bc",
      "metadata": {
        "id": "d07f74bc"
      },
      "source": [
        "Как и для строк, узнать количество элементов в списке можно с помощью функции len()."
      ]
    },
    {
      "cell_type": "code",
      "execution_count": null,
      "id": "40eef44e",
      "metadata": {
        "id": "40eef44e"
      },
      "outputs": [],
      "source": [
        "len(my_list)"
      ]
    },
    {
      "cell_type": "markdown",
      "id": "0da47673",
      "metadata": {
        "id": "0da47673"
      },
      "source": [
        "### Индексирование и разбиение на части\n",
        "Индексирование и разбиение на части работает точно так же, как и для строк. Давайте создадим новый список и напомним себе, как это работает:"
      ]
    },
    {
      "cell_type": "code",
      "execution_count": null,
      "id": "61c4ac37",
      "metadata": {
        "id": "61c4ac37"
      },
      "outputs": [],
      "source": [
        "my_list = ['one','two','three',4,5]"
      ]
    },
    {
      "cell_type": "code",
      "execution_count": null,
      "id": "2b689dea",
      "metadata": {
        "id": "2b689dea"
      },
      "outputs": [],
      "source": [
        "# Берём элемент на позиции 0\n",
        "my_list[0]"
      ]
    },
    {
      "cell_type": "code",
      "execution_count": null,
      "id": "4ec9950b",
      "metadata": {
        "id": "4ec9950b"
      },
      "outputs": [],
      "source": [
        "# Берём позицию 1 и всё что после нее\n",
        "my_list[1:]"
      ]
    },
    {
      "cell_type": "code",
      "execution_count": null,
      "id": "4fa75f83",
      "metadata": {
        "id": "4fa75f83"
      },
      "outputs": [],
      "source": [
        "# Берём всё ДО позиции 3\n",
        "my_list[:3]"
      ]
    },
    {
      "cell_type": "markdown",
      "id": "055e5cb6",
      "metadata": {
        "id": "055e5cb6"
      },
      "source": [
        "Как и для строк, для списков можно использовать + для конкатенации списков."
      ]
    },
    {
      "cell_type": "code",
      "execution_count": null,
      "id": "a861e389",
      "metadata": {
        "id": "a861e389"
      },
      "outputs": [],
      "source": [
        "my_list + ['new item']"
      ]
    },
    {
      "cell_type": "markdown",
      "id": "5dcf17b1",
      "metadata": {
        "id": "5dcf17b1"
      },
      "source": [
        "Обратите внимание: сам список my_list при этом не поменялся!"
      ]
    },
    {
      "cell_type": "code",
      "execution_count": null,
      "id": "a129182f",
      "metadata": {
        "id": "a129182f"
      },
      "outputs": [],
      "source": [
        "my_list"
      ]
    },
    {
      "cell_type": "markdown",
      "id": "a535b37e",
      "metadata": {
        "id": "a535b37e"
      },
      "source": [
        "Если нужно поменять изначальный список, то можно переопределить список."
      ]
    },
    {
      "cell_type": "code",
      "execution_count": null,
      "id": "96e31769",
      "metadata": {
        "id": "96e31769"
      },
      "outputs": [],
      "source": [
        "# Указываем новое значение\n",
        "my_list = my_list + ['add new item permanently']"
      ]
    },
    {
      "cell_type": "code",
      "execution_count": null,
      "id": "1ca93caf",
      "metadata": {
        "id": "1ca93caf"
      },
      "outputs": [],
      "source": [
        "my_list"
      ]
    },
    {
      "cell_type": "markdown",
      "id": "6d37363e",
      "metadata": {
        "id": "6d37363e"
      },
      "source": [
        "Также можно использовать * для дублирования, как и для строк:"
      ]
    },
    {
      "cell_type": "code",
      "execution_count": null,
      "id": "ffe30789",
      "metadata": {
        "id": "ffe30789"
      },
      "outputs": [],
      "source": [
        "# Make the list double\n",
        "my_list * 2"
      ]
    },
    {
      "cell_type": "code",
      "execution_count": null,
      "id": "069d9dcf",
      "metadata": {
        "id": "069d9dcf"
      },
      "outputs": [],
      "source": [
        "# Опять же, это не затрагивает изначальный список\n",
        "my_list"
      ]
    },
    {
      "cell_type": "markdown",
      "id": "71f9e0ec",
      "metadata": {
        "id": "71f9e0ec"
      },
      "source": [
        "## Основные методы для списков\n",
        "\n",
        "Если Вы знаете другие языки программирования, то можете провести параллели между массивами в других языках и списками в Python. Однако списки в Python более гибкие, чем массивы в других языках, по двум причинам: у них нет фиксированного размера (то есть нам не нужно указывать, насколько большим будет список), и они не ограничивают типы объектов (как мы видели выше).\n",
        "\n",
        "Давайте посмотрим некоторые методы, специфичные для списков:"
      ]
    },
    {
      "cell_type": "code",
      "execution_count": null,
      "id": "48db43bb",
      "metadata": {
        "id": "48db43bb"
      },
      "outputs": [],
      "source": [
        "# Создаем новый список\n",
        "list1 = [1,2,3]"
      ]
    },
    {
      "cell_type": "markdown",
      "id": "0eca3c02",
      "metadata": {
        "id": "0eca3c02"
      },
      "source": [
        "Метод **append** добавляет новый элемент в конец списка:"
      ]
    },
    {
      "cell_type": "code",
      "execution_count": null,
      "id": "4bd053e1",
      "metadata": {
        "id": "4bd053e1"
      },
      "outputs": [],
      "source": [
        "# Append\n",
        "list1.append('append me!')"
      ]
    },
    {
      "cell_type": "code",
      "execution_count": null,
      "id": "f8ea2f26",
      "metadata": {
        "id": "f8ea2f26"
      },
      "outputs": [],
      "source": [
        "# Проверка\n",
        "list1"
      ]
    },
    {
      "cell_type": "markdown",
      "id": "b7b8a82e",
      "metadata": {
        "id": "b7b8a82e"
      },
      "source": [
        "Метод **pop** \"вынимает\" элемент из списка. По умолчанию вынимается последний элемент, но Вы также можете указать позицию, с которой нужно вынуть элемент. Рассмотрим пример:"
      ]
    },
    {
      "cell_type": "code",
      "execution_count": null,
      "id": "5af84bbe",
      "metadata": {
        "id": "5af84bbe"
      },
      "outputs": [],
      "source": [
        "# Вынимаем элемент на позиции 0\n",
        "list1.pop(0)"
      ]
    },
    {
      "cell_type": "code",
      "execution_count": null,
      "id": "ef54bb6b",
      "metadata": {
        "id": "ef54bb6b"
      },
      "outputs": [],
      "source": [
        "# Проверка\n",
        "list1"
      ]
    },
    {
      "cell_type": "code",
      "execution_count": null,
      "id": "b3341ac1",
      "metadata": {
        "id": "b3341ac1"
      },
      "outputs": [],
      "source": [
        "# Сохраняем вынимаемый элемент в отдельной переменной.\n",
        "# Помните, по умолчанию вынимаем последний элемент в списке (индекс -1)\n",
        "popped_item = list1.pop()"
      ]
    },
    {
      "cell_type": "code",
      "execution_count": null,
      "id": "eb91a64b",
      "metadata": {
        "id": "eb91a64b"
      },
      "outputs": [],
      "source": [
        "popped_item"
      ]
    },
    {
      "cell_type": "code",
      "execution_count": null,
      "id": "263cc06d",
      "metadata": {
        "id": "263cc06d"
      },
      "outputs": [],
      "source": [
        "# Проверка\n",
        "list1"
      ]
    },
    {
      "cell_type": "markdown",
      "id": "ce78c1aa",
      "metadata": {
        "id": "ce78c1aa"
      },
      "source": [
        "Также следует сказать, что обращение по несуществующему номеру индекса выдаст ошибку, если такого элемента нет. Например:"
      ]
    },
    {
      "cell_type": "code",
      "execution_count": null,
      "id": "bcabca77",
      "metadata": {
        "id": "bcabca77"
      },
      "outputs": [],
      "source": [
        "list1[100]"
      ]
    },
    {
      "cell_type": "markdown",
      "id": "dd21a2b5",
      "metadata": {
        "id": "dd21a2b5"
      },
      "source": [
        "Мы также можем использовать методы **sort** и **reverse** для сортировки списков:"
      ]
    },
    {
      "cell_type": "code",
      "execution_count": null,
      "id": "5acdf274",
      "metadata": {
        "id": "5acdf274"
      },
      "outputs": [],
      "source": [
        "new_list = ['a','e','x','b','c']"
      ]
    },
    {
      "cell_type": "code",
      "execution_count": null,
      "id": "c40988ba",
      "metadata": {
        "id": "c40988ba"
      },
      "outputs": [],
      "source": [
        "# проверка\n",
        "new_list"
      ]
    },
    {
      "cell_type": "code",
      "execution_count": 21,
      "id": "2b24d3b8",
      "metadata": {
        "id": "2b24d3b8",
        "colab": {
          "base_uri": "https://localhost:8080/",
          "height": 159
        },
        "outputId": "9a40905f-be7b-4a7c-e30e-0d7484c2d938"
      },
      "outputs": [
        {
          "output_type": "error",
          "ename": "NameError",
          "evalue": "name 'new_list' is not defined",
          "traceback": [
            "\u001b[0;31m---------------------------------------------------------------------------\u001b[0m",
            "\u001b[0;31mNameError\u001b[0m                                 Traceback (most recent call last)",
            "\u001b[0;32m<ipython-input-21-54413979dbec>\u001b[0m in \u001b[0;36m<cell line: 0>\u001b[0;34m()\u001b[0m\n\u001b[1;32m      1\u001b[0m \u001b[0;31m# Используем reverse для обратной сортировки (изменения сохраняются в списке!)\u001b[0m\u001b[0;34m\u001b[0m\u001b[0;34m\u001b[0m\u001b[0m\n\u001b[0;32m----> 2\u001b[0;31m \u001b[0mnew_list\u001b[0m\u001b[0;34m.\u001b[0m\u001b[0mreverse\u001b[0m\u001b[0;34m(\u001b[0m\u001b[0;34m)\u001b[0m\u001b[0;34m\u001b[0m\u001b[0;34m\u001b[0m\u001b[0m\n\u001b[0m",
            "\u001b[0;31mNameError\u001b[0m: name 'new_list' is not defined"
          ]
        }
      ],
      "source": [
        "# Используем reverse для обратной сортировки (изменения сохраняются в списке!)\n",
        "new_list.reverse()"
      ]
    },
    {
      "cell_type": "code",
      "execution_count": null,
      "id": "57ba6fc1",
      "metadata": {
        "id": "57ba6fc1"
      },
      "outputs": [],
      "source": [
        "new_list"
      ]
    },
    {
      "cell_type": "code",
      "execution_count": null,
      "id": "836b220a",
      "metadata": {
        "id": "836b220a"
      },
      "outputs": [],
      "source": [
        "# Используем sort для сортировки списка (в этом случае по алфавиту, а для чисел было бы по возрастанию)\n",
        "new_list.sort()"
      ]
    },
    {
      "cell_type": "code",
      "execution_count": null,
      "id": "c9c801fb",
      "metadata": {
        "id": "c9c801fb"
      },
      "outputs": [],
      "source": [
        "new_list"
      ]
    },
    {
      "cell_type": "markdown",
      "id": "1c208f9a",
      "metadata": {
        "id": "1c208f9a"
      },
      "source": [
        "## Вложенные списки\n",
        "Прекрасная особенность структур данных в Python состоит в том, что они могут быть вложенными (*nested*). Это значит, что мы можем создавать структуры данных внутри структур данных. Например: список внутри списка.\n",
        "\n",
        "Давайте посмотрим, как это работает!"
      ]
    },
    {
      "cell_type": "code",
      "execution_count": 1,
      "id": "1aaee8e4",
      "metadata": {
        "id": "1aaee8e4"
      },
      "outputs": [],
      "source": [
        "# Создадим три списка\n",
        "lst_1=[1,2,3]\n",
        "lst_2=[4,5,6]\n",
        "lst_3=[7,8,9]\n",
        "\n",
        "# Создадим список списков, получаем матрицу\n",
        "matrix = [lst_1,lst_2,lst_3]"
      ]
    },
    {
      "cell_type": "code",
      "execution_count": null,
      "id": "e051d871",
      "metadata": {
        "id": "e051d871"
      },
      "outputs": [],
      "source": [
        "# Проверка\n",
        "matrix"
      ]
    },
    {
      "cell_type": "markdown",
      "id": "3c9cf9bb",
      "metadata": {
        "id": "3c9cf9bb"
      },
      "source": [
        "Мы можем использовать индексы, чтобы получить элементы - но теперь у нас два уровня индексирования. Сначала элементы в списке matrix, а затем элементы внутри выбранного списка!"
      ]
    },
    {
      "cell_type": "code",
      "execution_count": null,
      "id": "9607862d",
      "metadata": {
        "id": "9607862d"
      },
      "outputs": [],
      "source": [
        "# Берем первый элемент в объекте matrix\n",
        "matrix[0]"
      ]
    },
    {
      "cell_type": "code",
      "execution_count": null,
      "id": "89c06756",
      "metadata": {
        "scrolled": false,
        "id": "89c06756"
      },
      "outputs": [],
      "source": [
        "# Берем первый элемент внутри первого элемента в объекте matrix\n",
        "matrix[0][0]"
      ]
    },
    {
      "cell_type": "markdown",
      "id": "6a549728",
      "metadata": {
        "id": "6a549728"
      },
      "source": [
        "# Генераторы списков (List Comprehensions)\n",
        "В Python есть возможность создавать списки с помощью генераторов списков (List Comprehensions). Этот термин трудно перевести на русский язык, иногда его ещё переводят как \"абстракция списков\" или \"списковое включение\". Генераторы списков позволяют быстро создавать списки. Чтобы понять их, нам нужно понять работу циклов for. Не волнуйтесь, если этот раздел пока будет выглядеть не вполне понятно - просто пропустите его, мы вернемся к этой теме позже.\n",
        "\n",
        "Но если Вы хотите знать уже сейчас. то вот пример:"
      ]
    },
    {
      "cell_type": "code",
      "execution_count": null,
      "id": "c961f25d",
      "metadata": {
        "id": "c961f25d"
      },
      "outputs": [],
      "source": [
        "# Создаем список с помощью цикла for внутри []\n",
        "first_col = [row[0] for row in matrix]"
      ]
    },
    {
      "cell_type": "code",
      "execution_count": null,
      "id": "9f41735e",
      "metadata": {
        "id": "9f41735e"
      },
      "outputs": [],
      "source": [
        "first_col"
      ]
    },
    {
      "cell_type": "markdown",
      "id": "3e09d561",
      "metadata": {
        "collapsed": true,
        "id": "3e09d561"
      },
      "source": [
        "## Пример 1"
      ]
    },
    {
      "cell_type": "code",
      "execution_count": null,
      "id": "b283c0da",
      "metadata": {
        "collapsed": true,
        "id": "b283c0da"
      },
      "outputs": [],
      "source": [
        "# Получить все буквы в строке\n",
        "lst = [x for x in 'word']"
      ]
    },
    {
      "cell_type": "code",
      "execution_count": null,
      "id": "915af7db",
      "metadata": {
        "id": "915af7db",
        "outputId": "adcff0f1-e0fc-4f96-c099-db177a189749"
      },
      "outputs": [
        {
          "data": {
            "text/plain": [
              "['w', 'o', 'r', 'd']"
            ]
          },
          "execution_count": 2,
          "metadata": {},
          "output_type": "execute_result"
        }
      ],
      "source": [
        "# Проверка\n",
        "lst"
      ]
    },
    {
      "cell_type": "markdown",
      "id": "0b46e369",
      "metadata": {
        "id": "0b46e369"
      },
      "source": [
        "Это основная идея генератора списков. Если Вы знакомы с математической нотацией, то этот формат выглядит похоже, например: x^2 : x in { 0,1,2...10 }\n",
        "\n",
        "Рассмотрим ещё несколько примеров для генератора списков в Python:\n",
        "## Пример 2"
      ]
    },
    {
      "cell_type": "code",
      "execution_count": null,
      "id": "f97c1a61",
      "metadata": {
        "collapsed": true,
        "id": "f97c1a61"
      },
      "outputs": [],
      "source": [
        "# Взять диапазон чисел, возвести их в квадрат, и вернуть в виде списка\n",
        "lst = [x**2 for x in range(0,11)]"
      ]
    },
    {
      "cell_type": "code",
      "execution_count": null,
      "id": "df4b1411",
      "metadata": {
        "id": "df4b1411",
        "outputId": "e67339ee-78eb-4db4-b79c-64b4eb754366"
      },
      "outputs": [
        {
          "data": {
            "text/plain": [
              "[0, 1, 4, 9, 16, 25, 36, 49, 64, 81, 100]"
            ]
          },
          "execution_count": 4,
          "metadata": {},
          "output_type": "execute_result"
        }
      ],
      "source": [
        "lst"
      ]
    },
    {
      "cell_type": "markdown",
      "id": "d31356d0",
      "metadata": {
        "id": "d31356d0"
      },
      "source": [
        "## Пример 3\n",
        "Посмотрим как можно добавить оператор <code>if</code>:"
      ]
    },
    {
      "cell_type": "code",
      "execution_count": null,
      "id": "77c19e0a",
      "metadata": {
        "collapsed": true,
        "id": "77c19e0a"
      },
      "outputs": [],
      "source": [
        "# Взять чётные числа из диапазона\n",
        "lst = [x for x in range(11) if x % 2 == 0]"
      ]
    },
    {
      "cell_type": "code",
      "execution_count": null,
      "id": "365829f0",
      "metadata": {
        "id": "365829f0",
        "outputId": "a7d5d3f1-59c0-49a9-bbae-f497f236f8c5"
      },
      "outputs": [
        {
          "data": {
            "text/plain": [
              "[0, 2, 4, 6, 8, 10]"
            ]
          },
          "execution_count": 6,
          "metadata": {},
          "output_type": "execute_result"
        }
      ],
      "source": [
        "lst"
      ]
    },
    {
      "cell_type": "markdown",
      "id": "1423ac0d",
      "metadata": {
        "id": "1423ac0d"
      },
      "source": [
        "## Пример 4\n",
        "Мы также можем выполнить более сложную арифметику:"
      ]
    },
    {
      "cell_type": "code",
      "execution_count": null,
      "id": "aa236333",
      "metadata": {
        "id": "aa236333",
        "outputId": "6164fcb3-6e5c-4514-b93b-adcc29dab138"
      },
      "outputs": [
        {
          "data": {
            "text/plain": [
              "[32.0, 50.0, 68.18, 94.1]"
            ]
          },
          "execution_count": 7,
          "metadata": {},
          "output_type": "execute_result"
        }
      ],
      "source": [
        "# Сконвертировать градусы Цельсия в градусы Фаренгейта\n",
        "celsius = [0,10,20.1,34.5]\n",
        "\n",
        "fahrenheit = [((9/5)*temp + 32) for temp in celsius ]\n",
        "\n",
        "fahrenheit"
      ]
    },
    {
      "cell_type": "markdown",
      "id": "be7c4afd",
      "metadata": {
        "id": "be7c4afd"
      },
      "source": [
        "## Пример 5\n",
        "Мы также можем создавать вложенные генераторы списков, например:"
      ]
    },
    {
      "cell_type": "code",
      "execution_count": null,
      "id": "ffa7d41c",
      "metadata": {
        "id": "ffa7d41c",
        "outputId": "b25e69a7-f147-4828-8ef8-dbe94e75a354"
      },
      "outputs": [
        {
          "data": {
            "text/plain": [
              "[0, 1, 16, 81, 256, 625, 1296, 2401, 4096, 6561, 10000]"
            ]
          },
          "execution_count": 8,
          "metadata": {},
          "output_type": "execute_result"
        }
      ],
      "source": [
        "lst = [ x**2 for x in [x**2 for x in range(11)]]\n",
        "lst"
      ]
    },
    {
      "cell_type": "markdown",
      "id": "316a16bd",
      "metadata": {
        "id": "316a16bd"
      },
      "source": [
        "## Задание 1"
      ]
    },
    {
      "cell_type": "markdown",
      "id": "e753120c",
      "metadata": {
        "id": "e753120c"
      },
      "source": [
        "Есть строка 'hello'. Введите команду, которая выведет букву 'e'. Введите Ваш код в ячейке ниже:"
      ]
    },
    {
      "cell_type": "code",
      "execution_count": 2,
      "id": "0f7b6387",
      "metadata": {
        "id": "0f7b6387",
        "colab": {
          "base_uri": "https://localhost:8080/"
        },
        "outputId": "5417f572-df96-423b-b4fd-e26e0ee53755"
      },
      "outputs": [
        {
          "output_type": "stream",
          "name": "stdout",
          "text": [
            "e\n"
          ]
        }
      ],
      "source": [
        "s = 'hello'\n",
        "# Выведите 'e' с помощью индексирования\n",
        "s = 'hello'\n",
        "print(s[1])\n"
      ]
    },
    {
      "cell_type": "markdown",
      "id": "c11fbdc2",
      "metadata": {
        "id": "c11fbdc2"
      },
      "source": [
        "Выведите строку 'hello' в обратном порядке"
      ]
    },
    {
      "cell_type": "code",
      "execution_count": 6,
      "id": "858fb118",
      "metadata": {
        "id": "858fb118",
        "colab": {
          "base_uri": "https://localhost:8080/"
        },
        "outputId": "52ce91a3-9525-442c-836f-3add5e65c651"
      },
      "outputs": [
        {
          "output_type": "stream",
          "name": "stdout",
          "text": [
            "olleh\n"
          ]
        }
      ],
      "source": [
        "s ='hello'\n",
        "# Выведите строку в обратном порядке\n",
        "s = 'hello'\n",
        "print(s[::-1])"
      ]
    },
    {
      "cell_type": "markdown",
      "id": "472ec8f4",
      "metadata": {
        "id": "472ec8f4"
      },
      "source": [
        "Используя строку hello, укажите два способа, как можно получить букву 'o' с помощью индексирования."
      ]
    },
    {
      "cell_type": "code",
      "execution_count": 10,
      "id": "18afe82f",
      "metadata": {
        "id": "18afe82f",
        "colab": {
          "base_uri": "https://localhost:8080/"
        },
        "outputId": "8edcd1df-b7d3-43c5-bfff-70a2f84cdcf9"
      },
      "outputs": [
        {
          "output_type": "stream",
          "name": "stdout",
          "text": [
            "o\n"
          ]
        }
      ],
      "source": [
        "s ='hello'\n",
        "# Выведите букву 'o'\n",
        "\n",
        "# Способ 1:\n",
        "s = 'hello'\n",
        "print(s[4])\n"
      ]
    },
    {
      "cell_type": "code",
      "execution_count": 11,
      "id": "6385792a",
      "metadata": {
        "id": "6385792a",
        "colab": {
          "base_uri": "https://localhost:8080/"
        },
        "outputId": "506fb8c7-b0ed-4647-b498-5d308048d818"
      },
      "outputs": [
        {
          "output_type": "stream",
          "name": "stdout",
          "text": [
            "o\n"
          ]
        }
      ],
      "source": [
        "# Способ 2:\n",
        "s = 'hello'\n",
        "print(s[-1])\n",
        "\n"
      ]
    },
    {
      "cell_type": "markdown",
      "id": "e7fee250",
      "metadata": {
        "id": "e7fee250"
      },
      "source": [
        "## Задание 2"
      ]
    },
    {
      "cell_type": "markdown",
      "id": "a4c21283",
      "metadata": {
        "id": "a4c21283"
      },
      "source": [
        "Создайте список [0,0,0] двумя разными способами."
      ]
    },
    {
      "cell_type": "code",
      "execution_count": 16,
      "id": "f24113d3",
      "metadata": {
        "id": "f24113d3",
        "colab": {
          "base_uri": "https://localhost:8080/"
        },
        "outputId": "49843ff3-0654-4231-e9d8-a8b120a95a41"
      },
      "outputs": [
        {
          "output_type": "stream",
          "name": "stdout",
          "text": [
            "[0, 0, 0]\n"
          ]
        }
      ],
      "source": [
        "# Способ 1:\n",
        "lst = [0, 0, 0]\n",
        "print(lst)"
      ]
    },
    {
      "cell_type": "code",
      "execution_count": 17,
      "id": "18a6719b",
      "metadata": {
        "id": "18a6719b",
        "colab": {
          "base_uri": "https://localhost:8080/"
        },
        "outputId": "34b9dd80-ff84-4120-c75d-bb9001ad2ca6"
      },
      "outputs": [
        {
          "output_type": "stream",
          "name": "stdout",
          "text": [
            "[0, 0, 0]\n"
          ]
        }
      ],
      "source": [
        "# Способ 2:\n",
        "lst = [0] * 3\n",
        "print(lst)"
      ]
    },
    {
      "cell_type": "markdown",
      "id": "3be937c8",
      "metadata": {
        "id": "3be937c8"
      },
      "source": [
        "Переопределите 'hello' в этом сложенном списке, чтобы вместо этого сказать 'goodbye':"
      ]
    },
    {
      "cell_type": "code",
      "execution_count": 18,
      "id": "98cbbfa4",
      "metadata": {
        "id": "98cbbfa4",
        "colab": {
          "base_uri": "https://localhost:8080/"
        },
        "outputId": "1b0479a9-b9a7-4408-a942-235d8b92fb25"
      },
      "outputs": [
        {
          "output_type": "stream",
          "name": "stdout",
          "text": [
            "[1, 2, [3, 4, 'goodbye']]\n"
          ]
        }
      ],
      "source": [
        "list3 = [1,2,[3,4,'hello']]\n",
        "list3[2][2] = 'goodbye'\n",
        "print(list3)\n"
      ]
    },
    {
      "cell_type": "markdown",
      "id": "e7996674",
      "metadata": {
        "id": "e7996674"
      },
      "source": [
        "Отсортируйте список ниже:"
      ]
    },
    {
      "cell_type": "code",
      "execution_count": 23,
      "id": "a8c1011c",
      "metadata": {
        "id": "a8c1011c",
        "colab": {
          "base_uri": "https://localhost:8080/"
        },
        "outputId": "e5c48e74-3521-4754-8fea-5c9e3f8d368f"
      },
      "outputs": [
        {
          "output_type": "stream",
          "name": "stdout",
          "text": [
            "[1, 3, 4, 5, 6]\n"
          ]
        }
      ],
      "source": [
        "list4 = [5, 3, 4, 6, 1]\n",
        "list4.sort()\n",
        "print(list4)\n"
      ]
    },
    {
      "cell_type": "code",
      "execution_count": null,
      "id": "f40a5639",
      "metadata": {
        "id": "f40a5639"
      },
      "outputs": [],
      "source": []
    }
  ],
  "metadata": {
    "kernelspec": {
      "display_name": "Python 3 (ipykernel)",
      "language": "python",
      "name": "python3"
    },
    "language_info": {
      "codemirror_mode": {
        "name": "ipython",
        "version": 3
      },
      "file_extension": ".py",
      "mimetype": "text/x-python",
      "name": "python",
      "nbconvert_exporter": "python",
      "pygments_lexer": "ipython3",
      "version": "3.9.13"
    },
    "colab": {
      "provenance": []
    }
  },
  "nbformat": 4,
  "nbformat_minor": 5
}