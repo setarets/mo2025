{
  "cells": [
    {
      "cell_type": "markdown",
      "id": "66ba490c",
      "metadata": {
        "id": "66ba490c"
      },
      "source": [
        "# Операторы if, elif, else\n",
        "\n",
        "Операторы <code>if</code> в Python позволяют компьютеру выполнять разные действия в зависимости от условий.\n",
        "\n",
        "Представьте, что мы говорим компьютеру:\n",
        "\n",
        "\"Если случится вот это, то выполни такое-то действие\"\n",
        "\n",
        "Мы также можем развить эту идею с помощью операторов <code>elif</code> и <code>else</code>, которые позволяют нам сказать компьютеру следующее:\n",
        "\n",
        "\"Если выполняется такое-то условие, то выполни такое-то действие. Иначе, если выполняется другое условие, то выполни другое действие. Иначе, если *никакие* из условий выше не выполнены, то выполни третье действие.\"\n",
        "\n",
        "Давайте посмотрим на синтаксис оператора <code>if</code>, чтобы увидеть это в действии:\n",
        "\n",
        "    if условие1:\n",
        "        выполнить действие1\n",
        "    elif условие2:\n",
        "        выполнить действие2\n",
        "    else:\n",
        "        выполнить действие3"
      ]
    },
    {
      "cell_type": "markdown",
      "id": "23212da7",
      "metadata": {
        "id": "23212da7"
      },
      "source": [
        "## Первый пример\n",
        "\n",
        "Рассмотрим пример:"
      ]
    },
    {
      "cell_type": "code",
      "execution_count": null,
      "id": "25254a7d",
      "metadata": {
        "scrolled": true,
        "id": "25254a7d",
        "outputId": "a4f1937e-1b60-452e-c4a8-e72e3318fce2"
      },
      "outputs": [
        {
          "name": "stdout",
          "output_type": "stream",
          "text": [
            "It was true!\n"
          ]
        }
      ],
      "source": [
        "if True:\n",
        "    print('It was true!')"
      ]
    },
    {
      "cell_type": "markdown",
      "id": "411caf8e",
      "metadata": {
        "id": "411caf8e"
      },
      "source": [
        "Добавим else:"
      ]
    },
    {
      "cell_type": "code",
      "execution_count": null,
      "id": "a70b25a9",
      "metadata": {
        "id": "a70b25a9",
        "outputId": "a00ccafd-29a7-4fb0-9a66-b349b527c050"
      },
      "outputs": [
        {
          "name": "stdout",
          "output_type": "stream",
          "text": [
            "Это предложение будет напечатано во всех случаях, когда x не равен true\n"
          ]
        }
      ],
      "source": [
        "x = False\n",
        "\n",
        "if x:\n",
        "    print('x равен True!')\n",
        "else:\n",
        "    print('Это предложение будет напечатано во всех случаях, когда x не равен true')"
      ]
    },
    {
      "cell_type": "markdown",
      "id": "045ac6b8",
      "metadata": {
        "id": "045ac6b8"
      },
      "source": [
        "### Несколько условий\n",
        "\n",
        "Посмотрим более полную картину для операторов <code>if</code>, <code>elif</code>, и <code>else</code>!\n",
        "\n",
        "Мы напишем это в виде вложенной структуры. Обратите внимание, как в этом коде расположены <code>if</code>, <code>elif</code> и <code>else</code>. Это позволяет увидеть, какой <code>if</code> относится к какому <code>elif</code> или <code>else</code>.\n",
        "\n",
        "Также мы вспомним синтаксис сравнения значений в Python."
      ]
    },
    {
      "cell_type": "code",
      "execution_count": null,
      "id": "ac02e6d2",
      "metadata": {
        "id": "ac02e6d2",
        "outputId": "938216f3-af98-452e-f1e7-6d3c466800da"
      },
      "outputs": [
        {
          "name": "stdout",
          "output_type": "stream",
          "text": [
            "Welcome to the bank!\n"
          ]
        }
      ],
      "source": [
        "loc = 'Bank'\n",
        "\n",
        "if loc == 'Auto Shop':\n",
        "    print('Welcome to the Auto Shop!')\n",
        "elif loc == 'Bank':\n",
        "    print('Welcome to the bank!')\n",
        "else:\n",
        "    print('Where are you?')"
      ]
    },
    {
      "cell_type": "markdown",
      "id": "4bd9727e",
      "metadata": {
        "id": "4bd9727e"
      },
      "source": [
        "Обратите внимание на вложенные операторы <code>if</code> - они проверяются до тех пор, пока не встретится условие, которое принимает значение True. И тогда выполняется код, расположенный после этого условия.  Вы можете поместить сколько угодно операторов <code>elif</code>, прежде чем указать завершающий <code>else</code>.\n",
        "\n",
        "Рассмотрим еще два простых примера для операторов <code>if</code>, <code>elif</code> и <code>else</code>:"
      ]
    },
    {
      "cell_type": "code",
      "execution_count": null,
      "id": "43caf98d",
      "metadata": {
        "id": "43caf98d",
        "outputId": "ac7e222a-a7a1-411b-bfb0-7f550fba3335"
      },
      "outputs": [
        {
          "name": "stdout",
          "output_type": "stream",
          "text": [
            "Welcome Sammy!\n"
          ]
        }
      ],
      "source": [
        "person = 'Sammy'\n",
        "\n",
        "if person == 'Sammy':\n",
        "    print('Welcome Sammy!')\n",
        "else:\n",
        "    print(\"Welcome, what's your name?\")"
      ]
    },
    {
      "cell_type": "code",
      "execution_count": null,
      "id": "a14b7453",
      "metadata": {
        "id": "a14b7453",
        "outputId": "492ff62c-b02b-4f4a-f3af-c64c2204324c"
      },
      "outputs": [
        {
          "name": "stdout",
          "output_type": "stream",
          "text": [
            "Welcome George!\n"
          ]
        }
      ],
      "source": [
        "person = 'George'\n",
        "\n",
        "if person == 'Sammy':\n",
        "    print('Welcome Sammy!')\n",
        "elif person =='George':\n",
        "    print('Welcome George!')\n",
        "else:\n",
        "    print(\"Welcome, what's your name?\")"
      ]
    },
    {
      "cell_type": "markdown",
      "id": "3673e71b",
      "metadata": {
        "id": "3673e71b"
      },
      "source": [
        "## Пример 1\n",
        "\n",
        "Пусть от пользователя требуется ввести два целых числа: температуру на улице вчера и сегодня. А программа ответит — сегодня теплее, холоднее или же температура не изменилась:\n",
        "```\n",
        "yesterday_temp = int(input())\n",
        "today_temp = int(input())\n",
        "if today_temp > yesterday_temp:\n",
        "    print(\"Сегодня теплее, чем вчера.\")\n",
        "elif today_temp < yesterday_temp:\n",
        "    print(\"Сегодня холоднее, чем вчера.\")\n",
        "else:\n",
        "    print(\"Сегодня такая же температура, как вчера.\")\n",
        "```\n",
        "\n",
        "Оператор if является началом условной конструкции. Далее идёт условие, которое возвращает логическое значение True (истина) или False (ложь). Завершается условие символом «двоеточие». Затем — обязательный отступ в четыре пробела, он показывает, что строки объединяются в один блок. Отступ аналогичен использованию фигурных скобок или ключевых слов begin и end в других языках программирования.\n",
        "\n",
        "Тело условной конструкции может содержать одно или несколько выражений (строк). По завершении тела может идти следующее условие, которое начинается с оператора elif (сокращение от else if — «иначе если»). Оно проверяется только в случае, если предыдущее условие не было истинным.\n",
        "\n",
        "Синтаксис в elif аналогичен if. Операторов elif для одного блока условного оператора может быть несколько, а может не быть совсем. Последним идёт оператор else, который не содержит условия, а выполняется, только если ни одно из предыдущих условий в if и elif не выполнилось. Оператор else не является обязательным.\n",
        "\n",
        "Ниже выполните данный пример\n"
      ]
    },
    {
      "cell_type": "code",
      "execution_count": 2,
      "id": "b8d6772d",
      "metadata": {
        "colab": {
          "base_uri": "https://localhost:8080/"
        },
        "id": "b8d6772d",
        "outputId": "c2e0ea97-f013-4735-ef1f-7dcff09ca9a2"
      },
      "outputs": [
        {
          "output_type": "stream",
          "name": "stdout",
          "text": [
            "4\n",
            "7\n",
            "Сегодня теплее, чем вчера.\n"
          ]
        }
      ],
      "source": [
        "yesterday_temp = int(input())\n",
        "today_temp = int(input())\n",
        "if today_temp > yesterday_temp:\n",
        "    print(\"Сегодня теплее, чем вчера.\")\n",
        "elif today_temp < yesterday_temp:\n",
        "    print(\"Сегодня холоднее, чем вчера.\")\n",
        "else:\n",
        "    print(\"Сегодня такая же температура, как вчера.\")"
      ]
    },
    {
      "cell_type": "markdown",
      "id": "a525713a",
      "metadata": {
        "id": "a525713a"
      },
      "source": [
        "## Пример 2\n",
        "\n",
        "Пользователь должен ввести первую и последнюю буквы русского алфавита. Ввод производится в двух отдельных строках и в любом регистре.\n",
        "\n",
        "```\n",
        "print(\"Введите первую и последнюю буквы русского алфавита.\")\n",
        "first_letter = input()\n",
        "last_letter = input()\n",
        "if (first_letter == \"а\" or first_letter == \"А\") and (\n",
        "        last_letter == \"я\" or last_letter == \"Я\"):\n",
        "    print(\"Верно.\")\n",
        "else:\n",
        "    print(\"Неверно.\")\n",
        "```    \n",
        "\n",
        "\n",
        "Ниже выполните данный пример"
      ]
    },
    {
      "cell_type": "code",
      "execution_count": 4,
      "id": "fe3ee7bc",
      "metadata": {
        "colab": {
          "base_uri": "https://localhost:8080/"
        },
        "id": "fe3ee7bc",
        "outputId": "ddaccb38-29cf-4ce4-f089-8fea015753e1"
      },
      "outputs": [
        {
          "output_type": "stream",
          "name": "stdout",
          "text": [
            "Введите первую и последнюю буквы русского алфавита.\n",
            "а\n",
            "я\n",
            "Верно.\n"
          ]
        }
      ],
      "source": [
        "print(\"Введите первую и последнюю буквы русского алфавита.\")\n",
        "first_letter = input()\n",
        "last_letter = input()\n",
        "if (first_letter == \"а\" or first_letter == \"А\") and (\n",
        "        last_letter == \"я\" or last_letter == \"Я\"):\n",
        "    print(\"Верно.\")\n",
        "else:\n",
        "    print(\"Неверно.\")\n",
        ""
      ]
    },
    {
      "cell_type": "markdown",
      "id": "a7cda579",
      "metadata": {
        "id": "a7cda579"
      },
      "source": [
        "## Пример 3\n",
        "\n",
        "Проверим, что во введённой строке встречается корень «добр» (для слов «добрый», «доброе» и подобных):\n",
        "\n",
        "```\n",
        "text = input()\n",
        "if \"добр\" in text:\n",
        "    print(\"Встретилось 'доброе' слово.\")\n",
        "else:\n",
        "    print(\"Добрых слов не найдено.\")\n",
        "```\n",
        "\n",
        "Ниже выполните данный пример"
      ]
    },
    {
      "cell_type": "code",
      "execution_count": 5,
      "id": "10cd887f",
      "metadata": {
        "colab": {
          "base_uri": "https://localhost:8080/"
        },
        "id": "10cd887f",
        "outputId": "a486289e-0d93-4046-e940-dba990f01c7e"
      },
      "outputs": [
        {
          "output_type": "stream",
          "name": "stdout",
          "text": [
            "доброта\n",
            "Встретилось 'доброе' слово.\n"
          ]
        }
      ],
      "source": [
        "text = input()\n",
        "if \"добр\" in text:\n",
        "    print(\"Встретилось 'доброе' слово.\")\n",
        "else:\n",
        "    print(\"Добрых слов не найдено.\")\n",
        ""
      ]
    },
    {
      "cell_type": "markdown",
      "id": "42c6a8c6",
      "metadata": {
        "id": "42c6a8c6"
      },
      "source": [
        "## Задание\n",
        "\n",
        "Решите приведенные задачи с использованием условного оператора. Числа A,B,C нужно ввести с клавиатуры.\n",
        "\n",
        "1. Дано целое число A. Проверить истинность высказывания: «Число A является положительным».\n",
        "2. Дано целое число A. Проверить истинность высказывания: «Число A является нечетным».\n",
        "3. Дано целое число A. Проверить истинность высказывания: «Число A является четным».\n",
        "4. Даны два целых числа: A, B. Проверить истинность высказывания: «Справедливы неравенства A > 2 и B ≤ 3».\n",
        "4. Даны два целых числа: A, B. Проверить истинность высказывания: «Справедливы неравенства A ≥ 0 или B < –2».\n",
        "4. Даны три целых числа: A, B, C. Проверить истинность высказыва-ния: «Справедливо двойное неравенство A < B < C».\n",
        "4. Даны три целых числа: A, B, C. Проверить истинность высказыва-ния: «Число B находится между числами A и C».\n",
        "\n",
        "Пример решения задания 1:\n",
        "\n",
        "```\n",
        "A=int(input(\"A= \"))\n",
        "\n",
        "if A>0:\n",
        "    print(\"положительное\")\n",
        "else:\n",
        "    print(\"не положительное\")\n",
        "```\n"
      ]
    },
    {
      "cell_type": "code",
      "execution_count": 8,
      "id": "c174ae2d",
      "metadata": {
        "colab": {
          "base_uri": "https://localhost:8080/"
        },
        "id": "c174ae2d",
        "outputId": "7d725d17-bdfe-4ed8-d690-406fc7a3deb8"
      },
      "outputs": [
        {
          "output_type": "stream",
          "name": "stdout",
          "text": [
            "A= 18\n",
            "четное\n"
          ]
        }
      ],
      "source": [
        "A=int(input(\"A= \"))\n",
        "\n",
        "if A%2==0:\n",
        "    print(\"четное\")\n",
        "else:\n",
        "    print(\"нечетное\")"
      ]
    },
    {
      "cell_type": "code",
      "source": [
        "A=int(input(\"A= \"))\n",
        "\n",
        "if A%2>0:\n",
        "    print(\"нечетное\")\n",
        "else:\n",
        "    print(\"четное\")"
      ],
      "metadata": {
        "colab": {
          "base_uri": "https://localhost:8080/"
        },
        "id": "IpiKne1-g9iP",
        "outputId": "75077e0b-f0b8-4f92-8a00-d0f1435588f3"
      },
      "id": "IpiKne1-g9iP",
      "execution_count": 10,
      "outputs": [
        {
          "output_type": "stream",
          "name": "stdout",
          "text": [
            "A= 45\n",
            "нечетное\n"
          ]
        }
      ]
    },
    {
      "cell_type": "markdown",
      "source": [
        "Даны два целых числа: A, B. Проверить истинность высказывания: «Справедливы неравенства A > 2 и B ≤ 3»."
      ],
      "metadata": {
        "id": "X7Tt9JHJhQ2F"
      },
      "id": "X7Tt9JHJhQ2F"
    },
    {
      "cell_type": "code",
      "source": [
        "A=int(input(\"A= \"))\n",
        "B=int(input(\"B= \"))\n",
        "\n",
        "if A>2 and B<=3:\n",
        "    print(\"Верно\")\n",
        "else:\n",
        "    print(\"Неверно\")"
      ],
      "metadata": {
        "colab": {
          "base_uri": "https://localhost:8080/"
        },
        "id": "MqSpMJuqhReX",
        "outputId": "caefb020-d904-438c-9d2e-611c88ccd879"
      },
      "id": "MqSpMJuqhReX",
      "execution_count": 15,
      "outputs": [
        {
          "output_type": "stream",
          "name": "stdout",
          "text": [
            "A= 5\n",
            "B= 8\n",
            "Неверно\n"
          ]
        }
      ]
    },
    {
      "cell_type": "markdown",
      "source": [
        "Даны два целых числа: A, B. Проверить истинность высказывания: «Справедливы неравенства A ≥ 0 или B < –2»."
      ],
      "metadata": {
        "id": "twfd6eNTh7Rr"
      },
      "id": "twfd6eNTh7Rr"
    },
    {
      "cell_type": "code",
      "source": [
        "A=int(input(\"A= \"))\n",
        "B=int(input(\"B= \"))\n",
        "\n",
        "if A>=0 and B< -2:\n",
        "    print(\"Верно\")\n",
        "else:\n",
        "    print(\"Неверно\")"
      ],
      "metadata": {
        "colab": {
          "base_uri": "https://localhost:8080/"
        },
        "id": "jUpxbQoIh7u-",
        "outputId": "f1da750d-82c5-47d5-dc1e-894292d74575"
      },
      "id": "jUpxbQoIh7u-",
      "execution_count": 17,
      "outputs": [
        {
          "output_type": "stream",
          "name": "stdout",
          "text": [
            "A= 7\n",
            "B= 9\n",
            "Неверно\n"
          ]
        }
      ]
    },
    {
      "cell_type": "markdown",
      "source": [
        "Даны три целых числа: A, B, C. Проверить истинность высказыва-ния: «Справедливо двойное неравенство A < B < C»."
      ],
      "metadata": {
        "id": "1ZueIWfIiG1g"
      },
      "id": "1ZueIWfIiG1g"
    },
    {
      "cell_type": "code",
      "source": [
        "A=int(input(\"A= \"))\n",
        "B=int(input(\"B= \"))\n",
        "C=int(input(\"C= \"))\n",
        "\n",
        "if A < B < C:\n",
        "    print(\"Верно\")\n",
        "else:\n",
        "    print(\"Неверно\")"
      ],
      "metadata": {
        "colab": {
          "base_uri": "https://localhost:8080/"
        },
        "id": "0VFKD5FziHUc",
        "outputId": "1ce42b04-e34e-4400-d4b2-6a448347335d"
      },
      "id": "0VFKD5FziHUc",
      "execution_count": 18,
      "outputs": [
        {
          "output_type": "stream",
          "name": "stdout",
          "text": [
            "A= 8\n",
            "B= 16\n",
            "C= 3\n",
            "Неверно\n"
          ]
        }
      ]
    },
    {
      "cell_type": "markdown",
      "source": [
        "Даны три целых числа: A, B, C. Проверить истинность высказыва-ния: «Число B находится между числами A и C»."
      ],
      "metadata": {
        "id": "0YR1UnoTiu9u"
      },
      "id": "0YR1UnoTiu9u"
    },
    {
      "cell_type": "code",
      "source": [
        "A=int(input(\"A= \"))\n",
        "B=int(input(\"B= \"))\n",
        "C=int(input(\"C= \"))\n",
        "\n",
        "if A > B > C or A < B < C:\n",
        "    print(\"Верно\")\n",
        "else:\n",
        "    print(\"Неверно\")"
      ],
      "metadata": {
        "colab": {
          "base_uri": "https://localhost:8080/"
        },
        "id": "sLwuoNKxivW4",
        "outputId": "5b3cc1f6-59c8-44ed-a78d-1798ea16a8a0"
      },
      "id": "sLwuoNKxivW4",
      "execution_count": 19,
      "outputs": [
        {
          "output_type": "stream",
          "name": "stdout",
          "text": [
            "A= 6\n",
            "B= 7\n",
            "C= 8\n",
            "Верно\n"
          ]
        }
      ]
    }
  ],
  "metadata": {
    "kernelspec": {
      "display_name": "Python 3 (ipykernel)",
      "language": "python",
      "name": "python3"
    },
    "language_info": {
      "codemirror_mode": {
        "name": "ipython",
        "version": 3
      },
      "file_extension": ".py",
      "mimetype": "text/x-python",
      "name": "python",
      "nbconvert_exporter": "python",
      "pygments_lexer": "ipython3",
      "version": "3.9.13"
    },
    "colab": {
      "provenance": []
    }
  },
  "nbformat": 4,
  "nbformat_minor": 5
}