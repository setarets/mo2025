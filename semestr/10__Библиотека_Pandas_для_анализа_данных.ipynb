{
  "cells": [
    {
      "cell_type": "markdown",
      "metadata": {
        "ExecuteTime": {
          "end_time": "2017-05-14T12:45:01.548143",
          "start_time": "2017-05-14T12:45:01.544684"
        },
        "id": "KZVk8yZ_Z8Ns"
      },
      "source": [
        "# Анализ данных с Pandas"
      ]
    },
    {
      "cell_type": "code",
      "execution_count": null,
      "metadata": {
        "ExecuteTime": {
          "end_time": "2018-06-22T11:03:09.115996Z",
          "start_time": "2018-06-22T11:03:09.075870Z"
        },
        "id": "9XoL8YNoZ8Nw"
      },
      "outputs": [],
      "source": [
        "import pandas as pd\n",
        "import numpy as np"
      ]
    },
    {
      "cell_type": "markdown",
      "metadata": {
        "id": "w98quSiKZ8Ny"
      },
      "source": [
        "## Структура"
      ]
    },
    {
      "cell_type": "code",
      "execution_count": null,
      "metadata": {
        "ExecuteTime": {
          "end_time": "2017-07-18T14:34:50.278547",
          "start_time": "2017-07-18T14:34:50.267946"
        },
        "id": "Q0WqXkuUZ8Nz"
      },
      "outputs": [],
      "source": [
        "q = pd.DataFrame(data={'a': ['abc', 'bcd', 'def'], 'b': [1,2,3], 'c': [100, 300, 200]}, index=[8,9,10])\n",
        "q"
      ]
    },
    {
      "cell_type": "code",
      "execution_count": null,
      "metadata": {
        "ExecuteTime": {
          "end_time": "2017-07-18T14:34:50.361898",
          "start_time": "2017-07-18T14:34:50.354925"
        },
        "id": "gcNdEgJWZ8Nz"
      },
      "outputs": [],
      "source": [
        "q.index"
      ]
    },
    {
      "cell_type": "code",
      "execution_count": null,
      "metadata": {
        "ExecuteTime": {
          "end_time": "2017-07-18T14:34:50.631748",
          "start_time": "2017-07-18T14:34:50.627202"
        },
        "id": "1XBzxntxZ8N0"
      },
      "outputs": [],
      "source": [
        "q.columns"
      ]
    },
    {
      "cell_type": "code",
      "execution_count": null,
      "metadata": {
        "ExecuteTime": {
          "end_time": "2017-07-18T14:34:50.738798",
          "start_time": "2017-07-18T14:34:50.727861"
        },
        "id": "xayyT9QnZ8N1"
      },
      "outputs": [],
      "source": [
        "q.a"
      ]
    },
    {
      "cell_type": "code",
      "execution_count": null,
      "metadata": {
        "ExecuteTime": {
          "end_time": "2017-07-18T14:34:50.880436",
          "start_time": "2017-07-18T14:34:50.875460"
        },
        "id": "684ggAS8Z8N2"
      },
      "outputs": [],
      "source": [
        "q['a']"
      ]
    },
    {
      "cell_type": "code",
      "execution_count": null,
      "metadata": {
        "ExecuteTime": {
          "end_time": "2017-07-18T14:34:51.054256",
          "start_time": "2017-07-18T14:34:51.050052"
        },
        "id": "DtUQJh6VZ8N2"
      },
      "outputs": [],
      "source": [
        "type(q.a)"
      ]
    },
    {
      "cell_type": "code",
      "execution_count": null,
      "metadata": {
        "ExecuteTime": {
          "end_time": "2017-07-18T14:34:51.291890",
          "start_time": "2017-07-18T14:34:51.273436"
        },
        "id": "hpASleBKZ8N3"
      },
      "outputs": [],
      "source": [
        "q[:2]"
      ]
    },
    {
      "cell_type": "code",
      "execution_count": null,
      "metadata": {
        "ExecuteTime": {
          "end_time": "2017-07-18T14:34:51.495244",
          "start_time": "2017-07-18T14:34:51.485800"
        },
        "id": "uUZ1nDfoZ8N3"
      },
      "outputs": [],
      "source": [
        "q[ ['a', 'b'] ]"
      ]
    },
    {
      "cell_type": "code",
      "execution_count": null,
      "metadata": {
        "ExecuteTime": {
          "end_time": "2017-07-18T14:34:51.543569",
          "start_time": "2017-07-18T14:34:51.532338"
        },
        "id": "BHezOmz3Z8N4"
      },
      "outputs": [],
      "source": [
        "q[['a', 'b']][:2]"
      ]
    },
    {
      "cell_type": "markdown",
      "metadata": {
        "id": "HRtHChHaZ8N4"
      },
      "source": [
        "## Чтение и просмотр"
      ]
    },
    {
      "cell_type": "markdown",
      "metadata": {
        "id": "M-24sK8cZ8N5"
      },
      "source": [
        "Данные соцопросов Census Income, с которыми будем работать:"
      ]
    },
    {
      "cell_type": "code",
      "execution_count": null,
      "metadata": {
        "ExecuteTime": {
          "end_time": "2018-06-22T11:03:13.273900Z",
          "start_time": "2018-06-22T11:03:13.116041Z"
        },
        "id": "y6yshbkAZ8N5"
      },
      "outputs": [],
      "source": [
        "df = pd.read_csv('https://raw.githubusercontent.com/yakushinav/omo/main/data/adult_data.csv')"
      ]
    },
    {
      "cell_type": "markdown",
      "metadata": {
        "id": "I68WnWO-Z8N5"
      },
      "source": [
        "* __age__: continuous.\n",
        "* __workclass__: Private, Self-emp-not-inc, Self-emp-inc, Federal-gov, Local-gov, State-gov, Without-pay, Never-worked.\n",
        "* __fnlwgt__: continuous.\n",
        "* __education__: Bachelors, Some-college, 11th, HS-grad, Prof-school, Assoc-acdm, Assoc-voc, 9th, 7th-8th, 12th, Masters, 1st-4th, 10th, Doctorate, 5th-6th, Preschool.\n",
        "* __education-num__: continuous.\n",
        "* __marital-status__: Married-civ-spouse, Divorced, Never-married, Separated, Widowed, Married-spouse-absent, Married-AF-spouse.\n",
        "* __occupation__: Tech-support, Craft-repair, Other-service, Sales, Exec-managerial, Prof-specialty, Handlers-cleaners, Machine-op-inspct, Adm-clerical, Farming-fishing, Transport-moving, Priv-house-serv, Protective-serv, Armed-Forces.\n",
        "* __relationship__: Wife, Own-child, Husband, Not-in-family, Other-relative, Unmarried.\n",
        "* __race__: White, Asian-Pac-Islander, Amer-Indian-Eskimo, Other, Black.\n",
        "* __sex__: Female, Male.\n",
        "* __capital-gain__: continuous.\n",
        "* __capital-loss__: continuous.\n",
        "* __hours-per-week__: continuous.\n",
        "* __native-country__: United-States, Cambodia, England, Puerto-Rico, Canada, Germany, Outlying-US(Guam-USVI-etc), India, Japan, Greece, South, China, Cuba, Iran, Honduras, Philippines, Italy, Poland, Jamaica, Vietnam, Mexico, Portugal, Ireland, France, Dominican-Republic, Laos, Ecuador, Taiwan, Haiti, Columbia, Hungary, Guatemala, Nicaragua, Scotland, Thailand, Yugoslavia, El-Salvador, Trinadad&Tobago, Peru, Hong, Holand-Netherlands."
      ]
    },
    {
      "cell_type": "markdown",
      "metadata": {
        "id": "m14TkzDlZ8N6"
      },
      "source": [
        "`head()` показывает первые 5 строк датафрейма.\n",
        "\n",
        "`tail()` - последние 5.\n",
        "\n",
        "`head(N)` показывает первые N строк датафрейма.\n",
        "\n",
        "`tail(N)` - последние N."
      ]
    },
    {
      "cell_type": "code",
      "execution_count": null,
      "metadata": {
        "ExecuteTime": {
          "end_time": "2018-06-22T11:03:16.944327Z",
          "start_time": "2018-06-22T11:03:16.882450Z"
        },
        "id": "er7b-RJKZ8N7"
      },
      "outputs": [],
      "source": [
        "df.head(3)"
      ]
    },
    {
      "cell_type": "markdown",
      "metadata": {
        "id": "KZOxIeMDZ8N7"
      },
      "source": [
        "## Общее"
      ]
    },
    {
      "cell_type": "markdown",
      "metadata": {
        "id": "bC5Y-rTpZ8N8"
      },
      "source": [
        "Размер:"
      ]
    },
    {
      "cell_type": "code",
      "execution_count": null,
      "metadata": {
        "ExecuteTime": {
          "end_time": "2017-07-18T14:34:52.477827",
          "start_time": "2017-07-18T14:34:52.473160"
        },
        "id": "rEk3S90SZ8N8"
      },
      "outputs": [],
      "source": [
        "df.shape"
      ]
    },
    {
      "cell_type": "markdown",
      "metadata": {
        "id": "udWtTIiXZ8N8"
      },
      "source": [
        "Столбцы:"
      ]
    },
    {
      "cell_type": "code",
      "execution_count": null,
      "metadata": {
        "ExecuteTime": {
          "end_time": "2017-07-18T14:34:53.004876",
          "start_time": "2017-07-18T14:34:52.997890"
        },
        "id": "hUG8vELJZ8N9"
      },
      "outputs": [],
      "source": [
        "df.columns"
      ]
    },
    {
      "cell_type": "markdown",
      "metadata": {
        "id": "mIbcQQItZ8N9"
      },
      "source": [
        "Информация содержит данные о типе колонок, степени их заполненности (в нашем случае пропусков в данных нет), типе данных каждой из колонок, а также потреблении памяти:"
      ]
    },
    {
      "cell_type": "code",
      "execution_count": null,
      "metadata": {
        "ExecuteTime": {
          "end_time": "2017-07-18T14:34:53.577031",
          "start_time": "2017-07-18T14:34:53.547119"
        },
        "id": "REiyRzeaZ8N9"
      },
      "outputs": [],
      "source": [
        "df.info()"
      ]
    },
    {
      "cell_type": "markdown",
      "metadata": {
        "id": "5d4zJoezZ8N-"
      },
      "source": [
        "Метод `describe` содержит основные статистики по числовым столбцам данных:\n",
        "* количество\n",
        "* среднее\n",
        "* среднеквадратичное отклонение\n",
        "* минимум, максимум\n",
        "* медиану\n",
        "* первый и третий квартили"
      ]
    },
    {
      "cell_type": "code",
      "execution_count": null,
      "metadata": {
        "ExecuteTime": {
          "end_time": "2017-07-18T14:34:54.704408",
          "start_time": "2017-07-18T14:34:54.668130"
        },
        "id": "anft2yaWZ8N-"
      },
      "outputs": [],
      "source": [
        "df.describe()"
      ]
    },
    {
      "cell_type": "markdown",
      "metadata": {
        "id": "XdXnWg_EZ8N-"
      },
      "source": [
        "Если хочется посмотреть и на нечисловые признаки, то нужно указать их тип в параметре `include`. Всего есть совсем немного основных:\n",
        "* `bool` - логический\n",
        "* `object` - общий нечисловой, в большинстве случаев это строки\n",
        "* `numeric` - числовой, включающий как числа с плавающей запятой, так и целые"
      ]
    },
    {
      "cell_type": "code",
      "execution_count": null,
      "metadata": {
        "ExecuteTime": {
          "end_time": "2017-07-18T14:34:56.199787",
          "start_time": "2017-07-18T14:34:56.074485"
        },
        "id": "FcUbbl2yZ8N_"
      },
      "outputs": [],
      "source": [
        "df.describe(include=['object', 'bool'])"
      ]
    },
    {
      "cell_type": "markdown",
      "metadata": {
        "ExecuteTime": {
          "end_time": "2017-05-14T13:22:09.347929",
          "start_time": "2017-05-14T13:22:09.333417"
        },
        "id": "ef2GHN9oZ8N_"
      },
      "source": [
        "Полезным методом является `value_counts()`, считающим распределение данных по категориям:"
      ]
    },
    {
      "cell_type": "code",
      "execution_count": null,
      "metadata": {
        "ExecuteTime": {
          "end_time": "2017-07-18T14:34:58.891272",
          "start_time": "2017-07-18T14:34:58.879318"
        },
        "id": "ZEWsBs33Z8N_"
      },
      "outputs": [],
      "source": [
        "df.education.value_counts()"
      ]
    },
    {
      "cell_type": "markdown",
      "metadata": {
        "ExecuteTime": {
          "end_time": "2017-05-14T13:22:40.773646",
          "start_time": "2017-05-14T13:22:40.769333"
        },
        "id": "Qyn2TMgbZ8OA"
      },
      "source": [
        "Для отображения в долях существует флажок `normalize`:"
      ]
    },
    {
      "cell_type": "code",
      "execution_count": null,
      "metadata": {
        "ExecuteTime": {
          "end_time": "2017-07-18T14:35:01.425746",
          "start_time": "2017-07-18T14:35:01.413629"
        },
        "id": "2fGyUVeeZ8OA"
      },
      "outputs": [],
      "source": [
        "df.education.value_counts(normalize=True)"
      ]
    },
    {
      "cell_type": "markdown",
      "metadata": {
        "id": "2ikuD70GZ8OB"
      },
      "source": [
        "Можно строить простые диаграммы"
      ]
    },
    {
      "cell_type": "code",
      "execution_count": null,
      "metadata": {
        "ExecuteTime": {
          "end_time": "2017-07-18T14:35:02.999824",
          "start_time": "2017-07-18T14:35:02.677395"
        },
        "id": "fF0Xh7uuZ8OB"
      },
      "outputs": [],
      "source": [
        "df.education.value_counts().plot.bar(); #(kind='bar');"
      ]
    },
    {
      "cell_type": "markdown",
      "metadata": {
        "id": "-v1aESReZ8OB"
      },
      "source": [
        "## Индексация и фильтры"
      ]
    },
    {
      "cell_type": "markdown",
      "metadata": {
        "ExecuteTime": {
          "end_time": "2017-05-14T13:35:25.120034",
          "start_time": "2017-05-14T13:35:25.114342"
        },
        "id": "JM2wIr5-Z8OB"
      },
      "source": [
        "Весь датафрейм:"
      ]
    },
    {
      "cell_type": "code",
      "execution_count": null,
      "metadata": {
        "ExecuteTime": {
          "end_time": "2017-07-18T14:35:05.037890",
          "start_time": "2017-07-18T14:35:05.034722"
        },
        "id": "-xrpyC-oZ8OC"
      },
      "outputs": [],
      "source": [
        "print(df)"
      ]
    },
    {
      "cell_type": "markdown",
      "metadata": {
        "id": "u9whMJF-Z8OC"
      },
      "source": [
        "Только те, чей возраст меньше 25 лет, но больший 10:"
      ]
    },
    {
      "cell_type": "code",
      "execution_count": null,
      "metadata": {
        "ExecuteTime": {
          "end_time": "2017-07-18T14:35:40.388914",
          "start_time": "2017-07-18T14:35:40.382685"
        },
        "id": "HBDe_Y4IZ8OD"
      },
      "outputs": [],
      "source": [
        "df[(df.age < 25) & (df.age > 10)]"
      ]
    },
    {
      "cell_type": "markdown",
      "metadata": {
        "id": "h1NdoDpFZ8OD"
      },
      "source": [
        "Только те, кто получают больше 50 000$:"
      ]
    },
    {
      "cell_type": "code",
      "execution_count": null,
      "metadata": {
        "ExecuteTime": {
          "end_time": "2017-07-18T14:35:55.719580",
          "start_time": "2017-07-18T14:35:55.710507"
        },
        "id": "GfQtvXtvZ8OD"
      },
      "outputs": [],
      "source": [
        "df[df.salary == '>50K']"
      ]
    },
    {
      "cell_type": "code",
      "execution_count": null,
      "metadata": {
        "ExecuteTime": {
          "end_time": "2017-07-18T14:35:56.001011",
          "start_time": "2017-07-18T14:35:55.982691"
        },
        "scrolled": true,
        "id": "J7yXin0-Z8OE"
      },
      "outputs": [],
      "source": [
        "df[df.salary == '<=50K'].sex.value_counts(normalize=False)"
      ]
    },
    {
      "cell_type": "code",
      "execution_count": null,
      "metadata": {
        "ExecuteTime": {
          "end_time": "2017-07-18T14:35:56.290344",
          "start_time": "2017-07-18T14:35:56.269597"
        },
        "id": "N-vGTxjuZ8OE"
      },
      "outputs": [],
      "source": [
        "df[df.salary == '>50K'].sex.value_counts(normalize=True)"
      ]
    },
    {
      "cell_type": "markdown",
      "metadata": {
        "id": "5gsLTOSsZ8OE"
      },
      "source": [
        "## Сортировка"
      ]
    },
    {
      "cell_type": "code",
      "execution_count": null,
      "metadata": {
        "ExecuteTime": {
          "end_time": "2017-07-18T14:35:58.375089",
          "start_time": "2017-07-18T14:35:58.350856"
        },
        "id": "RhbFpaHOZ8OF"
      },
      "outputs": [],
      "source": [
        "df.sort_values(by=['education'])"
      ]
    },
    {
      "cell_type": "markdown",
      "metadata": {
        "id": "QOfQYZ2uZ8OF"
      },
      "source": [
        "Отсортируем сначала по полу, внутри пола - по возрасту, но в обратном порядке"
      ]
    },
    {
      "cell_type": "code",
      "execution_count": null,
      "metadata": {
        "ExecuteTime": {
          "end_time": "2017-07-18T14:36:05.992059",
          "start_time": "2017-07-18T14:36:05.980369"
        },
        "id": "clV2LBoaZ8OF"
      },
      "outputs": [],
      "source": [
        "df.sort_values(by=['sex', 'age'], ascending=[True, False])"
      ]
    },
    {
      "cell_type": "markdown",
      "metadata": {
        "id": "r4yIt99tZ8OG"
      },
      "source": [
        "## Применение функций"
      ]
    },
    {
      "cell_type": "markdown",
      "metadata": {
        "id": "eop9_uTQZ8OG"
      },
      "source": [
        "Применить функцию к каждому столбцу или каждой строке можно с помощью `apply`:"
      ]
    },
    {
      "cell_type": "code",
      "execution_count": null,
      "metadata": {
        "ExecuteTime": {
          "end_time": "2017-07-18T14:36:34.986381",
          "start_time": "2017-07-18T14:36:34.978370"
        },
        "id": "uPaF8mwNZ8OG"
      },
      "outputs": [],
      "source": [
        "t = pd.DataFrame(data = {'a': [1,2,3], 'b': [4,5,6]})\n",
        "t"
      ]
    },
    {
      "cell_type": "code",
      "execution_count": null,
      "metadata": {
        "ExecuteTime": {
          "end_time": "2017-07-18T14:36:42.624850",
          "start_time": "2017-07-18T14:36:42.620662"
        },
        "id": "UI4zCdW_Z8OH"
      },
      "outputs": [],
      "source": [
        "t['c'] = t.apply(lambda row: row['a'] + row['b'], axis=1) # построчно"
      ]
    },
    {
      "cell_type": "code",
      "execution_count": null,
      "metadata": {
        "ExecuteTime": {
          "end_time": "2017-07-18T14:36:44.009929",
          "start_time": "2017-07-18T14:36:44.002577"
        },
        "id": "BasTbZN5Z8OH"
      },
      "outputs": [],
      "source": [
        "t"
      ]
    },
    {
      "cell_type": "markdown",
      "metadata": {
        "id": "K3eQU42_Z8OI"
      },
      "source": [
        "Применение функции к каждой __ячейке__ реализовывается с помощью `map`:"
      ]
    },
    {
      "cell_type": "code",
      "execution_count": null,
      "metadata": {
        "ExecuteTime": {
          "end_time": "2017-07-18T14:36:48.825233",
          "start_time": "2017-07-18T14:36:48.817222"
        },
        "id": "Ww8hL7_UZ8OI"
      },
      "outputs": [],
      "source": [
        "renaming = {'>50K': 1, '<=50K': 0}\n",
        "df.salary = df.salary.map(renaming)"
      ]
    },
    {
      "cell_type": "code",
      "execution_count": null,
      "metadata": {
        "ExecuteTime": {
          "end_time": "2017-07-18T14:36:49.372850",
          "start_time": "2017-07-18T14:36:49.366600"
        },
        "id": "pprgtww4Z8OJ"
      },
      "outputs": [],
      "source": [
        "df.salary.value_counts()"
      ]
    },
    {
      "cell_type": "code",
      "execution_count": null,
      "metadata": {
        "ExecuteTime": {
          "end_time": "2017-07-18T14:36:51.212923",
          "start_time": "2017-07-18T14:36:51.203576"
        },
        "id": "OdvpbfjWZ8OJ"
      },
      "outputs": [],
      "source": [
        "renaming = {1:'> 50K', 0: '<= 50K'}\n",
        "df.salary = df.salary.map(renaming)"
      ]
    },
    {
      "cell_type": "markdown",
      "metadata": {
        "id": "Wbn_bVGZZ8OJ"
      },
      "source": [
        "__apply__ к нескольким столбцам сразу называется __applymap__:"
      ]
    },
    {
      "cell_type": "code",
      "execution_count": null,
      "metadata": {
        "ExecuteTime": {
          "end_time": "2017-07-18T14:37:27.760174",
          "start_time": "2017-07-18T14:37:27.727952"
        },
        "id": "wV1vQ2KBZ8OJ"
      },
      "outputs": [],
      "source": [
        "df['sex'] = df['sex'].apply(lambda x: x.lower())\n",
        "df['relationship'] = df['relationship'].apply(lambda x: x.lower())"
      ]
    },
    {
      "cell_type": "code",
      "execution_count": null,
      "metadata": {
        "ExecuteTime": {
          "end_time": "2017-07-18T14:37:28.009172",
          "start_time": "2017-07-18T14:37:27.927060"
        },
        "id": "PYNJRjLGZ8OK"
      },
      "outputs": [],
      "source": [
        "# same as above:\n",
        "cols = ['sex', 'relationship']\n",
        "df[cols] = df[cols].applymap(lambda x: x.lower())"
      ]
    },
    {
      "cell_type": "markdown",
      "metadata": {
        "id": "OqrOD11tZ8OK"
      },
      "source": [
        "У строковых столбцов есть хитрое поле __str__, которое возвращает наружу как будто строку (синтаксис тот же), но применяет к каждому элементу столбца.\n",
        "\n",
        "При больших объемах данных это будет быстрее, потому что `.str` под капотом векторизует операции со строками. Для дат можно использовать `.dt`."
      ]
    },
    {
      "cell_type": "code",
      "execution_count": null,
      "metadata": {
        "ExecuteTime": {
          "end_time": "2017-07-18T14:38:16.931878",
          "start_time": "2017-07-18T14:38:16.915864"
        },
        "id": "A2FGh487Z8OL"
      },
      "outputs": [],
      "source": [
        "df.sex.apply(lambda x: x.upper());"
      ]
    },
    {
      "cell_type": "code",
      "execution_count": null,
      "metadata": {
        "ExecuteTime": {
          "end_time": "2017-07-18T14:38:33.278060",
          "start_time": "2017-07-18T14:38:33.261524"
        },
        "id": "acW6105CZ8OL"
      },
      "outputs": [],
      "source": [
        "# same as above\n",
        "df.sex.str.upper();"
      ]
    },
    {
      "cell_type": "markdown",
      "metadata": {
        "id": "4LNYbMtFZ8OL"
      },
      "source": [
        "## Дубликаты"
      ]
    },
    {
      "cell_type": "code",
      "execution_count": null,
      "metadata": {
        "ExecuteTime": {
          "end_time": "2017-07-18T14:38:38.794641",
          "start_time": "2017-07-18T14:38:38.783166"
        },
        "id": "izVeOUpqZ8OL"
      },
      "outputs": [],
      "source": [
        "q = pd.DataFrame(data={'a': [1,2,3,1,1], 'b': [1,2,3,2,1], 'c':[10,20,30,40,40]})\n",
        "q"
      ]
    },
    {
      "cell_type": "code",
      "execution_count": null,
      "metadata": {
        "ExecuteTime": {
          "end_time": "2017-07-18T14:38:40.967404",
          "start_time": "2017-07-18T14:38:40.961095"
        },
        "id": "tDro7y4vZ8OM"
      },
      "outputs": [],
      "source": [
        "q.duplicated(['a'])"
      ]
    },
    {
      "cell_type": "code",
      "execution_count": null,
      "metadata": {
        "ExecuteTime": {
          "end_time": "2017-07-18T14:38:57.771235",
          "start_time": "2017-07-18T14:38:57.765355"
        },
        "id": "wRipePVvZ8OM"
      },
      "outputs": [],
      "source": [
        "q.duplicated(['a', 'b']) # - уже оценивает кортежи значений из нескольких колонок"
      ]
    },
    {
      "cell_type": "code",
      "execution_count": null,
      "metadata": {
        "ExecuteTime": {
          "end_time": "2017-07-18T14:38:59.235228",
          "start_time": "2017-07-18T14:38:59.225541"
        },
        "id": "YFkEdrhVZ8OM"
      },
      "outputs": [],
      "source": [
        "q.drop_duplicates(subset=['a'])"
      ]
    },
    {
      "cell_type": "code",
      "execution_count": null,
      "metadata": {
        "ExecuteTime": {
          "end_time": "2017-07-18T14:39:02.006730",
          "start_time": "2017-07-18T14:39:01.996516"
        },
        "id": "zawkTVkiZ8ON"
      },
      "outputs": [],
      "source": [
        "q.drop_duplicates(subset=['a', 'b'])"
      ]
    },
    {
      "cell_type": "markdown",
      "metadata": {
        "id": "URhPXsrUZ8ON"
      },
      "source": [
        "## Группировка"
      ]
    },
    {
      "cell_type": "code",
      "execution_count": null,
      "metadata": {
        "ExecuteTime": {
          "end_time": "2017-07-18T14:39:05.406107",
          "start_time": "2017-07-18T14:39:05.402838"
        },
        "id": "zMnQ7l5hZ8ON"
      },
      "outputs": [],
      "source": [
        "df.groupby(['salary']);"
      ]
    },
    {
      "cell_type": "markdown",
      "metadata": {
        "id": "vVSgPAmbZ8OO"
      },
      "source": [
        "__Важно__: groupby-объекты - не копии частей датафрейма!"
      ]
    },
    {
      "cell_type": "code",
      "execution_count": null,
      "metadata": {
        "ExecuteTime": {
          "end_time": "2017-07-18T14:39:07.370243",
          "start_time": "2017-07-18T14:39:07.085856"
        },
        "id": "OhxE5Z6GZ8OO"
      },
      "outputs": [],
      "source": [
        "df.groupby(['salary']).describe(include=['object', 'bool'])"
      ]
    },
    {
      "cell_type": "code",
      "execution_count": null,
      "metadata": {
        "ExecuteTime": {
          "end_time": "2017-07-18T14:39:09.663826",
          "start_time": "2017-07-18T14:39:09.658305"
        },
        "id": "CiOTHDbwZ8OO"
      },
      "outputs": [],
      "source": [
        "df.groupby('salary')"
      ]
    },
    {
      "cell_type": "code",
      "execution_count": null,
      "metadata": {
        "ExecuteTime": {
          "end_time": "2017-07-18T14:39:11.415229",
          "start_time": "2017-07-18T14:39:11.402367"
        },
        "id": "mCUzL9e3Z8OP"
      },
      "outputs": [],
      "source": [
        "df.sex.value_counts()"
      ]
    },
    {
      "cell_type": "code",
      "execution_count": null,
      "metadata": {
        "ExecuteTime": {
          "end_time": "2017-07-18T14:39:12.953141",
          "start_time": "2017-07-18T14:39:12.704291"
        },
        "id": "FxZHE8arZ8OP"
      },
      "outputs": [],
      "source": [
        "df.groupby('salary').sex.value_counts().plot.bar();"
      ]
    },
    {
      "cell_type": "markdown",
      "metadata": {
        "id": "N-B8bi4lZ8OP"
      },
      "source": [
        "## Таблицы сопряженности и melt"
      ]
    },
    {
      "cell_type": "markdown",
      "metadata": {
        "ExecuteTime": {
          "end_time": "2017-05-14T15:50:16.958656",
          "start_time": "2017-05-14T15:50:16.955760"
        },
        "id": "jAuo7hEVZ8OQ"
      },
      "source": [
        "### Таблицы сопряженности"
      ]
    },
    {
      "cell_type": "code",
      "execution_count": null,
      "metadata": {
        "ExecuteTime": {
          "end_time": "2017-07-18T14:45:10.866028",
          "start_time": "2017-07-18T14:45:10.573951"
        },
        "id": "8BJSLZSDZ8OQ"
      },
      "outputs": [],
      "source": [
        "pd.crosstab(df.salary, df.sex).plot(kind='bar');"
      ]
    },
    {
      "cell_type": "code",
      "execution_count": null,
      "metadata": {
        "ExecuteTime": {
          "end_time": "2017-07-18T14:45:10.890460",
          "start_time": "2017-07-18T14:45:10.867905"
        },
        "id": "6cv5blE-Z8OQ"
      },
      "outputs": [],
      "source": [
        "pd.crosstab(df.salary, df.sex, normalize=True)"
      ]
    },
    {
      "cell_type": "code",
      "execution_count": null,
      "metadata": {
        "ExecuteTime": {
          "end_time": "2017-07-18T14:45:11.364782",
          "start_time": "2017-07-18T14:45:10.914105"
        },
        "scrolled": true,
        "id": "8RfOMbU8Z8OR"
      },
      "outputs": [],
      "source": [
        "pd.crosstab(df.salary, df['marital-status'], normalize=True).plot.bar();"
      ]
    },
    {
      "cell_type": "markdown",
      "metadata": {
        "id": "uZkong1LZ8OR"
      },
      "source": [
        "### Melt - превращение столбцов в строки"
      ]
    },
    {
      "cell_type": "code",
      "execution_count": null,
      "metadata": {
        "ExecuteTime": {
          "end_time": "2017-07-18T14:45:13.860322",
          "start_time": "2017-07-18T14:45:13.849796"
        },
        "id": "pi29mCqbZ8OR"
      },
      "outputs": [],
      "source": [
        "t = pd.DataFrame(data={'name': ['PC', 'PlayStation4'],\n",
        "                   '1W-2014': [100, 300],\n",
        "                   '2W-2014': [150, 350]})\n",
        "t"
      ]
    },
    {
      "cell_type": "code",
      "execution_count": null,
      "metadata": {
        "ExecuteTime": {
          "end_time": "2017-07-18T14:45:14.078250",
          "start_time": "2017-07-18T14:45:14.068143"
        },
        "id": "kjWCQgcKZ8OS"
      },
      "outputs": [],
      "source": [
        "t2 = pd.melt(t, id_vars=['name'], value_name='cost', var_name='timestamp')\n",
        "t2"
      ]
    },
    {
      "cell_type": "markdown",
      "metadata": {
        "id": "vsf8WFOOZ8OS"
      },
      "source": [
        "## Изменение таблиц"
      ]
    },
    {
      "cell_type": "code",
      "execution_count": null,
      "metadata": {
        "ExecuteTime": {
          "end_time": "2017-07-18T14:45:18.697565",
          "start_time": "2017-07-18T14:45:18.677824"
        },
        "id": "ojJG55ToZ8OS"
      },
      "outputs": [],
      "source": [
        "df.head(2)"
      ]
    },
    {
      "cell_type": "markdown",
      "metadata": {
        "id": "ujL7AvoKZ8OT"
      },
      "source": [
        "### Добавление нового столбца"
      ]
    },
    {
      "cell_type": "code",
      "execution_count": null,
      "metadata": {
        "ExecuteTime": {
          "end_time": "2017-07-18T14:45:21.278023",
          "start_time": "2017-07-18T14:45:21.274271"
        },
        "id": "vgTD3FrQZ8OT"
      },
      "outputs": [],
      "source": [
        "df['working_days'] = df['hours-per-week'] / 8.0"
      ]
    },
    {
      "cell_type": "code",
      "execution_count": null,
      "metadata": {
        "ExecuteTime": {
          "end_time": "2017-07-18T14:45:24.704265",
          "start_time": "2017-07-18T14:45:24.683008"
        },
        "id": "Ur-3QJTQZ8OT"
      },
      "outputs": [],
      "source": [
        "df.head(2)"
      ]
    },
    {
      "cell_type": "code",
      "execution_count": null,
      "metadata": {
        "ExecuteTime": {
          "end_time": "2017-07-18T14:45:26.901403",
          "start_time": "2017-07-18T14:45:26.897836"
        },
        "id": "8R1bEW5zZ8OT"
      },
      "outputs": [],
      "source": [
        "df['constant'] = 1"
      ]
    },
    {
      "cell_type": "code",
      "execution_count": null,
      "metadata": {
        "ExecuteTime": {
          "end_time": "2017-07-18T14:45:27.622228",
          "start_time": "2017-07-18T14:45:27.613812"
        },
        "id": "tuw05NBxZ8OU"
      },
      "outputs": [],
      "source": [
        "df = df.assign(anotherConstant = lambda dataframe: dataframe.constant*2)"
      ]
    },
    {
      "cell_type": "code",
      "execution_count": null,
      "metadata": {
        "id": "UpauhM3KZ8OU"
      },
      "outputs": [],
      "source": [
        "df.head(2)"
      ]
    },
    {
      "cell_type": "markdown",
      "metadata": {
        "id": "5QMXKJBlZ8OU"
      },
      "source": [
        "### Удаление строк и столбцов"
      ]
    },
    {
      "cell_type": "code",
      "execution_count": null,
      "metadata": {
        "ExecuteTime": {
          "end_time": "2017-07-18T14:45:31.073715",
          "start_time": "2017-07-18T14:45:31.062933"
        },
        "id": "Z1peF5-wZ8OU"
      },
      "outputs": [],
      "source": [
        "df.drop(['constant', 'anotherConstant'], axis=1, inplace=True)"
      ]
    },
    {
      "cell_type": "markdown",
      "metadata": {
        "id": "Do4cJmP_Z8OV"
      },
      "source": [
        "__NB__: У большинства операторов pandas есть флажок `inplace`. Если он выставлен в `False` (по умолчанию именно так), то изменения, например, как `drop` в примере выше, не будут изменять таблицу, а вернут измененную копию."
      ]
    },
    {
      "cell_type": "code",
      "execution_count": null,
      "metadata": {
        "ExecuteTime": {
          "end_time": "2017-07-18T14:45:35.256137",
          "start_time": "2017-07-18T14:45:35.232619"
        },
        "id": "1TmoQ51LZ8OV"
      },
      "outputs": [],
      "source": [
        "df.drop([1,2]).head(3) # => удаляет строки"
      ]
    },
    {
      "cell_type": "markdown",
      "metadata": {
        "id": "LGT6OZ-QZ8OV"
      },
      "source": [
        "### loc, iloc"
      ]
    },
    {
      "cell_type": "code",
      "execution_count": null,
      "metadata": {
        "ExecuteTime": {
          "end_time": "2017-07-18T14:47:58.938071",
          "start_time": "2017-07-18T14:47:58.932642"
        },
        "id": "tGFO3dWHZ8OW"
      },
      "outputs": [],
      "source": [
        "df.loc[0, 'workclass'] # получение конкретной ячейки по индексу и названию столбца"
      ]
    },
    {
      "cell_type": "code",
      "execution_count": null,
      "metadata": {
        "ExecuteTime": {
          "end_time": "2017-07-18T14:48:21.018773",
          "start_time": "2017-07-18T14:48:21.013115"
        },
        "id": "IqP0NXqEZ8OX"
      },
      "outputs": [],
      "source": [
        "df.iloc[0, 1] # получение конкретной ячейки по номеру строки и номеру столбца, вне зависимости от индексов"
      ]
    },
    {
      "cell_type": "markdown",
      "metadata": {
        "id": "cNqMIWz7Z8OX"
      },
      "source": [
        "__Важно__: можно и получать строки по маскам:"
      ]
    },
    {
      "cell_type": "code",
      "execution_count": null,
      "metadata": {
        "ExecuteTime": {
          "end_time": "2017-07-18T14:49:54.773969",
          "start_time": "2017-07-18T14:49:54.766869"
        },
        "id": "TM3MJ04RZ8OX"
      },
      "outputs": [],
      "source": [
        "df.loc[df.age % 5 == 0, 'workclass'].head()"
      ]
    },
    {
      "cell_type": "markdown",
      "metadata": {
        "id": "WvpF32HEZ8OY"
      },
      "source": [
        "__Важно__: Основываясь на этом, можно присваивать другим значениям:"
      ]
    },
    {
      "cell_type": "code",
      "execution_count": null,
      "metadata": {
        "ExecuteTime": {
          "end_time": "2017-07-18T14:50:43.742633",
          "start_time": "2017-07-18T14:50:43.736127"
        },
        "id": "WDuvHvW6Z8OY"
      },
      "outputs": [],
      "source": [
        "df.loc[df.age % 2 == 0, 'workclass'] = 'ЧЕТНЫЙ'"
      ]
    },
    {
      "cell_type": "code",
      "execution_count": null,
      "metadata": {
        "ExecuteTime": {
          "end_time": "2017-07-18T14:50:46.490544",
          "start_time": "2017-07-18T14:50:46.486057"
        },
        "id": "N5SzxirRZ8OY"
      },
      "outputs": [],
      "source": [
        "df.loc[:5, 'education'] = 'NO EDUCATION'"
      ]
    },
    {
      "cell_type": "code",
      "execution_count": null,
      "metadata": {
        "ExecuteTime": {
          "end_time": "2017-07-18T14:50:48.079145",
          "start_time": "2017-07-18T14:50:48.059804"
        },
        "id": "A1TMV92rZ8OZ"
      },
      "outputs": [],
      "source": [
        "df.head(7)"
      ]
    },
    {
      "cell_type": "markdown",
      "metadata": {
        "id": "PVJdCBHFZ8OZ"
      },
      "source": [
        "### Переименование столбцов"
      ]
    },
    {
      "cell_type": "code",
      "execution_count": null,
      "metadata": {
        "ExecuteTime": {
          "end_time": "2017-07-18T14:50:58.428510",
          "start_time": "2017-07-18T14:50:58.424638"
        },
        "id": "bSQAZsETZ8OZ"
      },
      "outputs": [],
      "source": [
        "df.columns = [c.upper() for c in df.columns]"
      ]
    },
    {
      "cell_type": "code",
      "execution_count": null,
      "metadata": {
        "ExecuteTime": {
          "end_time": "2017-07-18T14:50:59.129465",
          "start_time": "2017-07-18T14:50:59.112055"
        },
        "id": "Ox9I0VYDZ8Oa"
      },
      "outputs": [],
      "source": [
        "df.head(1)"
      ]
    },
    {
      "cell_type": "code",
      "execution_count": null,
      "metadata": {
        "ExecuteTime": {
          "end_time": "2017-07-18T14:51:11.280083",
          "start_time": "2017-07-18T14:51:11.276685"
        },
        "id": "VtvL-NFdZ8Oa"
      },
      "outputs": [],
      "source": [
        "df.columns = [c.lower() for c in df.columns]"
      ]
    },
    {
      "cell_type": "code",
      "execution_count": null,
      "metadata": {
        "ExecuteTime": {
          "end_time": "2017-07-18T14:51:11.574143",
          "start_time": "2017-07-18T14:51:11.558704"
        },
        "id": "ov7tQoV1Z8Oa"
      },
      "outputs": [],
      "source": [
        "df = df.rename(columns={'marital-status': 'marital_status'})\n",
        "                        # словарь старое-новое значение"
      ]
    },
    {
      "cell_type": "markdown",
      "metadata": {
        "ExecuteTime": {
          "end_time": "2017-05-18T12:24:09.500495",
          "start_time": "2017-05-18T12:24:09.497359"
        },
        "id": "wYNE17myZ8Ob"
      },
      "source": [
        "## Работа с пропущенными (NaN) значениями"
      ]
    },
    {
      "cell_type": "code",
      "execution_count": null,
      "metadata": {
        "ExecuteTime": {
          "end_time": "2017-07-18T14:51:14.019521",
          "start_time": "2017-07-18T14:51:14.003646"
        },
        "id": "fRInqNJTZ8Ob"
      },
      "outputs": [],
      "source": [
        "test = pd.DataFrame(data={'name': ['John', 'Bill', 'Jennifer', 'Max'],\n",
        "                          'salary': [90, np.nan, 95, 130],\n",
        "                          'age': [27, 30, np.nan, np.nan],\n",
        "                          'status': [np.nan, 'married', np.nan, 'married']\n",
        "                         })\n",
        "test = test[['name', 'age', 'salary', 'status']]\n",
        "test"
      ]
    },
    {
      "cell_type": "markdown",
      "metadata": {
        "id": "A6t9NbsbZ8Ob"
      },
      "source": [
        "### Отображение"
      ]
    },
    {
      "cell_type": "code",
      "execution_count": null,
      "metadata": {
        "ExecuteTime": {
          "end_time": "2017-07-18T14:51:14.847525",
          "start_time": "2017-07-18T14:51:14.837090"
        },
        "id": "VUNdkCu6Z8Oc"
      },
      "outputs": [],
      "source": [
        "test[test['age'].isnull()]"
      ]
    },
    {
      "cell_type": "code",
      "execution_count": null,
      "metadata": {
        "ExecuteTime": {
          "end_time": "2017-07-18T14:51:15.950701",
          "start_time": "2017-07-18T14:51:15.940498"
        },
        "id": "wkIQJ11pZ8Oc"
      },
      "outputs": [],
      "source": [
        "test[test['age'].notnull()]"
      ]
    },
    {
      "cell_type": "code",
      "execution_count": null,
      "metadata": {
        "ExecuteTime": {
          "end_time": "2017-07-18T14:51:21.019491",
          "start_time": "2017-07-18T14:51:20.997432"
        },
        "id": "leFN2p2rZ8Od"
      },
      "outputs": [],
      "source": [
        "test[test.isnull().any(axis=1)] # !"
      ]
    },
    {
      "cell_type": "code",
      "execution_count": null,
      "metadata": {
        "ExecuteTime": {
          "end_time": "2017-07-18T14:51:22.941954",
          "start_time": "2017-07-18T14:51:22.933447"
        },
        "id": "hPN5BJWeZ8Od"
      },
      "outputs": [],
      "source": [
        "test[~test.isnull().any(axis=1)]"
      ]
    },
    {
      "cell_type": "markdown",
      "metadata": {
        "id": "8fIP1Wy2Z8Od"
      },
      "source": [
        "### Заполнение"
      ]
    },
    {
      "cell_type": "markdown",
      "metadata": {
        "id": "I2uQaGEhZ8Od"
      },
      "source": [
        "Прежде всего, можно заполнить некоторым константным значением:"
      ]
    },
    {
      "cell_type": "code",
      "execution_count": null,
      "metadata": {
        "ExecuteTime": {
          "end_time": "2017-07-18T14:51:24.678877",
          "start_time": "2017-07-18T14:51:24.667186"
        },
        "id": "UA9Lo8sAZ8Oe"
      },
      "outputs": [],
      "source": [
        "dashtest = test.fillna('-')\n",
        "dashtest"
      ]
    },
    {
      "cell_type": "markdown",
      "metadata": {
        "id": "K64u_WKlZ8Oe"
      },
      "source": [
        "Важно заметить, что теперь слобцы возраста и зарплаты более не числовые:"
      ]
    },
    {
      "cell_type": "code",
      "execution_count": null,
      "metadata": {
        "ExecuteTime": {
          "end_time": "2017-07-18T14:51:26.226936",
          "start_time": "2017-07-18T14:51:26.220719"
        },
        "id": "J3EkBRd2Z8Oe"
      },
      "outputs": [],
      "source": [
        "print(test.dtypes, '\\n\\n', dashtest.dtypes)"
      ]
    },
    {
      "cell_type": "code",
      "execution_count": null,
      "metadata": {
        "ExecuteTime": {
          "end_time": "2017-07-18T14:51:26.935763",
          "start_time": "2017-07-18T14:51:26.923336"
        },
        "id": "UQQQWgT-Z8Oe"
      },
      "outputs": [],
      "source": [
        "test.fillna(method='ffill')"
      ]
    },
    {
      "cell_type": "code",
      "execution_count": null,
      "metadata": {
        "ExecuteTime": {
          "end_time": "2017-07-18T14:51:27.732023",
          "start_time": "2017-07-18T14:51:27.717061"
        },
        "id": "rFO7KDqhZ8Of"
      },
      "outputs": [],
      "source": [
        "test.fillna(method='bfill')"
      ]
    },
    {
      "cell_type": "code",
      "execution_count": null,
      "metadata": {
        "ExecuteTime": {
          "end_time": "2017-07-18T14:51:31.324038",
          "start_time": "2017-07-18T14:51:31.311470"
        },
        "id": "uLMPM2xOZ8Of"
      },
      "outputs": [],
      "source": [
        "test.fillna(method='ffill').fillna(method='bfill')"
      ]
    },
    {
      "cell_type": "code",
      "execution_count": null,
      "metadata": {
        "ExecuteTime": {
          "end_time": "2017-07-18T14:51:39.449343",
          "start_time": "2017-07-18T14:51:39.384666"
        },
        "id": "nu5O4hR_Z8Of"
      },
      "outputs": [],
      "source": [
        "test['salary'] = test[['salary']].fillna(test.salary.median())\n",
        "test"
      ]
    },
    {
      "cell_type": "code",
      "execution_count": null,
      "metadata": {
        "ExecuteTime": {
          "end_time": "2017-07-18T14:51:44.824769",
          "start_time": "2017-07-18T14:51:44.809905"
        },
        "id": "UXnbzC5CZ8Og"
      },
      "outputs": [],
      "source": [
        "test['age'] = test[['salary']].fillna(25)\n",
        "test['status'] = test[['status']].fillna(test.status.mode()[0])\n",
        "test"
      ]
    },
    {
      "cell_type": "markdown",
      "metadata": {
        "id": "XUzuPBRmZ8Og"
      },
      "source": [
        "## Краткий конспект\n",
        "\n",
        "- df.shape - размер\n",
        "- df.head(N), df.tail(N), - просмотр\n",
        "- df[массив имен колонок] - часть (slice) датафрейма\n",
        "- df['имя колонки'] - одна колонка (можно и через точку: df.имя_колонки)\n",
        "- df.unique, df.nunique - просмотр уникальных значений и их количества\n",
        "- df.value_counts - сколько разных значений в колонке\n",
        "- df.имя колонки.apply - применяет функцию к значениям в столбце\n",
        "- df.fillna - заполняет NaN\n",
        "- df.dropna - удаляет строки/столбцы с NaN\n",
        "- df.duplicated - показывает строки, являющиеся дупликатами других\n",
        "- df.drop_duplicates - удаляет строки-дупликаты\n",
        "- df[df.isnull().any(axis=1)] - вывести строки, содержащие NaN\n",
        "- df[df.имя колонки.isnull().any(axis=1)] - вывести только те строки, где в указанной колонке есть пропуски\n",
        "- df.groupby - группировка по некоторому признаку"
      ]
    },
    {
      "cell_type": "markdown",
      "metadata": {
        "id": "LbTjgXTI82Ey"
      },
      "source": [
        "## Задание"
      ]
    },
    {
      "cell_type": "markdown",
      "metadata": {
        "id": "BnBpD-KN82Ez"
      },
      "source": [
        "**1.** Загрузите csv-файл `https://raw.githubusercontent.com/yakushinav/omo/main/data/fishing.csv` в переменную fishing_data. Описание данных см. [здесь](https://github.com/yakushinav/journ/blob/main/fishing.md)."
      ]
    },
    {
      "cell_type": "code",
      "execution_count": 6,
      "metadata": {
        "id": "40fSJUxQ82E0"
      },
      "outputs": [],
      "source": [
        "import pandas as pd\n",
        "df = \"https://raw.githubusercontent.com/yakushinav/omo/main/data/fishing.csv\"\n",
        "fishing_data = pd.read_csv(df)"
      ]
    },
    {
      "cell_type": "markdown",
      "metadata": {
        "id": "zHiQ10W382E1"
      },
      "source": [
        "**2.** Выведите описательные статистики для всех числовых (integer, float) переменных в датафрейме."
      ]
    },
    {
      "cell_type": "code",
      "execution_count": 7,
      "metadata": {
        "colab": {
          "base_uri": "https://localhost:8080/",
          "height": 300
        },
        "id": "xww0C-0e82E2",
        "outputId": "c33a82a9-3e03-46d4-cd0a-5d846292cf42"
      },
      "outputs": [
        {
          "output_type": "execute_result",
          "data": {
            "text/plain": [
              "        Unnamed: 0        price        catch       pbeach        ppier  \\\n",
              "count  1182.000000  1182.000000  1182.000000  1182.000000  1182.000000   \n",
              "mean    591.500000    52.081975     0.389368   103.422005   103.422005   \n",
              "std     341.358316    53.829970     0.560596   103.641042   103.641042   \n",
              "min       1.000000     1.290000     0.000200     1.290000     1.290000   \n",
              "25%     296.250000    15.870000     0.036100    26.656500    26.656500   \n",
              "50%     591.500000    37.896000     0.164300    74.628000    74.628000   \n",
              "75%     886.750000    67.513000     0.533300   144.144000   144.144000   \n",
              "max    1182.000000   666.110000     2.310100   843.186000   843.186000   \n",
              "\n",
              "             pboat     pcharter       cbeach        cpier        cboat  \\\n",
              "count  1182.000000  1182.000000  1182.000000  1182.000000  1182.000000   \n",
              "mean     55.256570    84.379244     0.241011     0.162224     0.171215   \n",
              "std      62.713444    63.544650     0.190752     0.160390     0.209789   \n",
              "min       2.290000    27.290000     0.067800     0.001400     0.000200   \n",
              "25%      13.122000    42.896000     0.067800     0.050300     0.023300   \n",
              "50%      33.534000    61.607000     0.253700     0.078900     0.089700   \n",
              "75%      72.402000   102.774000     0.533300     0.149800     0.241300   \n",
              "max     666.110000   691.110000     0.533300     0.452200     0.736900   \n",
              "\n",
              "          ccharter        income  \n",
              "count  1182.000000   1182.000000  \n",
              "mean      0.629368   4099.337054  \n",
              "std       0.706114   2461.964060  \n",
              "min       0.002100    416.666680  \n",
              "25%       0.021900   2083.333200  \n",
              "50%       0.421600   3749.999900  \n",
              "75%       1.026600   5416.666700  \n",
              "max       2.310100  12499.998000  "
            ],
            "text/html": [
              "\n",
              "  <div id=\"df-bf8b6388-cf40-4542-a53f-7f6fb1f655d6\" class=\"colab-df-container\">\n",
              "    <div>\n",
              "<style scoped>\n",
              "    .dataframe tbody tr th:only-of-type {\n",
              "        vertical-align: middle;\n",
              "    }\n",
              "\n",
              "    .dataframe tbody tr th {\n",
              "        vertical-align: top;\n",
              "    }\n",
              "\n",
              "    .dataframe thead th {\n",
              "        text-align: right;\n",
              "    }\n",
              "</style>\n",
              "<table border=\"1\" class=\"dataframe\">\n",
              "  <thead>\n",
              "    <tr style=\"text-align: right;\">\n",
              "      <th></th>\n",
              "      <th>Unnamed: 0</th>\n",
              "      <th>price</th>\n",
              "      <th>catch</th>\n",
              "      <th>pbeach</th>\n",
              "      <th>ppier</th>\n",
              "      <th>pboat</th>\n",
              "      <th>pcharter</th>\n",
              "      <th>cbeach</th>\n",
              "      <th>cpier</th>\n",
              "      <th>cboat</th>\n",
              "      <th>ccharter</th>\n",
              "      <th>income</th>\n",
              "    </tr>\n",
              "  </thead>\n",
              "  <tbody>\n",
              "    <tr>\n",
              "      <th>count</th>\n",
              "      <td>1182.000000</td>\n",
              "      <td>1182.000000</td>\n",
              "      <td>1182.000000</td>\n",
              "      <td>1182.000000</td>\n",
              "      <td>1182.000000</td>\n",
              "      <td>1182.000000</td>\n",
              "      <td>1182.000000</td>\n",
              "      <td>1182.000000</td>\n",
              "      <td>1182.000000</td>\n",
              "      <td>1182.000000</td>\n",
              "      <td>1182.000000</td>\n",
              "      <td>1182.000000</td>\n",
              "    </tr>\n",
              "    <tr>\n",
              "      <th>mean</th>\n",
              "      <td>591.500000</td>\n",
              "      <td>52.081975</td>\n",
              "      <td>0.389368</td>\n",
              "      <td>103.422005</td>\n",
              "      <td>103.422005</td>\n",
              "      <td>55.256570</td>\n",
              "      <td>84.379244</td>\n",
              "      <td>0.241011</td>\n",
              "      <td>0.162224</td>\n",
              "      <td>0.171215</td>\n",
              "      <td>0.629368</td>\n",
              "      <td>4099.337054</td>\n",
              "    </tr>\n",
              "    <tr>\n",
              "      <th>std</th>\n",
              "      <td>341.358316</td>\n",
              "      <td>53.829970</td>\n",
              "      <td>0.560596</td>\n",
              "      <td>103.641042</td>\n",
              "      <td>103.641042</td>\n",
              "      <td>62.713444</td>\n",
              "      <td>63.544650</td>\n",
              "      <td>0.190752</td>\n",
              "      <td>0.160390</td>\n",
              "      <td>0.209789</td>\n",
              "      <td>0.706114</td>\n",
              "      <td>2461.964060</td>\n",
              "    </tr>\n",
              "    <tr>\n",
              "      <th>min</th>\n",
              "      <td>1.000000</td>\n",
              "      <td>1.290000</td>\n",
              "      <td>0.000200</td>\n",
              "      <td>1.290000</td>\n",
              "      <td>1.290000</td>\n",
              "      <td>2.290000</td>\n",
              "      <td>27.290000</td>\n",
              "      <td>0.067800</td>\n",
              "      <td>0.001400</td>\n",
              "      <td>0.000200</td>\n",
              "      <td>0.002100</td>\n",
              "      <td>416.666680</td>\n",
              "    </tr>\n",
              "    <tr>\n",
              "      <th>25%</th>\n",
              "      <td>296.250000</td>\n",
              "      <td>15.870000</td>\n",
              "      <td>0.036100</td>\n",
              "      <td>26.656500</td>\n",
              "      <td>26.656500</td>\n",
              "      <td>13.122000</td>\n",
              "      <td>42.896000</td>\n",
              "      <td>0.067800</td>\n",
              "      <td>0.050300</td>\n",
              "      <td>0.023300</td>\n",
              "      <td>0.021900</td>\n",
              "      <td>2083.333200</td>\n",
              "    </tr>\n",
              "    <tr>\n",
              "      <th>50%</th>\n",
              "      <td>591.500000</td>\n",
              "      <td>37.896000</td>\n",
              "      <td>0.164300</td>\n",
              "      <td>74.628000</td>\n",
              "      <td>74.628000</td>\n",
              "      <td>33.534000</td>\n",
              "      <td>61.607000</td>\n",
              "      <td>0.253700</td>\n",
              "      <td>0.078900</td>\n",
              "      <td>0.089700</td>\n",
              "      <td>0.421600</td>\n",
              "      <td>3749.999900</td>\n",
              "    </tr>\n",
              "    <tr>\n",
              "      <th>75%</th>\n",
              "      <td>886.750000</td>\n",
              "      <td>67.513000</td>\n",
              "      <td>0.533300</td>\n",
              "      <td>144.144000</td>\n",
              "      <td>144.144000</td>\n",
              "      <td>72.402000</td>\n",
              "      <td>102.774000</td>\n",
              "      <td>0.533300</td>\n",
              "      <td>0.149800</td>\n",
              "      <td>0.241300</td>\n",
              "      <td>1.026600</td>\n",
              "      <td>5416.666700</td>\n",
              "    </tr>\n",
              "    <tr>\n",
              "      <th>max</th>\n",
              "      <td>1182.000000</td>\n",
              "      <td>666.110000</td>\n",
              "      <td>2.310100</td>\n",
              "      <td>843.186000</td>\n",
              "      <td>843.186000</td>\n",
              "      <td>666.110000</td>\n",
              "      <td>691.110000</td>\n",
              "      <td>0.533300</td>\n",
              "      <td>0.452200</td>\n",
              "      <td>0.736900</td>\n",
              "      <td>2.310100</td>\n",
              "      <td>12499.998000</td>\n",
              "    </tr>\n",
              "  </tbody>\n",
              "</table>\n",
              "</div>\n",
              "    <div class=\"colab-df-buttons\">\n",
              "\n",
              "  <div class=\"colab-df-container\">\n",
              "    <button class=\"colab-df-convert\" onclick=\"convertToInteractive('df-bf8b6388-cf40-4542-a53f-7f6fb1f655d6')\"\n",
              "            title=\"Convert this dataframe to an interactive table.\"\n",
              "            style=\"display:none;\">\n",
              "\n",
              "  <svg xmlns=\"http://www.w3.org/2000/svg\" height=\"24px\" viewBox=\"0 -960 960 960\">\n",
              "    <path d=\"M120-120v-720h720v720H120Zm60-500h600v-160H180v160Zm220 220h160v-160H400v160Zm0 220h160v-160H400v160ZM180-400h160v-160H180v160Zm440 0h160v-160H620v160ZM180-180h160v-160H180v160Zm440 0h160v-160H620v160Z\"/>\n",
              "  </svg>\n",
              "    </button>\n",
              "\n",
              "  <style>\n",
              "    .colab-df-container {\n",
              "      display:flex;\n",
              "      gap: 12px;\n",
              "    }\n",
              "\n",
              "    .colab-df-convert {\n",
              "      background-color: #E8F0FE;\n",
              "      border: none;\n",
              "      border-radius: 50%;\n",
              "      cursor: pointer;\n",
              "      display: none;\n",
              "      fill: #1967D2;\n",
              "      height: 32px;\n",
              "      padding: 0 0 0 0;\n",
              "      width: 32px;\n",
              "    }\n",
              "\n",
              "    .colab-df-convert:hover {\n",
              "      background-color: #E2EBFA;\n",
              "      box-shadow: 0px 1px 2px rgba(60, 64, 67, 0.3), 0px 1px 3px 1px rgba(60, 64, 67, 0.15);\n",
              "      fill: #174EA6;\n",
              "    }\n",
              "\n",
              "    .colab-df-buttons div {\n",
              "      margin-bottom: 4px;\n",
              "    }\n",
              "\n",
              "    [theme=dark] .colab-df-convert {\n",
              "      background-color: #3B4455;\n",
              "      fill: #D2E3FC;\n",
              "    }\n",
              "\n",
              "    [theme=dark] .colab-df-convert:hover {\n",
              "      background-color: #434B5C;\n",
              "      box-shadow: 0px 1px 3px 1px rgba(0, 0, 0, 0.15);\n",
              "      filter: drop-shadow(0px 1px 2px rgba(0, 0, 0, 0.3));\n",
              "      fill: #FFFFFF;\n",
              "    }\n",
              "  </style>\n",
              "\n",
              "    <script>\n",
              "      const buttonEl =\n",
              "        document.querySelector('#df-bf8b6388-cf40-4542-a53f-7f6fb1f655d6 button.colab-df-convert');\n",
              "      buttonEl.style.display =\n",
              "        google.colab.kernel.accessAllowed ? 'block' : 'none';\n",
              "\n",
              "      async function convertToInteractive(key) {\n",
              "        const element = document.querySelector('#df-bf8b6388-cf40-4542-a53f-7f6fb1f655d6');\n",
              "        const dataTable =\n",
              "          await google.colab.kernel.invokeFunction('convertToInteractive',\n",
              "                                                    [key], {});\n",
              "        if (!dataTable) return;\n",
              "\n",
              "        const docLinkHtml = 'Like what you see? Visit the ' +\n",
              "          '<a target=\"_blank\" href=https://colab.research.google.com/notebooks/data_table.ipynb>data table notebook</a>'\n",
              "          + ' to learn more about interactive tables.';\n",
              "        element.innerHTML = '';\n",
              "        dataTable['output_type'] = 'display_data';\n",
              "        await google.colab.output.renderOutput(dataTable, element);\n",
              "        const docLink = document.createElement('div');\n",
              "        docLink.innerHTML = docLinkHtml;\n",
              "        element.appendChild(docLink);\n",
              "      }\n",
              "    </script>\n",
              "  </div>\n",
              "\n",
              "\n",
              "<div id=\"df-40f3c998-ea35-4419-8ab6-94de778f2ee4\">\n",
              "  <button class=\"colab-df-quickchart\" onclick=\"quickchart('df-40f3c998-ea35-4419-8ab6-94de778f2ee4')\"\n",
              "            title=\"Suggest charts\"\n",
              "            style=\"display:none;\">\n",
              "\n",
              "<svg xmlns=\"http://www.w3.org/2000/svg\" height=\"24px\"viewBox=\"0 0 24 24\"\n",
              "     width=\"24px\">\n",
              "    <g>\n",
              "        <path d=\"M19 3H5c-1.1 0-2 .9-2 2v14c0 1.1.9 2 2 2h14c1.1 0 2-.9 2-2V5c0-1.1-.9-2-2-2zM9 17H7v-7h2v7zm4 0h-2V7h2v10zm4 0h-2v-4h2v4z\"/>\n",
              "    </g>\n",
              "</svg>\n",
              "  </button>\n",
              "\n",
              "<style>\n",
              "  .colab-df-quickchart {\n",
              "      --bg-color: #E8F0FE;\n",
              "      --fill-color: #1967D2;\n",
              "      --hover-bg-color: #E2EBFA;\n",
              "      --hover-fill-color: #174EA6;\n",
              "      --disabled-fill-color: #AAA;\n",
              "      --disabled-bg-color: #DDD;\n",
              "  }\n",
              "\n",
              "  [theme=dark] .colab-df-quickchart {\n",
              "      --bg-color: #3B4455;\n",
              "      --fill-color: #D2E3FC;\n",
              "      --hover-bg-color: #434B5C;\n",
              "      --hover-fill-color: #FFFFFF;\n",
              "      --disabled-bg-color: #3B4455;\n",
              "      --disabled-fill-color: #666;\n",
              "  }\n",
              "\n",
              "  .colab-df-quickchart {\n",
              "    background-color: var(--bg-color);\n",
              "    border: none;\n",
              "    border-radius: 50%;\n",
              "    cursor: pointer;\n",
              "    display: none;\n",
              "    fill: var(--fill-color);\n",
              "    height: 32px;\n",
              "    padding: 0;\n",
              "    width: 32px;\n",
              "  }\n",
              "\n",
              "  .colab-df-quickchart:hover {\n",
              "    background-color: var(--hover-bg-color);\n",
              "    box-shadow: 0 1px 2px rgba(60, 64, 67, 0.3), 0 1px 3px 1px rgba(60, 64, 67, 0.15);\n",
              "    fill: var(--button-hover-fill-color);\n",
              "  }\n",
              "\n",
              "  .colab-df-quickchart-complete:disabled,\n",
              "  .colab-df-quickchart-complete:disabled:hover {\n",
              "    background-color: var(--disabled-bg-color);\n",
              "    fill: var(--disabled-fill-color);\n",
              "    box-shadow: none;\n",
              "  }\n",
              "\n",
              "  .colab-df-spinner {\n",
              "    border: 2px solid var(--fill-color);\n",
              "    border-color: transparent;\n",
              "    border-bottom-color: var(--fill-color);\n",
              "    animation:\n",
              "      spin 1s steps(1) infinite;\n",
              "  }\n",
              "\n",
              "  @keyframes spin {\n",
              "    0% {\n",
              "      border-color: transparent;\n",
              "      border-bottom-color: var(--fill-color);\n",
              "      border-left-color: var(--fill-color);\n",
              "    }\n",
              "    20% {\n",
              "      border-color: transparent;\n",
              "      border-left-color: var(--fill-color);\n",
              "      border-top-color: var(--fill-color);\n",
              "    }\n",
              "    30% {\n",
              "      border-color: transparent;\n",
              "      border-left-color: var(--fill-color);\n",
              "      border-top-color: var(--fill-color);\n",
              "      border-right-color: var(--fill-color);\n",
              "    }\n",
              "    40% {\n",
              "      border-color: transparent;\n",
              "      border-right-color: var(--fill-color);\n",
              "      border-top-color: var(--fill-color);\n",
              "    }\n",
              "    60% {\n",
              "      border-color: transparent;\n",
              "      border-right-color: var(--fill-color);\n",
              "    }\n",
              "    80% {\n",
              "      border-color: transparent;\n",
              "      border-right-color: var(--fill-color);\n",
              "      border-bottom-color: var(--fill-color);\n",
              "    }\n",
              "    90% {\n",
              "      border-color: transparent;\n",
              "      border-bottom-color: var(--fill-color);\n",
              "    }\n",
              "  }\n",
              "</style>\n",
              "\n",
              "  <script>\n",
              "    async function quickchart(key) {\n",
              "      const quickchartButtonEl =\n",
              "        document.querySelector('#' + key + ' button');\n",
              "      quickchartButtonEl.disabled = true;  // To prevent multiple clicks.\n",
              "      quickchartButtonEl.classList.add('colab-df-spinner');\n",
              "      try {\n",
              "        const charts = await google.colab.kernel.invokeFunction(\n",
              "            'suggestCharts', [key], {});\n",
              "      } catch (error) {\n",
              "        console.error('Error during call to suggestCharts:', error);\n",
              "      }\n",
              "      quickchartButtonEl.classList.remove('colab-df-spinner');\n",
              "      quickchartButtonEl.classList.add('colab-df-quickchart-complete');\n",
              "    }\n",
              "    (() => {\n",
              "      let quickchartButtonEl =\n",
              "        document.querySelector('#df-40f3c998-ea35-4419-8ab6-94de778f2ee4 button');\n",
              "      quickchartButtonEl.style.display =\n",
              "        google.colab.kernel.accessAllowed ? 'block' : 'none';\n",
              "    })();\n",
              "  </script>\n",
              "</div>\n",
              "    </div>\n",
              "  </div>\n"
            ],
            "application/vnd.google.colaboratory.intrinsic+json": {
              "type": "dataframe",
              "summary": "{\n  \"name\": \"fishing_data\",\n  \"rows\": 8,\n  \"fields\": [\n    {\n      \"column\": \"Unnamed: 0\",\n      \"properties\": {\n        \"dtype\": \"number\",\n        \"std\": 425.6937638527489,\n        \"min\": 1.0,\n        \"max\": 1182.0,\n        \"num_unique_values\": 6,\n        \"samples\": [\n          1182.0,\n          591.5,\n          886.75\n        ],\n        \"semantic_type\": \"\",\n        \"description\": \"\"\n      }\n    },\n    {\n      \"column\": \"price\",\n      \"properties\": {\n        \"dtype\": \"number\",\n        \"std\": 433.20328765444526,\n        \"min\": 1.29,\n        \"max\": 1182.0,\n        \"num_unique_values\": 8,\n        \"samples\": [\n          52.08197461928934,\n          37.896,\n          1182.0\n        ],\n        \"semantic_type\": \"\",\n        \"description\": \"\"\n      }\n    },\n    {\n      \"column\": \"catch\",\n      \"properties\": {\n        \"dtype\": \"number\",\n        \"std\": 417.69903802573697,\n        \"min\": 0.0002,\n        \"max\": 1182.0,\n        \"num_unique_values\": 8,\n        \"samples\": [\n          0.38936835871404396,\n          0.1643,\n          1182.0\n        ],\n        \"semantic_type\": \"\",\n        \"description\": \"\"\n      }\n    },\n    {\n      \"column\": \"pbeach\",\n      \"properties\": {\n        \"dtype\": \"number\",\n        \"std\": 445.36073007347915,\n        \"min\": 1.29,\n        \"max\": 1182.0,\n        \"num_unique_values\": 8,\n        \"samples\": [\n          103.42200507614213,\n          74.628,\n          1182.0\n        ],\n        \"semantic_type\": \"\",\n        \"description\": \"\"\n      }\n    },\n    {\n      \"column\": \"ppier\",\n      \"properties\": {\n        \"dtype\": \"number\",\n        \"std\": 445.36073007347915,\n        \"min\": 1.29,\n        \"max\": 1182.0,\n        \"num_unique_values\": 8,\n        \"samples\": [\n          103.42200507614213,\n          74.628,\n          1182.0\n        ],\n        \"semantic_type\": \"\",\n        \"description\": \"\"\n      }\n    },\n    {\n      \"column\": \"pboat\",\n      \"properties\": {\n        \"dtype\": \"number\",\n        \"std\": 432.5484848099692,\n        \"min\": 2.29,\n        \"max\": 1182.0,\n        \"num_unique_values\": 8,\n        \"samples\": [\n          55.256570219966164,\n          33.534,\n          1182.0\n        ],\n        \"semantic_type\": \"\",\n        \"description\": \"\"\n      }\n    },\n    {\n      \"column\": \"pcharter\",\n      \"properties\": {\n        \"dtype\": \"number\",\n        \"std\": 425.4225825359925,\n        \"min\": 27.29,\n        \"max\": 1182.0,\n        \"num_unique_values\": 8,\n        \"samples\": [\n          84.37924365482233,\n          61.607,\n          1182.0\n        ],\n        \"semantic_type\": \"\",\n        \"description\": \"\"\n      }\n    },\n    {\n      \"column\": \"cbeach\",\n      \"properties\": {\n        \"dtype\": \"number\",\n        \"std\": 417.80480520858816,\n        \"min\": 0.0678,\n        \"max\": 1182.0,\n        \"num_unique_values\": 6,\n        \"samples\": [\n          1182.0,\n          0.2410113367174281,\n          0.5333\n        ],\n        \"semantic_type\": \"\",\n        \"description\": \"\"\n      }\n    },\n    {\n      \"column\": \"cpier\",\n      \"properties\": {\n        \"dtype\": \"number\",\n        \"std\": 417.8468333434796,\n        \"min\": 0.0014,\n        \"max\": 1182.0,\n        \"num_unique_values\": 8,\n        \"samples\": [\n          0.16222368866328257,\n          0.0789,\n          1182.0\n        ],\n        \"semantic_type\": \"\",\n        \"description\": \"\"\n      }\n    },\n    {\n      \"column\": \"cboat\",\n      \"properties\": {\n        \"dtype\": \"number\",\n        \"std\": 417.8258039348348,\n        \"min\": 0.0002,\n        \"max\": 1182.0,\n        \"num_unique_values\": 8,\n        \"samples\": [\n          0.17121463620981386,\n          0.0897,\n          1182.0\n        ],\n        \"semantic_type\": \"\",\n        \"description\": \"\"\n      }\n    },\n    {\n      \"column\": \"ccharter\",\n      \"properties\": {\n        \"dtype\": \"number\",\n        \"std\": 417.6422571704894,\n        \"min\": 0.0021,\n        \"max\": 1182.0,\n        \"num_unique_values\": 8,\n        \"samples\": [\n          0.6293679357021997,\n          0.4216,\n          1182.0\n        ],\n        \"semantic_type\": \"\",\n        \"description\": \"\"\n      }\n    },\n    {\n      \"column\": \"income\",\n      \"properties\": {\n        \"dtype\": \"number\",\n        \"std\": 3801.293633605769,\n        \"min\": 416.66668,\n        \"max\": 12499.998,\n        \"num_unique_values\": 8,\n        \"samples\": [\n          4099.337054145516,\n          3749.9999,\n          1182.0\n        ],\n        \"semantic_type\": \"\",\n        \"description\": \"\"\n      }\n    }\n  ]\n}"
            }
          },
          "metadata": {},
          "execution_count": 7
        }
      ],
      "source": [
        "fishing_data.describe(include=['int64', 'float64'])"
      ]
    },
    {
      "cell_type": "markdown",
      "metadata": {
        "id": "axcZ6fS882E2"
      },
      "source": [
        "**3.** Выберите из таблицы только строки, которые соответствуют респондентам, которые выбрали рыбалку на берегу (`beach`)."
      ]
    },
    {
      "cell_type": "code",
      "execution_count": 10,
      "metadata": {
        "id": "JvujsNy082E3",
        "colab": {
          "base_uri": "https://localhost:8080/"
        },
        "outputId": "2e4ae322-78cb-4eb6-fd6a-e7f92e49ad4f"
      },
      "outputs": [
        {
          "output_type": "stream",
          "name": "stdout",
          "text": [
            "        Unnamed: 0       price       catch      pbeach       ppier  \\\n",
            "count   134.000000  134.000000  134.000000  134.000000  134.000000   \n",
            "mean    651.402985   35.699493    0.279195   35.699493   35.699493   \n",
            "std     352.702906   43.094137    0.193873   43.094137   43.094137   \n",
            "min       7.000000    1.290000    0.067800    1.290000    1.290000   \n",
            "25%     328.000000    9.976500    0.067800    9.976500    9.976500   \n",
            "50%     708.500000   19.308000    0.253700   19.308000   19.308000   \n",
            "75%     945.750000   42.762500    0.533300   42.762500   42.762500   \n",
            "max    1181.000000  306.820000    0.533300  306.820000  306.820000   \n",
            "\n",
            "            pboat    pcharter      cbeach       cpier       cboat    ccharter  \\\n",
            "count  134.000000  134.000000  134.000000  134.000000  134.000000  134.000000   \n",
            "mean    97.809134  125.003164    0.279195    0.219001    0.159399    0.517609   \n",
            "std     75.438437   78.376410    0.193873    0.167712    0.094885    0.362910   \n",
            "min      2.290000   27.290000    0.067800    0.002500    0.000800    0.002700   \n",
            "25%     42.320000   64.064000    0.067800    0.078900    0.024375    0.057625   \n",
            "50%     78.076000  104.865000    0.253700    0.149800    0.166500    0.539100   \n",
            "75%    132.990000  160.383500    0.533300    0.452200    0.241300    0.628800   \n",
            "max    392.946000  427.946000    0.533300    0.452200    0.260100    1.026600   \n",
            "\n",
            "             income  \n",
            "count    134.000000  \n",
            "mean    4051.616731  \n",
            "std     2505.419975  \n",
            "min      416.666680  \n",
            "25%     2083.333200  \n",
            "50%     3749.999900  \n",
            "75%     5416.666700  \n",
            "max    12499.998000  \n"
          ]
        }
      ],
      "source": [
        "beach_data = fishing_data[fishing_data['mode'] == 'beach']\n",
        "print(beach_data.describe(include=['int64', 'float64']))"
      ]
    },
    {
      "cell_type": "markdown",
      "metadata": {
        "id": "G2hxBini82E4"
      },
      "source": [
        "**4.** Выберите из таблицы строки, которые соответствуют респондентам, которые предпочитают рыбачить на лодке (`boat`) с доходом (`income`) ниже 3500. Сохраните результат в переменную `boat_data`."
      ]
    },
    {
      "cell_type": "code",
      "execution_count": 12,
      "metadata": {
        "id": "QAmeexnU82E4",
        "colab": {
          "base_uri": "https://localhost:8080/"
        },
        "outputId": "3636959c-1a9e-4d40-fe90-7abef9e2f0d4"
      },
      "outputs": [
        {
          "output_type": "stream",
          "name": "stdout",
          "text": [
            "      Unnamed: 0  mode    price   catch   pbeach    ppier    pboat  pcharter  \\\n",
            "9             10  boat   28.314  0.0233   28.314   28.314   28.314    46.814   \n",
            "22            23  boat   15.134  0.1665  100.674  100.674   15.134    50.134   \n",
            "32            33  boat    7.722  0.0023   33.462   33.462    7.722    31.722   \n",
            "37            38  boat   80.608  0.0531   25.648   25.648   80.608   105.608   \n",
            "40            41  boat   46.332  0.1643   10.296   10.296   46.332    75.332   \n",
            "...          ...   ...      ...     ...      ...      ...      ...       ...   \n",
            "1121        1122  boat   48.906  0.0732  204.204  204.204   48.906    78.406   \n",
            "1129        1130  boat    3.290  0.0531   37.506   37.506    3.290    28.290   \n",
            "1135        1136  boat   37.506  0.0102  101.990  101.990   37.506    72.506   \n",
            "1141        1142  boat  132.990  0.0156    4.290    4.290  132.990   167.990   \n",
            "1154        1155  boat   39.990  0.1574   30.186   30.186   39.990    63.990   \n",
            "\n",
            "      cbeach   cpier   cboat  ccharter      income  \n",
            "9     0.2537  0.1498  0.0233    0.0219  2916.66660  \n",
            "22    0.5333  0.4522  0.1665    0.3975  2083.33320  \n",
            "32    0.1049  0.0451  0.0023    0.0046  2916.66660  \n",
            "37    0.2537  0.1498  0.0531    0.0052  1249.99980  \n",
            "40    0.0678  0.0789  0.1643    0.5391  2916.66660  \n",
            "...      ...     ...     ...       ...         ...  \n",
            "1121  0.0678  0.0052  0.0732    0.1726  2916.66660  \n",
            "1129  0.2537  0.1498  0.0531    0.0052  2083.33320  \n",
            "1135  0.0678  0.0789  0.0102    0.0209  2083.33320  \n",
            "1141  0.5333  0.4522  0.0156    0.0058  2916.66660  \n",
            "1154  0.1049  0.0451  0.1574    0.4671   416.66668  \n",
            "\n",
            "[152 rows x 13 columns]\n"
          ]
        }
      ],
      "source": [
        "boat_data = fishing_data[(fishing_data['mode'] == 'boat') & (fishing_data['income'] < 3500)]\n",
        "print(boat_data)"
      ]
    },
    {
      "cell_type": "markdown",
      "metadata": {
        "id": "Hjupzfph82E5"
      },
      "source": [
        "**5.** Переименуйте столбец `catch` в `c_rate`."
      ]
    },
    {
      "cell_type": "code",
      "execution_count": 13,
      "metadata": {
        "id": "OS4rUTxV82E7"
      },
      "outputs": [],
      "source": [
        "boat_data = boat_data.rename(columns={'catch': 'c_rate'})"
      ]
    },
    {
      "cell_type": "markdown",
      "metadata": {
        "id": "7AAcH3Gy82E7"
      },
      "source": [
        "**6.** Добавьте в таблицу столбец `log_income`, содержащий натуральный логарифм доходов респондентов."
      ]
    },
    {
      "cell_type": "code",
      "execution_count": 14,
      "metadata": {
        "id": "qHvesEP082E8",
        "colab": {
          "base_uri": "https://localhost:8080/"
        },
        "outputId": "9bbadc78-d594-4068-a2e2-7fb7430865d0"
      },
      "outputs": [
        {
          "output_type": "stream",
          "name": "stdout",
          "text": [
            "            income  log_income\n",
            "count   152.000000  152.000000\n",
            "mean   2214.912174    7.607284\n",
            "std     773.843859    0.504048\n",
            "min     416.666680    6.032287\n",
            "25%    2083.333200    7.641724\n",
            "50%    2083.333200    7.641724\n",
            "75%    2916.666600    7.978197\n",
            "max    2916.666600    7.978197\n"
          ]
        }
      ],
      "source": [
        "import math\n",
        "boat_data['log_income'] = boat_data['income'].apply(math.log)\n",
        "print(boat_data[['income', 'log_income']].describe())"
      ]
    },
    {
      "cell_type": "markdown",
      "metadata": {
        "id": "GjDqAUSX82E8"
      },
      "source": [
        "**7.** Сгруппируйте наблюдения в таблице по признаку тип рыбалки (`mode`) и выведите для каждого типа среднюю цену (`price`), которую респонденты готовы заплатить за рыбалку."
      ]
    },
    {
      "cell_type": "code",
      "execution_count": 21,
      "metadata": {
        "id": "kGaB0inL82E8",
        "colab": {
          "base_uri": "https://localhost:8080/"
        },
        "outputId": "bc9e697a-c6db-481d-f0b5-f40db0356887"
      },
      "outputs": [
        {
          "output_type": "stream",
          "name": "stdout",
          "text": [
            "| mode    |   price |\n",
            "|:--------|--------:|\n",
            "| beach   |   35.70 |\n",
            "| boat    |   41.61 |\n",
            "| charter |   75.10 |\n",
            "| pier    |   30.57 |\n"
          ]
        }
      ],
      "source": [
        "mean_prices = fishing_data.groupby('mode')['price'].mean()\n",
        "print(mean_prices.to_markdown(floatfmt=\".2f\"))"
      ]
    },
    {
      "cell_type": "markdown",
      "metadata": {
        "id": "aNlqu3Kn82E9"
      },
      "source": [
        "**8.** Выведите на экран первые 8 строк таблицы. А теперь последние 8."
      ]
    },
    {
      "cell_type": "code",
      "execution_count": 24,
      "metadata": {
        "id": "ssNG9GHb82E9",
        "colab": {
          "base_uri": "https://localhost:8080/",
          "height": 300
        },
        "outputId": "53f3821e-0a40-4901-83c0-ad61b416bd7f"
      },
      "outputs": [
        {
          "output_type": "execute_result",
          "data": {
            "text/plain": [
              "   Unnamed: 0     mode    price   catch   pbeach    ppier    pboat  pcharter  \\\n",
              "0           1  charter  182.930  0.5391  157.930  157.930  157.930   182.930   \n",
              "1           2  charter   34.534  0.4671   15.114   15.114   10.534    34.534   \n",
              "2           3     boat   24.334  0.2413  161.874  161.874   24.334    59.334   \n",
              "3           4     pier   15.134  0.0789   15.134   15.134   55.930    84.930   \n",
              "4           5     boat   41.514  0.1082  106.930  106.930   41.514    71.014   \n",
              "5           6  charter   63.934  0.3975  192.474  192.474   28.934    63.934   \n",
              "6           7    beach   51.934  0.0678   51.934   51.934  191.930   220.930   \n",
              "7           8  charter   56.714  0.0209   15.134   15.134   21.714    56.714   \n",
              "\n",
              "   cbeach   cpier   cboat  ccharter     income  \n",
              "0  0.0678  0.0503  0.2601    0.5391  7083.3317  \n",
              "1  0.1049  0.0451  0.1574    0.4671  1249.9998  \n",
              "2  0.5333  0.4522  0.2413    1.0266  3749.9999  \n",
              "3  0.0678  0.0789  0.1643    0.5391  2083.3332  \n",
              "4  0.0678  0.0503  0.1082    0.3240  4583.3320  \n",
              "5  0.5333  0.4522  0.1665    0.3975  4583.3320  \n",
              "6  0.0678  0.0789  0.1643    0.5391  8750.0010  \n",
              "7  0.0678  0.0789  0.0102    0.0209  2083.3332  "
            ],
            "text/html": [
              "\n",
              "  <div id=\"df-96b88152-84c6-45a0-9c4d-4b76fae6013d\" class=\"colab-df-container\">\n",
              "    <div>\n",
              "<style scoped>\n",
              "    .dataframe tbody tr th:only-of-type {\n",
              "        vertical-align: middle;\n",
              "    }\n",
              "\n",
              "    .dataframe tbody tr th {\n",
              "        vertical-align: top;\n",
              "    }\n",
              "\n",
              "    .dataframe thead th {\n",
              "        text-align: right;\n",
              "    }\n",
              "</style>\n",
              "<table border=\"1\" class=\"dataframe\">\n",
              "  <thead>\n",
              "    <tr style=\"text-align: right;\">\n",
              "      <th></th>\n",
              "      <th>Unnamed: 0</th>\n",
              "      <th>mode</th>\n",
              "      <th>price</th>\n",
              "      <th>catch</th>\n",
              "      <th>pbeach</th>\n",
              "      <th>ppier</th>\n",
              "      <th>pboat</th>\n",
              "      <th>pcharter</th>\n",
              "      <th>cbeach</th>\n",
              "      <th>cpier</th>\n",
              "      <th>cboat</th>\n",
              "      <th>ccharter</th>\n",
              "      <th>income</th>\n",
              "    </tr>\n",
              "  </thead>\n",
              "  <tbody>\n",
              "    <tr>\n",
              "      <th>0</th>\n",
              "      <td>1</td>\n",
              "      <td>charter</td>\n",
              "      <td>182.930</td>\n",
              "      <td>0.5391</td>\n",
              "      <td>157.930</td>\n",
              "      <td>157.930</td>\n",
              "      <td>157.930</td>\n",
              "      <td>182.930</td>\n",
              "      <td>0.0678</td>\n",
              "      <td>0.0503</td>\n",
              "      <td>0.2601</td>\n",
              "      <td>0.5391</td>\n",
              "      <td>7083.3317</td>\n",
              "    </tr>\n",
              "    <tr>\n",
              "      <th>1</th>\n",
              "      <td>2</td>\n",
              "      <td>charter</td>\n",
              "      <td>34.534</td>\n",
              "      <td>0.4671</td>\n",
              "      <td>15.114</td>\n",
              "      <td>15.114</td>\n",
              "      <td>10.534</td>\n",
              "      <td>34.534</td>\n",
              "      <td>0.1049</td>\n",
              "      <td>0.0451</td>\n",
              "      <td>0.1574</td>\n",
              "      <td>0.4671</td>\n",
              "      <td>1249.9998</td>\n",
              "    </tr>\n",
              "    <tr>\n",
              "      <th>2</th>\n",
              "      <td>3</td>\n",
              "      <td>boat</td>\n",
              "      <td>24.334</td>\n",
              "      <td>0.2413</td>\n",
              "      <td>161.874</td>\n",
              "      <td>161.874</td>\n",
              "      <td>24.334</td>\n",
              "      <td>59.334</td>\n",
              "      <td>0.5333</td>\n",
              "      <td>0.4522</td>\n",
              "      <td>0.2413</td>\n",
              "      <td>1.0266</td>\n",
              "      <td>3749.9999</td>\n",
              "    </tr>\n",
              "    <tr>\n",
              "      <th>3</th>\n",
              "      <td>4</td>\n",
              "      <td>pier</td>\n",
              "      <td>15.134</td>\n",
              "      <td>0.0789</td>\n",
              "      <td>15.134</td>\n",
              "      <td>15.134</td>\n",
              "      <td>55.930</td>\n",
              "      <td>84.930</td>\n",
              "      <td>0.0678</td>\n",
              "      <td>0.0789</td>\n",
              "      <td>0.1643</td>\n",
              "      <td>0.5391</td>\n",
              "      <td>2083.3332</td>\n",
              "    </tr>\n",
              "    <tr>\n",
              "      <th>4</th>\n",
              "      <td>5</td>\n",
              "      <td>boat</td>\n",
              "      <td>41.514</td>\n",
              "      <td>0.1082</td>\n",
              "      <td>106.930</td>\n",
              "      <td>106.930</td>\n",
              "      <td>41.514</td>\n",
              "      <td>71.014</td>\n",
              "      <td>0.0678</td>\n",
              "      <td>0.0503</td>\n",
              "      <td>0.1082</td>\n",
              "      <td>0.3240</td>\n",
              "      <td>4583.3320</td>\n",
              "    </tr>\n",
              "    <tr>\n",
              "      <th>5</th>\n",
              "      <td>6</td>\n",
              "      <td>charter</td>\n",
              "      <td>63.934</td>\n",
              "      <td>0.3975</td>\n",
              "      <td>192.474</td>\n",
              "      <td>192.474</td>\n",
              "      <td>28.934</td>\n",
              "      <td>63.934</td>\n",
              "      <td>0.5333</td>\n",
              "      <td>0.4522</td>\n",
              "      <td>0.1665</td>\n",
              "      <td>0.3975</td>\n",
              "      <td>4583.3320</td>\n",
              "    </tr>\n",
              "    <tr>\n",
              "      <th>6</th>\n",
              "      <td>7</td>\n",
              "      <td>beach</td>\n",
              "      <td>51.934</td>\n",
              "      <td>0.0678</td>\n",
              "      <td>51.934</td>\n",
              "      <td>51.934</td>\n",
              "      <td>191.930</td>\n",
              "      <td>220.930</td>\n",
              "      <td>0.0678</td>\n",
              "      <td>0.0789</td>\n",
              "      <td>0.1643</td>\n",
              "      <td>0.5391</td>\n",
              "      <td>8750.0010</td>\n",
              "    </tr>\n",
              "    <tr>\n",
              "      <th>7</th>\n",
              "      <td>8</td>\n",
              "      <td>charter</td>\n",
              "      <td>56.714</td>\n",
              "      <td>0.0209</td>\n",
              "      <td>15.134</td>\n",
              "      <td>15.134</td>\n",
              "      <td>21.714</td>\n",
              "      <td>56.714</td>\n",
              "      <td>0.0678</td>\n",
              "      <td>0.0789</td>\n",
              "      <td>0.0102</td>\n",
              "      <td>0.0209</td>\n",
              "      <td>2083.3332</td>\n",
              "    </tr>\n",
              "  </tbody>\n",
              "</table>\n",
              "</div>\n",
              "    <div class=\"colab-df-buttons\">\n",
              "\n",
              "  <div class=\"colab-df-container\">\n",
              "    <button class=\"colab-df-convert\" onclick=\"convertToInteractive('df-96b88152-84c6-45a0-9c4d-4b76fae6013d')\"\n",
              "            title=\"Convert this dataframe to an interactive table.\"\n",
              "            style=\"display:none;\">\n",
              "\n",
              "  <svg xmlns=\"http://www.w3.org/2000/svg\" height=\"24px\" viewBox=\"0 -960 960 960\">\n",
              "    <path d=\"M120-120v-720h720v720H120Zm60-500h600v-160H180v160Zm220 220h160v-160H400v160Zm0 220h160v-160H400v160ZM180-400h160v-160H180v160Zm440 0h160v-160H620v160ZM180-180h160v-160H180v160Zm440 0h160v-160H620v160Z\"/>\n",
              "  </svg>\n",
              "    </button>\n",
              "\n",
              "  <style>\n",
              "    .colab-df-container {\n",
              "      display:flex;\n",
              "      gap: 12px;\n",
              "    }\n",
              "\n",
              "    .colab-df-convert {\n",
              "      background-color: #E8F0FE;\n",
              "      border: none;\n",
              "      border-radius: 50%;\n",
              "      cursor: pointer;\n",
              "      display: none;\n",
              "      fill: #1967D2;\n",
              "      height: 32px;\n",
              "      padding: 0 0 0 0;\n",
              "      width: 32px;\n",
              "    }\n",
              "\n",
              "    .colab-df-convert:hover {\n",
              "      background-color: #E2EBFA;\n",
              "      box-shadow: 0px 1px 2px rgba(60, 64, 67, 0.3), 0px 1px 3px 1px rgba(60, 64, 67, 0.15);\n",
              "      fill: #174EA6;\n",
              "    }\n",
              "\n",
              "    .colab-df-buttons div {\n",
              "      margin-bottom: 4px;\n",
              "    }\n",
              "\n",
              "    [theme=dark] .colab-df-convert {\n",
              "      background-color: #3B4455;\n",
              "      fill: #D2E3FC;\n",
              "    }\n",
              "\n",
              "    [theme=dark] .colab-df-convert:hover {\n",
              "      background-color: #434B5C;\n",
              "      box-shadow: 0px 1px 3px 1px rgba(0, 0, 0, 0.15);\n",
              "      filter: drop-shadow(0px 1px 2px rgba(0, 0, 0, 0.3));\n",
              "      fill: #FFFFFF;\n",
              "    }\n",
              "  </style>\n",
              "\n",
              "    <script>\n",
              "      const buttonEl =\n",
              "        document.querySelector('#df-96b88152-84c6-45a0-9c4d-4b76fae6013d button.colab-df-convert');\n",
              "      buttonEl.style.display =\n",
              "        google.colab.kernel.accessAllowed ? 'block' : 'none';\n",
              "\n",
              "      async function convertToInteractive(key) {\n",
              "        const element = document.querySelector('#df-96b88152-84c6-45a0-9c4d-4b76fae6013d');\n",
              "        const dataTable =\n",
              "          await google.colab.kernel.invokeFunction('convertToInteractive',\n",
              "                                                    [key], {});\n",
              "        if (!dataTable) return;\n",
              "\n",
              "        const docLinkHtml = 'Like what you see? Visit the ' +\n",
              "          '<a target=\"_blank\" href=https://colab.research.google.com/notebooks/data_table.ipynb>data table notebook</a>'\n",
              "          + ' to learn more about interactive tables.';\n",
              "        element.innerHTML = '';\n",
              "        dataTable['output_type'] = 'display_data';\n",
              "        await google.colab.output.renderOutput(dataTable, element);\n",
              "        const docLink = document.createElement('div');\n",
              "        docLink.innerHTML = docLinkHtml;\n",
              "        element.appendChild(docLink);\n",
              "      }\n",
              "    </script>\n",
              "  </div>\n",
              "\n",
              "\n",
              "<div id=\"df-ddaa7fe2-8e0d-4dc7-98f5-ec3919997cc2\">\n",
              "  <button class=\"colab-df-quickchart\" onclick=\"quickchart('df-ddaa7fe2-8e0d-4dc7-98f5-ec3919997cc2')\"\n",
              "            title=\"Suggest charts\"\n",
              "            style=\"display:none;\">\n",
              "\n",
              "<svg xmlns=\"http://www.w3.org/2000/svg\" height=\"24px\"viewBox=\"0 0 24 24\"\n",
              "     width=\"24px\">\n",
              "    <g>\n",
              "        <path d=\"M19 3H5c-1.1 0-2 .9-2 2v14c0 1.1.9 2 2 2h14c1.1 0 2-.9 2-2V5c0-1.1-.9-2-2-2zM9 17H7v-7h2v7zm4 0h-2V7h2v10zm4 0h-2v-4h2v4z\"/>\n",
              "    </g>\n",
              "</svg>\n",
              "  </button>\n",
              "\n",
              "<style>\n",
              "  .colab-df-quickchart {\n",
              "      --bg-color: #E8F0FE;\n",
              "      --fill-color: #1967D2;\n",
              "      --hover-bg-color: #E2EBFA;\n",
              "      --hover-fill-color: #174EA6;\n",
              "      --disabled-fill-color: #AAA;\n",
              "      --disabled-bg-color: #DDD;\n",
              "  }\n",
              "\n",
              "  [theme=dark] .colab-df-quickchart {\n",
              "      --bg-color: #3B4455;\n",
              "      --fill-color: #D2E3FC;\n",
              "      --hover-bg-color: #434B5C;\n",
              "      --hover-fill-color: #FFFFFF;\n",
              "      --disabled-bg-color: #3B4455;\n",
              "      --disabled-fill-color: #666;\n",
              "  }\n",
              "\n",
              "  .colab-df-quickchart {\n",
              "    background-color: var(--bg-color);\n",
              "    border: none;\n",
              "    border-radius: 50%;\n",
              "    cursor: pointer;\n",
              "    display: none;\n",
              "    fill: var(--fill-color);\n",
              "    height: 32px;\n",
              "    padding: 0;\n",
              "    width: 32px;\n",
              "  }\n",
              "\n",
              "  .colab-df-quickchart:hover {\n",
              "    background-color: var(--hover-bg-color);\n",
              "    box-shadow: 0 1px 2px rgba(60, 64, 67, 0.3), 0 1px 3px 1px rgba(60, 64, 67, 0.15);\n",
              "    fill: var(--button-hover-fill-color);\n",
              "  }\n",
              "\n",
              "  .colab-df-quickchart-complete:disabled,\n",
              "  .colab-df-quickchart-complete:disabled:hover {\n",
              "    background-color: var(--disabled-bg-color);\n",
              "    fill: var(--disabled-fill-color);\n",
              "    box-shadow: none;\n",
              "  }\n",
              "\n",
              "  .colab-df-spinner {\n",
              "    border: 2px solid var(--fill-color);\n",
              "    border-color: transparent;\n",
              "    border-bottom-color: var(--fill-color);\n",
              "    animation:\n",
              "      spin 1s steps(1) infinite;\n",
              "  }\n",
              "\n",
              "  @keyframes spin {\n",
              "    0% {\n",
              "      border-color: transparent;\n",
              "      border-bottom-color: var(--fill-color);\n",
              "      border-left-color: var(--fill-color);\n",
              "    }\n",
              "    20% {\n",
              "      border-color: transparent;\n",
              "      border-left-color: var(--fill-color);\n",
              "      border-top-color: var(--fill-color);\n",
              "    }\n",
              "    30% {\n",
              "      border-color: transparent;\n",
              "      border-left-color: var(--fill-color);\n",
              "      border-top-color: var(--fill-color);\n",
              "      border-right-color: var(--fill-color);\n",
              "    }\n",
              "    40% {\n",
              "      border-color: transparent;\n",
              "      border-right-color: var(--fill-color);\n",
              "      border-top-color: var(--fill-color);\n",
              "    }\n",
              "    60% {\n",
              "      border-color: transparent;\n",
              "      border-right-color: var(--fill-color);\n",
              "    }\n",
              "    80% {\n",
              "      border-color: transparent;\n",
              "      border-right-color: var(--fill-color);\n",
              "      border-bottom-color: var(--fill-color);\n",
              "    }\n",
              "    90% {\n",
              "      border-color: transparent;\n",
              "      border-bottom-color: var(--fill-color);\n",
              "    }\n",
              "  }\n",
              "</style>\n",
              "\n",
              "  <script>\n",
              "    async function quickchart(key) {\n",
              "      const quickchartButtonEl =\n",
              "        document.querySelector('#' + key + ' button');\n",
              "      quickchartButtonEl.disabled = true;  // To prevent multiple clicks.\n",
              "      quickchartButtonEl.classList.add('colab-df-spinner');\n",
              "      try {\n",
              "        const charts = await google.colab.kernel.invokeFunction(\n",
              "            'suggestCharts', [key], {});\n",
              "      } catch (error) {\n",
              "        console.error('Error during call to suggestCharts:', error);\n",
              "      }\n",
              "      quickchartButtonEl.classList.remove('colab-df-spinner');\n",
              "      quickchartButtonEl.classList.add('colab-df-quickchart-complete');\n",
              "    }\n",
              "    (() => {\n",
              "      let quickchartButtonEl =\n",
              "        document.querySelector('#df-ddaa7fe2-8e0d-4dc7-98f5-ec3919997cc2 button');\n",
              "      quickchartButtonEl.style.display =\n",
              "        google.colab.kernel.accessAllowed ? 'block' : 'none';\n",
              "    })();\n",
              "  </script>\n",
              "</div>\n",
              "    </div>\n",
              "  </div>\n"
            ],
            "application/vnd.google.colaboratory.intrinsic+json": {
              "type": "dataframe",
              "variable_name": "fishing_data",
              "summary": "{\n  \"name\": \"fishing_data\",\n  \"rows\": 1182,\n  \"fields\": [\n    {\n      \"column\": \"Unnamed: 0\",\n      \"properties\": {\n        \"dtype\": \"number\",\n        \"std\": 341,\n        \"min\": 1,\n        \"max\": 1182,\n        \"num_unique_values\": 1182,\n        \"samples\": [\n          803,\n          1002,\n          1048\n        ],\n        \"semantic_type\": \"\",\n        \"description\": \"\"\n      }\n    },\n    {\n      \"column\": \"mode\",\n      \"properties\": {\n        \"dtype\": \"category\",\n        \"num_unique_values\": 4,\n        \"samples\": [\n          \"boat\",\n          \"beach\",\n          \"charter\"\n        ],\n        \"semantic_type\": \"\",\n        \"description\": \"\"\n      }\n    },\n    {\n      \"column\": \"price\",\n      \"properties\": {\n        \"dtype\": \"number\",\n        \"std\": 53.829969717490755,\n        \"min\": 1.29,\n        \"max\": 666.11,\n        \"num_unique_values\": 539,\n        \"samples\": [\n          131.726,\n          91.24,\n          48.674\n        ],\n        \"semantic_type\": \"\",\n        \"description\": \"\"\n      }\n    },\n    {\n      \"column\": \"catch\",\n      \"properties\": {\n        \"dtype\": \"number\",\n        \"std\": 0.5605964534504143,\n        \"min\": 0.0002,\n        \"max\": 2.3101,\n        \"num_unique_values\": 71,\n        \"samples\": [\n          0.0023,\n          0.5391,\n          0.0014\n        ],\n        \"semantic_type\": \"\",\n        \"description\": \"\"\n      }\n    },\n    {\n      \"column\": \"pbeach\",\n      \"properties\": {\n        \"dtype\": \"number\",\n        \"std\": 103.64104165063398,\n        \"min\": 1.29,\n        \"max\": 843.186,\n        \"num_unique_values\": 505,\n        \"samples\": [\n          2.29,\n          138.996,\n          32.076\n        ],\n        \"semantic_type\": \"\",\n        \"description\": \"\"\n      }\n    },\n    {\n      \"column\": \"ppier\",\n      \"properties\": {\n        \"dtype\": \"number\",\n        \"std\": 103.64104165063398,\n        \"min\": 1.29,\n        \"max\": 843.186,\n        \"num_unique_values\": 505,\n        \"samples\": [\n          2.29,\n          138.996,\n          32.076\n        ],\n        \"semantic_type\": \"\",\n        \"description\": \"\"\n      }\n    },\n    {\n      \"column\": \"pboat\",\n      \"properties\": {\n        \"dtype\": \"number\",\n        \"std\": 62.71344439408036,\n        \"min\": 2.29,\n        \"max\": 666.11,\n        \"num_unique_values\": 427,\n        \"samples\": [\n          123.552,\n          74.088,\n          27.87\n        ],\n        \"semantic_type\": \"\",\n        \"description\": \"\"\n      }\n    },\n    {\n      \"column\": \"pcharter\",\n      \"properties\": {\n        \"dtype\": \"number\",\n        \"std\": 63.544649521932385,\n        \"min\": 27.29,\n        \"max\": 691.11,\n        \"num_unique_values\": 576,\n        \"samples\": [\n          104.748,\n          77.772,\n          111.874\n        ],\n        \"semantic_type\": \"\",\n        \"description\": \"\"\n      }\n    },\n    {\n      \"column\": \"cbeach\",\n      \"properties\": {\n        \"dtype\": \"number\",\n        \"std\": 0.19075245714076583,\n        \"min\": 0.0678,\n        \"max\": 0.5333,\n        \"num_unique_values\": 4,\n        \"samples\": [\n          0.1049,\n          0.2537,\n          0.0678\n        ],\n        \"semantic_type\": \"\",\n        \"description\": \"\"\n      }\n    },\n    {\n      \"column\": \"cpier\",\n      \"properties\": {\n        \"dtype\": \"number\",\n        \"std\": 0.16038982369018293,\n        \"min\": 0.0014,\n        \"max\": 0.4522,\n        \"num_unique_values\": 10,\n        \"samples\": [\n          0.0052,\n          0.0451,\n          0.0079\n        ],\n        \"semantic_type\": \"\",\n        \"description\": \"\"\n      }\n    },\n    {\n      \"column\": \"cboat\",\n      \"properties\": {\n        \"dtype\": \"number\",\n        \"std\": 0.20978850786648934,\n        \"min\": 0.0002,\n        \"max\": 0.7369,\n        \"num_unique_values\": 36,\n        \"samples\": [\n          0.0022,\n          0.0156,\n          0.0499\n        ],\n        \"semantic_type\": \"\",\n        \"description\": \"\"\n      }\n    },\n    {\n      \"column\": \"ccharter\",\n      \"properties\": {\n        \"dtype\": \"number\",\n        \"std\": 0.7061141909764729,\n        \"min\": 0.0021,\n        \"max\": 2.3101,\n        \"num_unique_values\": 30,\n        \"samples\": [\n          0.0027,\n          0.0052,\n          0.1176\n        ],\n        \"semantic_type\": \"\",\n        \"description\": \"\"\n      }\n    },\n    {\n      \"column\": \"income\",\n      \"properties\": {\n        \"dtype\": \"number\",\n        \"std\": 2461.9640599585377,\n        \"min\": 416.66668,\n        \"max\": 12499.998,\n        \"num_unique_values\": 15,\n        \"samples\": [\n          12499.998,\n          416.66668,\n          7083.3317\n        ],\n        \"semantic_type\": \"\",\n        \"description\": \"\"\n      }\n    }\n  ]\n}"
            }
          },
          "metadata": {},
          "execution_count": 24
        }
      ],
      "source": [
        "fishing_data.head(8)"
      ]
    },
    {
      "cell_type": "code",
      "source": [
        "fishing_data.tail(8)"
      ],
      "metadata": {
        "colab": {
          "base_uri": "https://localhost:8080/",
          "height": 300
        },
        "id": "fgtRYQUngZRJ",
        "outputId": "051565cf-8578-4cb0-d2f6-452ee700d13d"
      },
      "execution_count": 25,
      "outputs": [
        {
          "output_type": "execute_result",
          "data": {
            "text/plain": [
              "      Unnamed: 0     mode    price   catch   pbeach    ppier    pboat  \\\n",
              "1174        1175     boat   86.802  0.0102   91.834   91.834   86.802   \n",
              "1175        1176  charter  149.402  0.0209  121.034  121.034  114.402   \n",
              "1176        1177    beach  121.836  0.5333  121.836  121.836  203.346   \n",
              "1177        1178     pier  150.236  0.4522  150.236  150.236  250.746   \n",
              "1178        1179    beach  235.436  0.5333  235.436  235.436  392.946   \n",
              "1179        1180     pier   65.036  0.4522   65.036   65.036  108.546   \n",
              "1180        1181    beach   36.636  0.5333   36.636   36.636   61.146   \n",
              "1181        1182     boat  235.436  0.6817  339.890  339.890  235.436   \n",
              "\n",
              "      pcharter  cbeach   cpier   cboat  ccharter      income  \n",
              "1174   121.802  0.0678  0.0789  0.0102    0.0209  4583.33200  \n",
              "1175   149.402  0.0678  0.0789  0.0102    0.0209  6250.00130  \n",
              "1176   238.346  0.5333  0.4522  0.2413    1.0266  2916.66660  \n",
              "1177   285.746  0.5333  0.4522  0.2413    1.0266  3749.99990  \n",
              "1178   427.946  0.5333  0.4522  0.2413    1.0266  6250.00130  \n",
              "1179   143.546  0.5333  0.4522  0.2413    1.0266  1249.99980  \n",
              "1180    96.146  0.5333  0.4522  0.1665    0.3975   416.66668  \n",
              "1181   260.436  0.2537  0.1498  0.6817    2.3014  6250.00130  "
            ],
            "text/html": [
              "\n",
              "  <div id=\"df-d5646106-46df-4015-b346-51d006a74414\" class=\"colab-df-container\">\n",
              "    <div>\n",
              "<style scoped>\n",
              "    .dataframe tbody tr th:only-of-type {\n",
              "        vertical-align: middle;\n",
              "    }\n",
              "\n",
              "    .dataframe tbody tr th {\n",
              "        vertical-align: top;\n",
              "    }\n",
              "\n",
              "    .dataframe thead th {\n",
              "        text-align: right;\n",
              "    }\n",
              "</style>\n",
              "<table border=\"1\" class=\"dataframe\">\n",
              "  <thead>\n",
              "    <tr style=\"text-align: right;\">\n",
              "      <th></th>\n",
              "      <th>Unnamed: 0</th>\n",
              "      <th>mode</th>\n",
              "      <th>price</th>\n",
              "      <th>catch</th>\n",
              "      <th>pbeach</th>\n",
              "      <th>ppier</th>\n",
              "      <th>pboat</th>\n",
              "      <th>pcharter</th>\n",
              "      <th>cbeach</th>\n",
              "      <th>cpier</th>\n",
              "      <th>cboat</th>\n",
              "      <th>ccharter</th>\n",
              "      <th>income</th>\n",
              "    </tr>\n",
              "  </thead>\n",
              "  <tbody>\n",
              "    <tr>\n",
              "      <th>1174</th>\n",
              "      <td>1175</td>\n",
              "      <td>boat</td>\n",
              "      <td>86.802</td>\n",
              "      <td>0.0102</td>\n",
              "      <td>91.834</td>\n",
              "      <td>91.834</td>\n",
              "      <td>86.802</td>\n",
              "      <td>121.802</td>\n",
              "      <td>0.0678</td>\n",
              "      <td>0.0789</td>\n",
              "      <td>0.0102</td>\n",
              "      <td>0.0209</td>\n",
              "      <td>4583.33200</td>\n",
              "    </tr>\n",
              "    <tr>\n",
              "      <th>1175</th>\n",
              "      <td>1176</td>\n",
              "      <td>charter</td>\n",
              "      <td>149.402</td>\n",
              "      <td>0.0209</td>\n",
              "      <td>121.034</td>\n",
              "      <td>121.034</td>\n",
              "      <td>114.402</td>\n",
              "      <td>149.402</td>\n",
              "      <td>0.0678</td>\n",
              "      <td>0.0789</td>\n",
              "      <td>0.0102</td>\n",
              "      <td>0.0209</td>\n",
              "      <td>6250.00130</td>\n",
              "    </tr>\n",
              "    <tr>\n",
              "      <th>1176</th>\n",
              "      <td>1177</td>\n",
              "      <td>beach</td>\n",
              "      <td>121.836</td>\n",
              "      <td>0.5333</td>\n",
              "      <td>121.836</td>\n",
              "      <td>121.836</td>\n",
              "      <td>203.346</td>\n",
              "      <td>238.346</td>\n",
              "      <td>0.5333</td>\n",
              "      <td>0.4522</td>\n",
              "      <td>0.2413</td>\n",
              "      <td>1.0266</td>\n",
              "      <td>2916.66660</td>\n",
              "    </tr>\n",
              "    <tr>\n",
              "      <th>1177</th>\n",
              "      <td>1178</td>\n",
              "      <td>pier</td>\n",
              "      <td>150.236</td>\n",
              "      <td>0.4522</td>\n",
              "      <td>150.236</td>\n",
              "      <td>150.236</td>\n",
              "      <td>250.746</td>\n",
              "      <td>285.746</td>\n",
              "      <td>0.5333</td>\n",
              "      <td>0.4522</td>\n",
              "      <td>0.2413</td>\n",
              "      <td>1.0266</td>\n",
              "      <td>3749.99990</td>\n",
              "    </tr>\n",
              "    <tr>\n",
              "      <th>1178</th>\n",
              "      <td>1179</td>\n",
              "      <td>beach</td>\n",
              "      <td>235.436</td>\n",
              "      <td>0.5333</td>\n",
              "      <td>235.436</td>\n",
              "      <td>235.436</td>\n",
              "      <td>392.946</td>\n",
              "      <td>427.946</td>\n",
              "      <td>0.5333</td>\n",
              "      <td>0.4522</td>\n",
              "      <td>0.2413</td>\n",
              "      <td>1.0266</td>\n",
              "      <td>6250.00130</td>\n",
              "    </tr>\n",
              "    <tr>\n",
              "      <th>1179</th>\n",
              "      <td>1180</td>\n",
              "      <td>pier</td>\n",
              "      <td>65.036</td>\n",
              "      <td>0.4522</td>\n",
              "      <td>65.036</td>\n",
              "      <td>65.036</td>\n",
              "      <td>108.546</td>\n",
              "      <td>143.546</td>\n",
              "      <td>0.5333</td>\n",
              "      <td>0.4522</td>\n",
              "      <td>0.2413</td>\n",
              "      <td>1.0266</td>\n",
              "      <td>1249.99980</td>\n",
              "    </tr>\n",
              "    <tr>\n",
              "      <th>1180</th>\n",
              "      <td>1181</td>\n",
              "      <td>beach</td>\n",
              "      <td>36.636</td>\n",
              "      <td>0.5333</td>\n",
              "      <td>36.636</td>\n",
              "      <td>36.636</td>\n",
              "      <td>61.146</td>\n",
              "      <td>96.146</td>\n",
              "      <td>0.5333</td>\n",
              "      <td>0.4522</td>\n",
              "      <td>0.1665</td>\n",
              "      <td>0.3975</td>\n",
              "      <td>416.66668</td>\n",
              "    </tr>\n",
              "    <tr>\n",
              "      <th>1181</th>\n",
              "      <td>1182</td>\n",
              "      <td>boat</td>\n",
              "      <td>235.436</td>\n",
              "      <td>0.6817</td>\n",
              "      <td>339.890</td>\n",
              "      <td>339.890</td>\n",
              "      <td>235.436</td>\n",
              "      <td>260.436</td>\n",
              "      <td>0.2537</td>\n",
              "      <td>0.1498</td>\n",
              "      <td>0.6817</td>\n",
              "      <td>2.3014</td>\n",
              "      <td>6250.00130</td>\n",
              "    </tr>\n",
              "  </tbody>\n",
              "</table>\n",
              "</div>\n",
              "    <div class=\"colab-df-buttons\">\n",
              "\n",
              "  <div class=\"colab-df-container\">\n",
              "    <button class=\"colab-df-convert\" onclick=\"convertToInteractive('df-d5646106-46df-4015-b346-51d006a74414')\"\n",
              "            title=\"Convert this dataframe to an interactive table.\"\n",
              "            style=\"display:none;\">\n",
              "\n",
              "  <svg xmlns=\"http://www.w3.org/2000/svg\" height=\"24px\" viewBox=\"0 -960 960 960\">\n",
              "    <path d=\"M120-120v-720h720v720H120Zm60-500h600v-160H180v160Zm220 220h160v-160H400v160Zm0 220h160v-160H400v160ZM180-400h160v-160H180v160Zm440 0h160v-160H620v160ZM180-180h160v-160H180v160Zm440 0h160v-160H620v160Z\"/>\n",
              "  </svg>\n",
              "    </button>\n",
              "\n",
              "  <style>\n",
              "    .colab-df-container {\n",
              "      display:flex;\n",
              "      gap: 12px;\n",
              "    }\n",
              "\n",
              "    .colab-df-convert {\n",
              "      background-color: #E8F0FE;\n",
              "      border: none;\n",
              "      border-radius: 50%;\n",
              "      cursor: pointer;\n",
              "      display: none;\n",
              "      fill: #1967D2;\n",
              "      height: 32px;\n",
              "      padding: 0 0 0 0;\n",
              "      width: 32px;\n",
              "    }\n",
              "\n",
              "    .colab-df-convert:hover {\n",
              "      background-color: #E2EBFA;\n",
              "      box-shadow: 0px 1px 2px rgba(60, 64, 67, 0.3), 0px 1px 3px 1px rgba(60, 64, 67, 0.15);\n",
              "      fill: #174EA6;\n",
              "    }\n",
              "\n",
              "    .colab-df-buttons div {\n",
              "      margin-bottom: 4px;\n",
              "    }\n",
              "\n",
              "    [theme=dark] .colab-df-convert {\n",
              "      background-color: #3B4455;\n",
              "      fill: #D2E3FC;\n",
              "    }\n",
              "\n",
              "    [theme=dark] .colab-df-convert:hover {\n",
              "      background-color: #434B5C;\n",
              "      box-shadow: 0px 1px 3px 1px rgba(0, 0, 0, 0.15);\n",
              "      filter: drop-shadow(0px 1px 2px rgba(0, 0, 0, 0.3));\n",
              "      fill: #FFFFFF;\n",
              "    }\n",
              "  </style>\n",
              "\n",
              "    <script>\n",
              "      const buttonEl =\n",
              "        document.querySelector('#df-d5646106-46df-4015-b346-51d006a74414 button.colab-df-convert');\n",
              "      buttonEl.style.display =\n",
              "        google.colab.kernel.accessAllowed ? 'block' : 'none';\n",
              "\n",
              "      async function convertToInteractive(key) {\n",
              "        const element = document.querySelector('#df-d5646106-46df-4015-b346-51d006a74414');\n",
              "        const dataTable =\n",
              "          await google.colab.kernel.invokeFunction('convertToInteractive',\n",
              "                                                    [key], {});\n",
              "        if (!dataTable) return;\n",
              "\n",
              "        const docLinkHtml = 'Like what you see? Visit the ' +\n",
              "          '<a target=\"_blank\" href=https://colab.research.google.com/notebooks/data_table.ipynb>data table notebook</a>'\n",
              "          + ' to learn more about interactive tables.';\n",
              "        element.innerHTML = '';\n",
              "        dataTable['output_type'] = 'display_data';\n",
              "        await google.colab.output.renderOutput(dataTable, element);\n",
              "        const docLink = document.createElement('div');\n",
              "        docLink.innerHTML = docLinkHtml;\n",
              "        element.appendChild(docLink);\n",
              "      }\n",
              "    </script>\n",
              "  </div>\n",
              "\n",
              "\n",
              "<div id=\"df-d56f1148-948d-4ba2-bf3f-49c2d607ac50\">\n",
              "  <button class=\"colab-df-quickchart\" onclick=\"quickchart('df-d56f1148-948d-4ba2-bf3f-49c2d607ac50')\"\n",
              "            title=\"Suggest charts\"\n",
              "            style=\"display:none;\">\n",
              "\n",
              "<svg xmlns=\"http://www.w3.org/2000/svg\" height=\"24px\"viewBox=\"0 0 24 24\"\n",
              "     width=\"24px\">\n",
              "    <g>\n",
              "        <path d=\"M19 3H5c-1.1 0-2 .9-2 2v14c0 1.1.9 2 2 2h14c1.1 0 2-.9 2-2V5c0-1.1-.9-2-2-2zM9 17H7v-7h2v7zm4 0h-2V7h2v10zm4 0h-2v-4h2v4z\"/>\n",
              "    </g>\n",
              "</svg>\n",
              "  </button>\n",
              "\n",
              "<style>\n",
              "  .colab-df-quickchart {\n",
              "      --bg-color: #E8F0FE;\n",
              "      --fill-color: #1967D2;\n",
              "      --hover-bg-color: #E2EBFA;\n",
              "      --hover-fill-color: #174EA6;\n",
              "      --disabled-fill-color: #AAA;\n",
              "      --disabled-bg-color: #DDD;\n",
              "  }\n",
              "\n",
              "  [theme=dark] .colab-df-quickchart {\n",
              "      --bg-color: #3B4455;\n",
              "      --fill-color: #D2E3FC;\n",
              "      --hover-bg-color: #434B5C;\n",
              "      --hover-fill-color: #FFFFFF;\n",
              "      --disabled-bg-color: #3B4455;\n",
              "      --disabled-fill-color: #666;\n",
              "  }\n",
              "\n",
              "  .colab-df-quickchart {\n",
              "    background-color: var(--bg-color);\n",
              "    border: none;\n",
              "    border-radius: 50%;\n",
              "    cursor: pointer;\n",
              "    display: none;\n",
              "    fill: var(--fill-color);\n",
              "    height: 32px;\n",
              "    padding: 0;\n",
              "    width: 32px;\n",
              "  }\n",
              "\n",
              "  .colab-df-quickchart:hover {\n",
              "    background-color: var(--hover-bg-color);\n",
              "    box-shadow: 0 1px 2px rgba(60, 64, 67, 0.3), 0 1px 3px 1px rgba(60, 64, 67, 0.15);\n",
              "    fill: var(--button-hover-fill-color);\n",
              "  }\n",
              "\n",
              "  .colab-df-quickchart-complete:disabled,\n",
              "  .colab-df-quickchart-complete:disabled:hover {\n",
              "    background-color: var(--disabled-bg-color);\n",
              "    fill: var(--disabled-fill-color);\n",
              "    box-shadow: none;\n",
              "  }\n",
              "\n",
              "  .colab-df-spinner {\n",
              "    border: 2px solid var(--fill-color);\n",
              "    border-color: transparent;\n",
              "    border-bottom-color: var(--fill-color);\n",
              "    animation:\n",
              "      spin 1s steps(1) infinite;\n",
              "  }\n",
              "\n",
              "  @keyframes spin {\n",
              "    0% {\n",
              "      border-color: transparent;\n",
              "      border-bottom-color: var(--fill-color);\n",
              "      border-left-color: var(--fill-color);\n",
              "    }\n",
              "    20% {\n",
              "      border-color: transparent;\n",
              "      border-left-color: var(--fill-color);\n",
              "      border-top-color: var(--fill-color);\n",
              "    }\n",
              "    30% {\n",
              "      border-color: transparent;\n",
              "      border-left-color: var(--fill-color);\n",
              "      border-top-color: var(--fill-color);\n",
              "      border-right-color: var(--fill-color);\n",
              "    }\n",
              "    40% {\n",
              "      border-color: transparent;\n",
              "      border-right-color: var(--fill-color);\n",
              "      border-top-color: var(--fill-color);\n",
              "    }\n",
              "    60% {\n",
              "      border-color: transparent;\n",
              "      border-right-color: var(--fill-color);\n",
              "    }\n",
              "    80% {\n",
              "      border-color: transparent;\n",
              "      border-right-color: var(--fill-color);\n",
              "      border-bottom-color: var(--fill-color);\n",
              "    }\n",
              "    90% {\n",
              "      border-color: transparent;\n",
              "      border-bottom-color: var(--fill-color);\n",
              "    }\n",
              "  }\n",
              "</style>\n",
              "\n",
              "  <script>\n",
              "    async function quickchart(key) {\n",
              "      const quickchartButtonEl =\n",
              "        document.querySelector('#' + key + ' button');\n",
              "      quickchartButtonEl.disabled = true;  // To prevent multiple clicks.\n",
              "      quickchartButtonEl.classList.add('colab-df-spinner');\n",
              "      try {\n",
              "        const charts = await google.colab.kernel.invokeFunction(\n",
              "            'suggestCharts', [key], {});\n",
              "      } catch (error) {\n",
              "        console.error('Error during call to suggestCharts:', error);\n",
              "      }\n",
              "      quickchartButtonEl.classList.remove('colab-df-spinner');\n",
              "      quickchartButtonEl.classList.add('colab-df-quickchart-complete');\n",
              "    }\n",
              "    (() => {\n",
              "      let quickchartButtonEl =\n",
              "        document.querySelector('#df-d56f1148-948d-4ba2-bf3f-49c2d607ac50 button');\n",
              "      quickchartButtonEl.style.display =\n",
              "        google.colab.kernel.accessAllowed ? 'block' : 'none';\n",
              "    })();\n",
              "  </script>\n",
              "</div>\n",
              "    </div>\n",
              "  </div>\n"
            ],
            "application/vnd.google.colaboratory.intrinsic+json": {
              "type": "dataframe",
              "summary": "{\n  \"name\": \"fishing_data\",\n  \"rows\": 8,\n  \"fields\": [\n    {\n      \"column\": \"Unnamed: 0\",\n      \"properties\": {\n        \"dtype\": \"number\",\n        \"std\": 2,\n        \"min\": 1175,\n        \"max\": 1182,\n        \"num_unique_values\": 8,\n        \"samples\": [\n          1176,\n          1180,\n          1175\n        ],\n        \"semantic_type\": \"\",\n        \"description\": \"\"\n      }\n    },\n    {\n      \"column\": \"mode\",\n      \"properties\": {\n        \"dtype\": \"string\",\n        \"num_unique_values\": 4,\n        \"samples\": [\n          \"charter\",\n          \"pier\",\n          \"boat\"\n        ],\n        \"semantic_type\": \"\",\n        \"description\": \"\"\n      }\n    },\n    {\n      \"column\": \"price\",\n      \"properties\": {\n        \"dtype\": \"number\",\n        \"std\": 73.36895541809804,\n        \"min\": 36.636,\n        \"max\": 235.436,\n        \"num_unique_values\": 7,\n        \"samples\": [\n          86.802,\n          149.402,\n          65.036\n        ],\n        \"semantic_type\": \"\",\n        \"description\": \"\"\n      }\n    },\n    {\n      \"column\": \"catch\",\n      \"properties\": {\n        \"dtype\": \"number\",\n        \"std\": 0.24892211597491407,\n        \"min\": 0.0102,\n        \"max\": 0.6817,\n        \"num_unique_values\": 5,\n        \"samples\": [\n          0.0209,\n          0.6817,\n          0.5333\n        ],\n        \"semantic_type\": \"\",\n        \"description\": \"\"\n      }\n    },\n    {\n      \"column\": \"pbeach\",\n      \"properties\": {\n        \"dtype\": \"number\",\n        \"std\": 98.7509781589891,\n        \"min\": 36.636,\n        \"max\": 339.89,\n        \"num_unique_values\": 8,\n        \"samples\": [\n          121.034,\n          65.036,\n          91.834\n        ],\n        \"semantic_type\": \"\",\n        \"description\": \"\"\n      }\n    },\n    {\n      \"column\": \"ppier\",\n      \"properties\": {\n        \"dtype\": \"number\",\n        \"std\": 98.7509781589891,\n        \"min\": 36.636,\n        \"max\": 339.89,\n        \"num_unique_values\": 8,\n        \"samples\": [\n          121.034,\n          65.036,\n          91.834\n        ],\n        \"semantic_type\": \"\",\n        \"description\": \"\"\n      }\n    },\n    {\n      \"column\": \"pboat\",\n      \"properties\": {\n        \"dtype\": \"number\",\n        \"std\": 110.94899012705923,\n        \"min\": 61.146,\n        \"max\": 392.946,\n        \"num_unique_values\": 8,\n        \"samples\": [\n          114.402,\n          108.546,\n          86.802\n        ],\n        \"semantic_type\": \"\",\n        \"description\": \"\"\n      }\n    },\n    {\n      \"column\": \"pcharter\",\n      \"properties\": {\n        \"dtype\": \"number\",\n        \"std\": 110.31121810036237,\n        \"min\": 96.146,\n        \"max\": 427.946,\n        \"num_unique_values\": 8,\n        \"samples\": [\n          149.402,\n          143.546,\n          121.802\n        ],\n        \"semantic_type\": \"\",\n        \"description\": \"\"\n      }\n    },\n    {\n      \"column\": \"cbeach\",\n      \"properties\": {\n        \"dtype\": \"number\",\n        \"std\": 0.21658472937859677,\n        \"min\": 0.0678,\n        \"max\": 0.5333,\n        \"num_unique_values\": 3,\n        \"samples\": [\n          0.0678,\n          0.5333,\n          0.2537\n        ],\n        \"semantic_type\": \"\",\n        \"description\": \"\"\n      }\n    },\n    {\n      \"column\": \"cpier\",\n      \"properties\": {\n        \"dtype\": \"number\",\n        \"std\": 0.18228761222702045,\n        \"min\": 0.0789,\n        \"max\": 0.4522,\n        \"num_unique_values\": 3,\n        \"samples\": [\n          0.0789,\n          0.4522,\n          0.1498\n        ],\n        \"semantic_type\": \"\",\n        \"description\": \"\"\n      }\n    },\n    {\n      \"column\": \"cboat\",\n      \"properties\": {\n        \"dtype\": \"number\",\n        \"std\": 0.20880447963174953,\n        \"min\": 0.0102,\n        \"max\": 0.6817,\n        \"num_unique_values\": 4,\n        \"samples\": [\n          0.2413,\n          0.6817,\n          0.0102\n        ],\n        \"semantic_type\": \"\",\n        \"description\": \"\"\n      }\n    },\n    {\n      \"column\": \"ccharter\",\n      \"properties\": {\n        \"dtype\": \"number\",\n        \"std\": 0.737815769566786,\n        \"min\": 0.0209,\n        \"max\": 2.3014,\n        \"num_unique_values\": 4,\n        \"samples\": [\n          1.0266,\n          2.3014,\n          0.0209\n        ],\n        \"semantic_type\": \"\",\n        \"description\": \"\"\n      }\n    },\n    {\n      \"column\": \"income\",\n      \"properties\": {\n        \"dtype\": \"number\",\n        \"std\": 2303.8103578811047,\n        \"min\": 416.66668,\n        \"max\": 6250.0013,\n        \"num_unique_values\": 6,\n        \"samples\": [\n          4583.332,\n          6250.0013,\n          416.66668\n        ],\n        \"semantic_type\": \"\",\n        \"description\": \"\"\n      }\n    }\n  ]\n}"
            }
          },
          "metadata": {},
          "execution_count": 25
        }
      ]
    },
    {
      "cell_type": "markdown",
      "metadata": {
        "id": "J7lVYGmS82E9"
      },
      "source": [
        "**9.** Сохраните изменённый датафрейм в csv-файл."
      ]
    },
    {
      "cell_type": "code",
      "source": [
        "fishing_data.to_csv('fishing_data_processed.csv', index=False)"
      ],
      "metadata": {
        "id": "VC_95wRugtSS"
      },
      "execution_count": 32,
      "outputs": []
    }
  ],
  "metadata": {
    "kernelspec": {
      "display_name": "Python 3 (ipykernel)",
      "language": "python",
      "name": "python3"
    },
    "language_info": {
      "codemirror_mode": {
        "name": "ipython",
        "version": 3
      },
      "file_extension": ".py",
      "mimetype": "text/x-python",
      "name": "python",
      "nbconvert_exporter": "python",
      "pygments_lexer": "ipython3",
      "version": "3.9.13"
    },
    "toc": {
      "colors": {
        "hover_highlight": "#DAA520",
        "running_highlight": "#FF0000",
        "selected_highlight": "#FFD700"
      },
      "moveMenuLeft": true,
      "nav_menu": {
        "height": "12px",
        "width": "252px"
      },
      "navigate_menu": true,
      "number_sections": true,
      "sideBar": true,
      "threshold": 4,
      "toc_cell": false,
      "toc_position": {
        "height": "550px",
        "left": "0px",
        "right": "1068px",
        "top": "106px",
        "width": "212px"
      },
      "toc_section_display": "block",
      "toc_window_display": false
    },
    "colab": {
      "provenance": []
    }
  },
  "nbformat": 4,
  "nbformat_minor": 0
}