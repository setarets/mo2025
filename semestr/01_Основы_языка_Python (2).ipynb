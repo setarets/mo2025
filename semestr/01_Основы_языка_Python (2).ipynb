{
  "nbformat": 4,
  "nbformat_minor": 0,
  "metadata": {
    "colab": {
      "provenance": []
    },
    "kernelspec": {
      "name": "python3",
      "display_name": "Python 3"
    },
    "language_info": {
      "name": "python"
    }
  },
  "cells": [
    {
      "cell_type": "markdown",
      "source": [
        "# 01 Основы языка Python\n",
        "\n",
        "Рассмотрим принципы работы с языком, арифметические операции, вывод на экран."
      ],
      "metadata": {
        "id": "UmwDdclJn3cu"
      }
    },
    {
      "cell_type": "markdown",
      "source": [
        "# 1. Очень простые «программы»\n",
        "## 1.1 Запуск Python из командной строки\n",
        "Чтобы выполнить фрагменты кода, мы можем запустить Python из командной строки. В этом блокноте Jupyter мы собираемся смоделировать это. Вы можете вводить команды в поля и выполнять их.\n",
        "В поле введите:\n",
        "\n",
        "`print('Hello, World')`\n",
        "\n",
        "Затем нажмите `<shift> + <return>`, чтобы выполнить команду.\n"
      ],
      "metadata": {
        "id": "wgpOvqwkoL5e"
      }
    },
    {
      "cell_type": "code",
      "source": [
        "print('Hello, World')"
      ],
      "metadata": {
        "id": "z0wbzCSmpYvy",
        "colab": {
          "base_uri": "https://localhost:8080/"
        },
        "outputId": "c24805e8-9a0f-4f22-b229-9b7aac35f3f7"
      },
      "execution_count": null,
      "outputs": [
        {
          "output_type": "stream",
          "name": "stdout",
          "text": [
            "Hello, World\n"
          ]
        }
      ]
    },
    {
      "cell_type": "markdown",
      "source": [
        "Что случилось?\n",
        "\n",
        "Вы только что создали программу, которая печатает слова «Hello, World». Среда Python, в которой вы находитесь, немедленно компилирует все, что вы ввели. Это называется интерпретатор языка."
      ],
      "metadata": {
        "id": "pVvtH_sipaLe"
      }
    },
    {
      "cell_type": "markdown",
      "source": [
        "## 1.2 Математика в Python\n",
        "Наберите в ячейке\n",
        "`1 + 1`\n",
        "и выполните код. (см. п. 1.1.)"
      ],
      "metadata": {
        "id": "n2foxPN2pwr0"
      }
    },
    {
      "cell_type": "code",
      "source": [
        "1+1"
      ],
      "metadata": {
        "id": "qb6kPz8Ap6BI",
        "colab": {
          "base_uri": "https://localhost:8080/"
        },
        "outputId": "b0a143e8-356c-4ad5-e9cb-d0ed1fb2abac"
      },
      "execution_count": null,
      "outputs": [
        {
          "output_type": "execute_result",
          "data": {
            "text/plain": [
              "2"
            ]
          },
          "metadata": {},
          "execution_count": 3
        }
      ]
    },
    {
      "cell_type": "markdown",
      "source": [
        "Теперь введите\n",
        "\n",
        "`20 + 80`\n",
        "\n",
        "выполните код."
      ],
      "metadata": {
        "id": "yBbIQd6tp-HV"
      }
    },
    {
      "cell_type": "code",
      "source": [
        "20+80"
      ],
      "metadata": {
        "id": "3zaVgKUVqD_H",
        "colab": {
          "base_uri": "https://localhost:8080/"
        },
        "outputId": "13e9d8d0-6320-4ae2-cacb-5a955f42a827"
      },
      "execution_count": null,
      "outputs": [
        {
          "output_type": "execute_result",
          "data": {
            "text/plain": [
              "100"
            ]
          },
          "metadata": {},
          "execution_count": 4
        }
      ]
    },
    {
      "cell_type": "markdown",
      "source": [
        "Попробуйте и другие операции\n",
        "\n",
        "`+` сложение\n",
        "\n",
        "`-` вычитание\n",
        "\n",
        "`*` умножение\n",
        "\n",
        "`/` деление\n"
      ],
      "metadata": {
        "id": "LIIUHqIVqKOk"
      }
    },
    {
      "cell_type": "code",
      "source": [
        "20*80"
      ],
      "metadata": {
        "id": "OfJF_qwvqaGk",
        "colab": {
          "base_uri": "https://localhost:8080/"
        },
        "outputId": "19c93460-fe7d-4be7-d747-0f9528fb8280"
      },
      "execution_count": null,
      "outputs": [
        {
          "output_type": "execute_result",
          "data": {
            "text/plain": [
              "1600"
            ]
          },
          "metadata": {},
          "execution_count": 7
        }
      ]
    },
    {
      "cell_type": "markdown",
      "source": [
        "Существует операция возведения в степень: $5^2 = $ `5 ** 2`. Попробуйте вычислить в строке ниже."
      ],
      "metadata": {
        "id": "tN5dNWDqqdJk"
      }
    },
    {
      "cell_type": "code",
      "source": [
        "5**2"
      ],
      "metadata": {
        "id": "6ebTTVCGsNBc",
        "colab": {
          "base_uri": "https://localhost:8080/"
        },
        "outputId": "97e42255-bef5-4fe5-bcb8-b9bf9a71fa32"
      },
      "execution_count": null,
      "outputs": [
        {
          "output_type": "execute_result",
          "data": {
            "text/plain": [
              "25"
            ]
          },
          "metadata": {},
          "execution_count": 8
        }
      ]
    },
    {
      "cell_type": "markdown",
      "source": [
        "Операции деления с остатком:\n",
        "\n",
        "// - целая часть от деления\n",
        "\n",
        "% - остаток от деления\n",
        "\n",
        "Посчитайте `7//3`, `11%4`"
      ],
      "metadata": {
        "id": "vGRu1tkXsRjs"
      }
    },
    {
      "cell_type": "code",
      "source": [
        "11%4"
      ],
      "metadata": {
        "id": "bkanXxZEshbg",
        "colab": {
          "base_uri": "https://localhost:8080/"
        },
        "outputId": "30a75bbe-249b-4f4c-a125-01d932950ebc"
      },
      "execution_count": null,
      "outputs": [
        {
          "output_type": "execute_result",
          "data": {
            "text/plain": [
              "3"
            ]
          },
          "metadata": {},
          "execution_count": 10
        }
      ]
    },
    {
      "cell_type": "markdown",
      "source": [
        "## 1.3 print - вывод на экран\n",
        "\n",
        "Рассмотрим синтаксис этой функции. Самый простой пример:\n",
        "\n",
        "`print()`\n",
        "\n",
        "Даже если функция не получает никаких аргументов, все равно необходимо вставлять после названия пустые скобки, что значит для интерпретатора выполнить функцию, а не просто ссылаться на нее.\n",
        "\n",
        "В результате этого будет выведен неотображаемый символ пустой строки, она появиться на экране, не нужно путать это с пустой строкой, в которой вообще нет никаких символов.\n",
        "\n",
        "Но чаще всего нужно передать какое-то сообщение пользователю, к примеру:\n",
        "\n",
        "`print('Your message here')`"
      ],
      "metadata": {
        "id": "weOILto5szgr"
      }
    },
    {
      "cell_type": "markdown",
      "source": [
        "Следующий пример – вывод строкового значения из переменной:\n",
        "\n",
        "`message = 'Hello world'`\n",
        "\n",
        "`print(message)`\n",
        "\n"
      ],
      "metadata": {
        "id": "sqZYUcNPttGS"
      }
    },
    {
      "cell_type": "code",
      "source": [
        "message = 'Hello world'\n",
        "print (message)"
      ],
      "metadata": {
        "id": "vbv8gWj4tz0c",
        "colab": {
          "base_uri": "https://localhost:8080/"
        },
        "outputId": "961a536b-6497-463d-b3aa-9fedbd7160c8"
      },
      "execution_count": null,
      "outputs": [
        {
          "output_type": "stream",
          "name": "stdout",
          "text": [
            "Hello world\n"
          ]
        }
      ]
    },
    {
      "cell_type": "markdown",
      "source": [
        "Выведем разные типы данных:\n",
        "\n",
        "\n",
        "```\n",
        "print('one', 'two', 'three')  # str\n",
        "\n",
        "print(42)  # int\n",
        "\n",
        "print(3.14)  # float\n",
        "\n",
        "print(True)  # bool\n",
        "\n",
        "print([1, 2, 3])  # list\n",
        "\n",
        "print({'red', 'green', 'blue'})  # set\n",
        "\n",
        "print({'name': 'Alice', 'age': 42})  # dict\n",
        "\n",
        "print((1, 2, 3))  # tuple\n",
        "```\n",
        "\n"
      ],
      "metadata": {
        "id": "gT_yQuUst0zq"
      }
    },
    {
      "cell_type": "code",
      "source": [
        "print(42)  # int"
      ],
      "metadata": {
        "id": "VB1sC6YRuFJS",
        "colab": {
          "base_uri": "https://localhost:8080/"
        },
        "outputId": "725ac2a6-9ffb-4aae-bdec-034105454fc4"
      },
      "execution_count": null,
      "outputs": [
        {
          "output_type": "stream",
          "name": "stdout",
          "text": [
            "42\n"
          ]
        }
      ]
    },
    {
      "cell_type": "markdown",
      "source": [
        "Вы также можете распечатать переменные, просто разделив их запятыми\n",
        "```\n",
        "name = \"Аделаида\"\n",
        "print(\"Привет\", name, \"как дела?\")\n",
        "```\n"
      ],
      "metadata": {
        "id": "7YsoJe3suU9r"
      }
    },
    {
      "cell_type": "code",
      "source": [
        "name = \"Аделаида\"\n",
        "print(\"Привет\", name, \"как дела?\")"
      ],
      "metadata": {
        "id": "k76loudFucn6",
        "colab": {
          "base_uri": "https://localhost:8080/"
        },
        "outputId": "42403b62-53cd-43c5-ebb3-90c2c0c3bea3"
      },
      "execution_count": null,
      "outputs": [
        {
          "output_type": "stream",
          "name": "stdout",
          "text": [
            "Привет Аделаида как дела?\n"
          ]
        }
      ]
    },
    {
      "cell_type": "markdown",
      "source": [
        "#1.4 Комментарии\n",
        "\n",
        "Комментарий это строка кода, которая не выполняется. Служит для разных пояснений. Выполните следующий код:\n",
        "\n",
        "`# I am a comment. Fear my wrath!`"
      ],
      "metadata": {
        "id": "kjmRYTQNuivr"
      }
    },
    {
      "cell_type": "code",
      "source": [
        "# I am a comment. Fear my wrath!"
      ],
      "metadata": {
        "id": "C9EWkEs5u1tv"
      },
      "execution_count": null,
      "outputs": []
    },
    {
      "cell_type": "markdown",
      "source": [
        "Комментарий — это фрагмент кода, который не запускается. В Python вы добавляете комментарий, помещая перед ним #. # комментирует все, что находится после него в строке, и ничего перед ним. Попробуйте:\n",
        "\n",
        "`print(\"food is very nice\") #eat me`"
      ],
      "metadata": {
        "id": "G_A2uNGVu6Br"
      }
    },
    {
      "cell_type": "code",
      "source": [
        "print(\"food is very nice\") #eat me"
      ],
      "metadata": {
        "id": "vCMZWgm1vCzd",
        "colab": {
          "base_uri": "https://localhost:8080/"
        },
        "outputId": "7b9d86f9-6dde-4146-8043-b6da4baacbbc"
      },
      "execution_count": null,
      "outputs": [
        {
          "output_type": "stream",
          "name": "stdout",
          "text": [
            "food is very nice\n"
          ]
        }
      ]
    },
    {
      "cell_type": "markdown",
      "source": [
        "# 1.5 Приоритет операций\n",
        "\n",
        "Помните ту штуку, которую учили на уроках математики, под названием \"порядок действий\"? Что ж, это применимо и к Python. Вот оно, если вам нужно напомнить:\n",
        "\n",
        "1. Круглые скобки()\n",
        "2. Возведение в степень **\n",
        "3. Умножение *, деление / и остаток %\n",
        "4. Сложение + и вычитание -\n",
        "\n",
        "Вот несколько примеров, которые вы можете попробовать:\n",
        "```\n",
        "1 + 2 * 3\n",
        "(1 + 2) * 3\n",
        "```"
      ],
      "metadata": {
        "id": "_vftrmAdxaQS"
      }
    },
    {
      "cell_type": "code",
      "source": [
        "(1+2)*3"
      ],
      "metadata": {
        "id": "s8ZhSbiKxwDa",
        "colab": {
          "base_uri": "https://localhost:8080/"
        },
        "outputId": "c9dbe048-1efa-4955-dc11-63969d431c14"
      },
      "execution_count": null,
      "outputs": [
        {
          "output_type": "execute_result",
          "data": {
            "text/plain": [
              "9"
            ]
          },
          "metadata": {},
          "execution_count": 21
        }
      ]
    },
    {
      "cell_type": "markdown",
      "source": [
        "# Задание 1\n",
        "\n",
        "Используя оператор print выведите на экран небольшой рассказ о себе. Должно быть использовано не менее 8 операторов print.\n",
        "\n",
        "Пример:\n",
        "\n",
        "```\n",
        "print('Привет всем! Меня зовут Аристотель.')\n",
        "print(\"Я родился в городе Стагире, греческой колонии в Халкидиках, недалеко от Афонской горы, между июлем и октябрём в первый год \",99,\" олимпиады.\" )\n",
        "print('Я люблю всякие науки, например философию.')\n",
        "print(\"Долгими зиминими вечерами я обычно размышляю о физике.\", \"А потом о метафизике.\")\n",
        "```"
      ],
      "metadata": {
        "id": "mC6vwG0Bvckz"
      }
    },
    {
      "cell_type": "code",
      "source": [
        "print ('Меня зовут Регина, но я не люблю, когда меня называют по имени.')\n",
        "print ('Я люблю читать книги и не люблю ездить на метро в час-пик.')\n",
        "print ('На тест Ахматовой я отвечаю: кофе, Петербург и ночь.')\n",
        "print ('Все мои друзья отвечают на него по-своему, но я продолжаю их любить.')\n",
        "print ('Иногда я страдаю бессоницей и кошмарами.')\n",
        "print ('Иногда я скучаю по старой бабушкиной квартире с чешской хрустальной люстрой.')\n",
        "print ('Я редко говорю людям, что они мне дороги.')\n",
        "print ('Мой любимый цвет - белый.')"
      ],
      "metadata": {
        "id": "HcESMxCWw3P9",
        "colab": {
          "base_uri": "https://localhost:8080/"
        },
        "outputId": "21dcd929-a5a1-4d22-fd61-ac0eb849a463"
      },
      "execution_count": null,
      "outputs": [
        {
          "output_type": "stream",
          "name": "stdout",
          "text": [
            "Меня зовут Регина, но я не люблю, когда меня называют по имени.\n",
            "Я люблю читать книги и не люблю ездить на метро в час-пик.\n",
            "На тест Ахматовой я отвечаю: кофе, Петербург и ночь.\n",
            "Все мои друзья отвечают на него по-своему, но я продолжаю их любить.\n",
            "Иногда я страдаю бессоницей и кошмарами.\n",
            "Иногда я скучаю по старой бабушкиной квартире с чешской хрустальной люстрой.\n",
            "Я редко говорю людям, что они мне дороги.\n",
            "Мой любимый цвет - белый.\n"
          ]
        }
      ]
    },
    {
      "cell_type": "markdown",
      "source": [
        "# Задание 2\n",
        "\n",
        "Карандаш стоит 18 рублей 45 копеек за штуку. Покупатель дал кассиру 500 рублей и хочет купить 8 карандашей. Какую сдачу он должен получить? Ответ дайте в рублях.\n"
      ],
      "metadata": {
        "id": "znJt3O_Qw7iU"
      }
    },
    {
      "cell_type": "code",
      "source": [
        "(500*100-(8*(18*100+45)))//100\n",
        "\n"
      ],
      "metadata": {
        "id": "9l0cDUqrz6zt",
        "colab": {
          "base_uri": "https://localhost:8080/"
        },
        "outputId": "8d7b20fc-5a61-4d7d-bfd1-9f44c2379103"
      },
      "execution_count": null,
      "outputs": [
        {
          "output_type": "execute_result",
          "data": {
            "text/plain": [
              "352"
            ]
          },
          "metadata": {},
          "execution_count": 27
        }
      ]
    },
    {
      "cell_type": "markdown",
      "source": [
        "# Задание 3\n",
        "\n",
        "Ребенок в день съедает два творожка. Творожок продается в упаковках по пять штук. Какое наименьшее число упаковок надо купить, чтобы ребенку хватило на две недели?"
      ],
      "metadata": {
        "id": "zY4uh9scz7SE"
      }
    },
    {
      "cell_type": "code",
      "source": [
        "import math\n",
        "\n",
        "result = 14*2/5\n",
        "\n",
        "rounded_result = math.ceil(result)\n",
        "\n",
        "print(rounded_result)"
      ],
      "metadata": {
        "colab": {
          "base_uri": "https://localhost:8080/"
        },
        "id": "M-e2-kJMJwJF",
        "outputId": "79440bba-7999-4d6d-9e30-20545807ef11"
      },
      "execution_count": 4,
      "outputs": [
        {
          "output_type": "stream",
          "name": "stdout",
          "text": [
            "6\n"
          ]
        }
      ]
    },
    {
      "cell_type": "markdown",
      "source": [
        "# Задание 4\n",
        "\n",
        "Килограмм картошки 32 рубля. У Олега есть 1000 р, из этой суммы он 640 р должен положить на телефон, а на остальные деньги он купил картошку. Сколько килограмм купил Олег, если он получил сдачу 8 рублей?"
      ],
      "metadata": {
        "id": "AdFd5gbK0CeE"
      }
    },
    {
      "cell_type": "code",
      "source": [
        "((1000-640)-8)//32"
      ],
      "metadata": {
        "id": "23ot9WQT0Jc_",
        "colab": {
          "base_uri": "https://localhost:8080/"
        },
        "outputId": "8cf426de-1f39-4a32-dae7-f11c8c3c64d9"
      },
      "execution_count": 7,
      "outputs": [
        {
          "output_type": "execute_result",
          "data": {
            "text/plain": [
              "11"
            ]
          },
          "metadata": {},
          "execution_count": 7
        }
      ]
    },
    {
      "cell_type": "code",
      "source": [],
      "metadata": {
        "id": "txJ3mcZxagOb"
      },
      "execution_count": null,
      "outputs": []
    }
  ]
}