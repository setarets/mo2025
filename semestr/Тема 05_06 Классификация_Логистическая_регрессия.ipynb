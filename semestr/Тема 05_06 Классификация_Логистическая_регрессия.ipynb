{
  "cells": [
    {
      "cell_type": "markdown",
      "id": "e4d3d3c0",
      "metadata": {
        "id": "e4d3d3c0"
      },
      "source": [
        "# IRIS-Flower-classification\n",
        "\n",
        "Этот проект представляет собой применение машинного обучения с программированием на Python на примере классификации цветов IRIS с использованием машинного обучения с инструментами scikit.\n",
        "Здесь используются алгоритмы, которые представляют собой некоторые типы машинного обучения с учителем и без учителя.\n",
        "\n",
        "[Ирисы Фишера](https://ru.wikipedia.org/wiki/%D0%98%D1%80%D0%B8%D1%81%D1%8B_%D0%A4%D0%B8%D1%88%D0%B5%D1%80%D0%B0) — набор данных для задачи классификации, на примере которого Рональд Фишер в 1936 году продемонстрировал работу разработанного им метода дискриминантного анализа. Иногда его также называют ирисами Андерсона, так как данные были собраны американским ботаником Эдгаром Андерсоном. Этот набор данных стал классическим и часто используется в литературе для иллюстрации работы различных статистических алгоритмов.\n",
        "\n",
        "Ирисы Фишера состоят из данных о 150 экземплярах ириса, по 50 экземпляров из трёх видов — Ирис щетинистый (Iris setosa), Ирис виргинский (Iris virginica) и Ирис разноцветный (Iris versicolor). Для каждого экземпляра измерялись четыре характеристики (в сантиметрах):\n",
        "\n",
        "- Длина наружной доли околоцветника (англ. sepal length);\n",
        "- Ширина наружной доли околоцветника (англ. sepal width);\n",
        "- Длина внутренней доли околоцветника (англ. petal length);\n",
        "- Ширина внутренней доли околоцветника (англ. petal width).\n",
        "\n",
        "На основании этого набора данных требуется построить правило классификации, определяющее вид растения по данным измерений. Это задача многоклассовой классификации, так как имеется три класса — три вида ириса.\n",
        "\n",
        "Один из классов (Iris setosa) линейно-разделим от двух остальных.\n",
        "\n",
        "В качестве задания вам предлагается повторить данные действия по классификации для наборов данных (можно выбрать, что больше понравится, но лучше сделать для всех)\n",
        "- [User Knowledge Modeling Data Set](http://archive.ics.uci.edu/ml/datasets/User+Knowledge+Modeling)\n",
        "- [Blood Transfusion Service Center Data Set](http://archive.ics.uci.edu/ml/datasets/Blood+Transfusion+Service+Center)\n",
        "- [Somerville Happiness Survey Data Set](http://archive.ics.uci.edu/ml/datasets/Somerville+Happiness+Survey)\n",
        "- [Wine Quality Data Set](https://archive.ics.uci.edu/ml/datasets/wine+quality)\n",
        "\n"
      ]
    },
    {
      "cell_type": "code",
      "execution_count": 1,
      "id": "a12a226e",
      "metadata": {
        "id": "a12a226e"
      },
      "outputs": [],
      "source": [
        "# Подключаем библиотеки\n",
        "import pandas as pd # Работа с набором данных\n",
        "import numpy as np # Линейная алгебра\n",
        "# Визуализация данных\n",
        "import seaborn as sns\n",
        "import matplotlib.pyplot as plt\n",
        "\n",
        "# отключение информационных сообщений\n",
        "from warnings import filterwarnings\n",
        "filterwarnings(action='ignore')\n",
        "\n",
        "# разделение выборки\n",
        "from sklearn.model_selection import train_test_split\n",
        "#метрики\n",
        "from sklearn import metrics\n",
        "#Логистическая регрессия\n",
        "from sklearn.linear_model import LogisticRegression"
      ]
    },
    {
      "cell_type": "code",
      "execution_count": 2,
      "id": "a567975f",
      "metadata": {
        "colab": {
          "base_uri": "https://localhost:8080/",
          "height": 206
        },
        "id": "a567975f",
        "outputId": "8555161c-c06c-403c-89fa-1a51823d051d"
      },
      "outputs": [
        {
          "output_type": "execute_result",
          "data": {
            "text/plain": [
              "   sepal_length  sepal_width  petal_length  petal_width      species\n",
              "0           5.1          3.5           1.4          0.2  Iris-setosa\n",
              "1           4.9          3.0           1.4          0.2  Iris-setosa\n",
              "2           4.7          3.2           1.3          0.2  Iris-setosa\n",
              "3           4.6          3.1           1.5          0.2  Iris-setosa\n",
              "4           5.0          3.6           1.4          0.2  Iris-setosa"
            ],
            "text/html": [
              "\n",
              "  <div id=\"df-b29eb1f1-7b92-43ac-8d3d-e51a5087398f\" class=\"colab-df-container\">\n",
              "    <div>\n",
              "<style scoped>\n",
              "    .dataframe tbody tr th:only-of-type {\n",
              "        vertical-align: middle;\n",
              "    }\n",
              "\n",
              "    .dataframe tbody tr th {\n",
              "        vertical-align: top;\n",
              "    }\n",
              "\n",
              "    .dataframe thead th {\n",
              "        text-align: right;\n",
              "    }\n",
              "</style>\n",
              "<table border=\"1\" class=\"dataframe\">\n",
              "  <thead>\n",
              "    <tr style=\"text-align: right;\">\n",
              "      <th></th>\n",
              "      <th>sepal_length</th>\n",
              "      <th>sepal_width</th>\n",
              "      <th>petal_length</th>\n",
              "      <th>petal_width</th>\n",
              "      <th>species</th>\n",
              "    </tr>\n",
              "  </thead>\n",
              "  <tbody>\n",
              "    <tr>\n",
              "      <th>0</th>\n",
              "      <td>5.1</td>\n",
              "      <td>3.5</td>\n",
              "      <td>1.4</td>\n",
              "      <td>0.2</td>\n",
              "      <td>Iris-setosa</td>\n",
              "    </tr>\n",
              "    <tr>\n",
              "      <th>1</th>\n",
              "      <td>4.9</td>\n",
              "      <td>3.0</td>\n",
              "      <td>1.4</td>\n",
              "      <td>0.2</td>\n",
              "      <td>Iris-setosa</td>\n",
              "    </tr>\n",
              "    <tr>\n",
              "      <th>2</th>\n",
              "      <td>4.7</td>\n",
              "      <td>3.2</td>\n",
              "      <td>1.3</td>\n",
              "      <td>0.2</td>\n",
              "      <td>Iris-setosa</td>\n",
              "    </tr>\n",
              "    <tr>\n",
              "      <th>3</th>\n",
              "      <td>4.6</td>\n",
              "      <td>3.1</td>\n",
              "      <td>1.5</td>\n",
              "      <td>0.2</td>\n",
              "      <td>Iris-setosa</td>\n",
              "    </tr>\n",
              "    <tr>\n",
              "      <th>4</th>\n",
              "      <td>5.0</td>\n",
              "      <td>3.6</td>\n",
              "      <td>1.4</td>\n",
              "      <td>0.2</td>\n",
              "      <td>Iris-setosa</td>\n",
              "    </tr>\n",
              "  </tbody>\n",
              "</table>\n",
              "</div>\n",
              "    <div class=\"colab-df-buttons\">\n",
              "\n",
              "  <div class=\"colab-df-container\">\n",
              "    <button class=\"colab-df-convert\" onclick=\"convertToInteractive('df-b29eb1f1-7b92-43ac-8d3d-e51a5087398f')\"\n",
              "            title=\"Convert this dataframe to an interactive table.\"\n",
              "            style=\"display:none;\">\n",
              "\n",
              "  <svg xmlns=\"http://www.w3.org/2000/svg\" height=\"24px\" viewBox=\"0 -960 960 960\">\n",
              "    <path d=\"M120-120v-720h720v720H120Zm60-500h600v-160H180v160Zm220 220h160v-160H400v160Zm0 220h160v-160H400v160ZM180-400h160v-160H180v160Zm440 0h160v-160H620v160ZM180-180h160v-160H180v160Zm440 0h160v-160H620v160Z\"/>\n",
              "  </svg>\n",
              "    </button>\n",
              "\n",
              "  <style>\n",
              "    .colab-df-container {\n",
              "      display:flex;\n",
              "      gap: 12px;\n",
              "    }\n",
              "\n",
              "    .colab-df-convert {\n",
              "      background-color: #E8F0FE;\n",
              "      border: none;\n",
              "      border-radius: 50%;\n",
              "      cursor: pointer;\n",
              "      display: none;\n",
              "      fill: #1967D2;\n",
              "      height: 32px;\n",
              "      padding: 0 0 0 0;\n",
              "      width: 32px;\n",
              "    }\n",
              "\n",
              "    .colab-df-convert:hover {\n",
              "      background-color: #E2EBFA;\n",
              "      box-shadow: 0px 1px 2px rgba(60, 64, 67, 0.3), 0px 1px 3px 1px rgba(60, 64, 67, 0.15);\n",
              "      fill: #174EA6;\n",
              "    }\n",
              "\n",
              "    .colab-df-buttons div {\n",
              "      margin-bottom: 4px;\n",
              "    }\n",
              "\n",
              "    [theme=dark] .colab-df-convert {\n",
              "      background-color: #3B4455;\n",
              "      fill: #D2E3FC;\n",
              "    }\n",
              "\n",
              "    [theme=dark] .colab-df-convert:hover {\n",
              "      background-color: #434B5C;\n",
              "      box-shadow: 0px 1px 3px 1px rgba(0, 0, 0, 0.15);\n",
              "      filter: drop-shadow(0px 1px 2px rgba(0, 0, 0, 0.3));\n",
              "      fill: #FFFFFF;\n",
              "    }\n",
              "  </style>\n",
              "\n",
              "    <script>\n",
              "      const buttonEl =\n",
              "        document.querySelector('#df-b29eb1f1-7b92-43ac-8d3d-e51a5087398f button.colab-df-convert');\n",
              "      buttonEl.style.display =\n",
              "        google.colab.kernel.accessAllowed ? 'block' : 'none';\n",
              "\n",
              "      async function convertToInteractive(key) {\n",
              "        const element = document.querySelector('#df-b29eb1f1-7b92-43ac-8d3d-e51a5087398f');\n",
              "        const dataTable =\n",
              "          await google.colab.kernel.invokeFunction('convertToInteractive',\n",
              "                                                    [key], {});\n",
              "        if (!dataTable) return;\n",
              "\n",
              "        const docLinkHtml = 'Like what you see? Visit the ' +\n",
              "          '<a target=\"_blank\" href=https://colab.research.google.com/notebooks/data_table.ipynb>data table notebook</a>'\n",
              "          + ' to learn more about interactive tables.';\n",
              "        element.innerHTML = '';\n",
              "        dataTable['output_type'] = 'display_data';\n",
              "        await google.colab.output.renderOutput(dataTable, element);\n",
              "        const docLink = document.createElement('div');\n",
              "        docLink.innerHTML = docLinkHtml;\n",
              "        element.appendChild(docLink);\n",
              "      }\n",
              "    </script>\n",
              "  </div>\n",
              "\n",
              "\n",
              "    <div id=\"df-83b8d6c9-5a59-4d93-b085-f3028a324bce\">\n",
              "      <button class=\"colab-df-quickchart\" onclick=\"quickchart('df-83b8d6c9-5a59-4d93-b085-f3028a324bce')\"\n",
              "                title=\"Suggest charts\"\n",
              "                style=\"display:none;\">\n",
              "\n",
              "<svg xmlns=\"http://www.w3.org/2000/svg\" height=\"24px\"viewBox=\"0 0 24 24\"\n",
              "     width=\"24px\">\n",
              "    <g>\n",
              "        <path d=\"M19 3H5c-1.1 0-2 .9-2 2v14c0 1.1.9 2 2 2h14c1.1 0 2-.9 2-2V5c0-1.1-.9-2-2-2zM9 17H7v-7h2v7zm4 0h-2V7h2v10zm4 0h-2v-4h2v4z\"/>\n",
              "    </g>\n",
              "</svg>\n",
              "      </button>\n",
              "\n",
              "<style>\n",
              "  .colab-df-quickchart {\n",
              "      --bg-color: #E8F0FE;\n",
              "      --fill-color: #1967D2;\n",
              "      --hover-bg-color: #E2EBFA;\n",
              "      --hover-fill-color: #174EA6;\n",
              "      --disabled-fill-color: #AAA;\n",
              "      --disabled-bg-color: #DDD;\n",
              "  }\n",
              "\n",
              "  [theme=dark] .colab-df-quickchart {\n",
              "      --bg-color: #3B4455;\n",
              "      --fill-color: #D2E3FC;\n",
              "      --hover-bg-color: #434B5C;\n",
              "      --hover-fill-color: #FFFFFF;\n",
              "      --disabled-bg-color: #3B4455;\n",
              "      --disabled-fill-color: #666;\n",
              "  }\n",
              "\n",
              "  .colab-df-quickchart {\n",
              "    background-color: var(--bg-color);\n",
              "    border: none;\n",
              "    border-radius: 50%;\n",
              "    cursor: pointer;\n",
              "    display: none;\n",
              "    fill: var(--fill-color);\n",
              "    height: 32px;\n",
              "    padding: 0;\n",
              "    width: 32px;\n",
              "  }\n",
              "\n",
              "  .colab-df-quickchart:hover {\n",
              "    background-color: var(--hover-bg-color);\n",
              "    box-shadow: 0 1px 2px rgba(60, 64, 67, 0.3), 0 1px 3px 1px rgba(60, 64, 67, 0.15);\n",
              "    fill: var(--button-hover-fill-color);\n",
              "  }\n",
              "\n",
              "  .colab-df-quickchart-complete:disabled,\n",
              "  .colab-df-quickchart-complete:disabled:hover {\n",
              "    background-color: var(--disabled-bg-color);\n",
              "    fill: var(--disabled-fill-color);\n",
              "    box-shadow: none;\n",
              "  }\n",
              "\n",
              "  .colab-df-spinner {\n",
              "    border: 2px solid var(--fill-color);\n",
              "    border-color: transparent;\n",
              "    border-bottom-color: var(--fill-color);\n",
              "    animation:\n",
              "      spin 1s steps(1) infinite;\n",
              "  }\n",
              "\n",
              "  @keyframes spin {\n",
              "    0% {\n",
              "      border-color: transparent;\n",
              "      border-bottom-color: var(--fill-color);\n",
              "      border-left-color: var(--fill-color);\n",
              "    }\n",
              "    20% {\n",
              "      border-color: transparent;\n",
              "      border-left-color: var(--fill-color);\n",
              "      border-top-color: var(--fill-color);\n",
              "    }\n",
              "    30% {\n",
              "      border-color: transparent;\n",
              "      border-left-color: var(--fill-color);\n",
              "      border-top-color: var(--fill-color);\n",
              "      border-right-color: var(--fill-color);\n",
              "    }\n",
              "    40% {\n",
              "      border-color: transparent;\n",
              "      border-right-color: var(--fill-color);\n",
              "      border-top-color: var(--fill-color);\n",
              "    }\n",
              "    60% {\n",
              "      border-color: transparent;\n",
              "      border-right-color: var(--fill-color);\n",
              "    }\n",
              "    80% {\n",
              "      border-color: transparent;\n",
              "      border-right-color: var(--fill-color);\n",
              "      border-bottom-color: var(--fill-color);\n",
              "    }\n",
              "    90% {\n",
              "      border-color: transparent;\n",
              "      border-bottom-color: var(--fill-color);\n",
              "    }\n",
              "  }\n",
              "</style>\n",
              "\n",
              "      <script>\n",
              "        async function quickchart(key) {\n",
              "          const quickchartButtonEl =\n",
              "            document.querySelector('#' + key + ' button');\n",
              "          quickchartButtonEl.disabled = true;  // To prevent multiple clicks.\n",
              "          quickchartButtonEl.classList.add('colab-df-spinner');\n",
              "          try {\n",
              "            const charts = await google.colab.kernel.invokeFunction(\n",
              "                'suggestCharts', [key], {});\n",
              "          } catch (error) {\n",
              "            console.error('Error during call to suggestCharts:', error);\n",
              "          }\n",
              "          quickchartButtonEl.classList.remove('colab-df-spinner');\n",
              "          quickchartButtonEl.classList.add('colab-df-quickchart-complete');\n",
              "        }\n",
              "        (() => {\n",
              "          let quickchartButtonEl =\n",
              "            document.querySelector('#df-83b8d6c9-5a59-4d93-b085-f3028a324bce button');\n",
              "          quickchartButtonEl.style.display =\n",
              "            google.colab.kernel.accessAllowed ? 'block' : 'none';\n",
              "        })();\n",
              "      </script>\n",
              "    </div>\n",
              "    </div>\n",
              "  </div>\n"
            ],
            "application/vnd.google.colaboratory.intrinsic+json": {
              "type": "dataframe",
              "variable_name": "data",
              "summary": "{\n  \"name\": \"data\",\n  \"rows\": 150,\n  \"fields\": [\n    {\n      \"column\": \"sepal_length\",\n      \"properties\": {\n        \"dtype\": \"number\",\n        \"std\": 0.8280661279778629,\n        \"min\": 4.3,\n        \"max\": 7.9,\n        \"num_unique_values\": 35,\n        \"samples\": [\n          6.2,\n          4.5,\n          5.6\n        ],\n        \"semantic_type\": \"\",\n        \"description\": \"\"\n      }\n    },\n    {\n      \"column\": \"sepal_width\",\n      \"properties\": {\n        \"dtype\": \"number\",\n        \"std\": 0.4335943113621737,\n        \"min\": 2.0,\n        \"max\": 4.4,\n        \"num_unique_values\": 23,\n        \"samples\": [\n          2.3,\n          4.0,\n          3.5\n        ],\n        \"semantic_type\": \"\",\n        \"description\": \"\"\n      }\n    },\n    {\n      \"column\": \"petal_length\",\n      \"properties\": {\n        \"dtype\": \"number\",\n        \"std\": 1.7644204199522617,\n        \"min\": 1.0,\n        \"max\": 6.9,\n        \"num_unique_values\": 43,\n        \"samples\": [\n          6.7,\n          3.8,\n          3.7\n        ],\n        \"semantic_type\": \"\",\n        \"description\": \"\"\n      }\n    },\n    {\n      \"column\": \"petal_width\",\n      \"properties\": {\n        \"dtype\": \"number\",\n        \"std\": 0.7631607417008414,\n        \"min\": 0.1,\n        \"max\": 2.5,\n        \"num_unique_values\": 22,\n        \"samples\": [\n          0.2,\n          1.2,\n          1.3\n        ],\n        \"semantic_type\": \"\",\n        \"description\": \"\"\n      }\n    },\n    {\n      \"column\": \"species\",\n      \"properties\": {\n        \"dtype\": \"category\",\n        \"num_unique_values\": 3,\n        \"samples\": [\n          \"Iris-setosa\",\n          \"Iris-versicolor\",\n          \"Iris-virginica\"\n        ],\n        \"semantic_type\": \"\",\n        \"description\": \"\"\n      }\n    }\n  ]\n}"
            }
          },
          "metadata": {},
          "execution_count": 2
        }
      ],
      "source": [
        "# читаем данные\n",
        "url = 'https://raw.githubusercontent.com/yakushinav/omo/main/data/iris.csv'\n",
        "data = pd.read_csv(url)\n",
        "data.head(5)"
      ]
    },
    {
      "cell_type": "code",
      "execution_count": 3,
      "id": "5f862bea",
      "metadata": {
        "id": "5f862bea"
      },
      "outputs": [],
      "source": [
        "# Разделим выборку на обучающую и тестовую\n",
        "train, test = train_test_split(data, test_size = 0.4, stratify = data['species'], random_state = 42)"
      ]
    },
    {
      "cell_type": "code",
      "execution_count": 4,
      "id": "278f0905",
      "metadata": {
        "id": "278f0905"
      },
      "outputs": [],
      "source": [
        "# Выделим признаки и результат\n",
        "X_train = train[['sepal_length','sepal_width','petal_length','petal_width']]\n",
        "y_train = train.species\n",
        "X_test = test[['sepal_length','sepal_width','petal_length','petal_width']]\n",
        "y_test = test.species\n",
        "\n",
        "fn = ['sepal_length','sepal_width','petal_length','petal_width']\n",
        "cn = data['species'].unique()"
      ]
    },
    {
      "cell_type": "markdown",
      "id": "1db472a5",
      "metadata": {
        "id": "1db472a5"
      },
      "source": [
        "# Логистическая регрессия"
      ]
    },
    {
      "cell_type": "markdown",
      "id": "russian-closing",
      "metadata": {
        "id": "russian-closing"
      },
      "source": [
        "Здачу бинарной классификации, в которой целевая переменная $y$ принимает два значения: -1 и 1 можно решить при помощи линейного классификатора\n",
        "\n",
        "$$\n",
        "f(x_i, w) = \\mathrm{sign}\\left(\\langle x_i, w \\rangle\\right).\n",
        "$$\n",
        "\n",
        "Функция потерь для такой задачи – это сумма индикаторов того, что предсказание сделано неверно:\n",
        "\n",
        "$$Q(X, w) = \\frac{1}{\\ell}\\sum_{i = 1}^{\\ell}[y_i \\ne \\mathrm{sign}\\left(\\langle x_i, w \\rangle\\right)].$$\n",
        "\n",
        "Эту идею можно удобно записать через функцию отступа:\n",
        "\n",
        "$$\n",
        "Q(X, w) = \\frac{1}{\\ell}\\sum_{i = 1}^{\\ell}[y_i \\langle x_i, w \\rangle < 0].\n",
        "$$\n",
        "\n",
        "Такую функцию проблематично дифференцировать по $w$, потому что даже в местах, где градиент существует, он равен нулю. Вместо этого будем минимизировать некоторую функцию $\\tilde{Q}(X, w)$, являющуюся верхней оценкой для $Q(X, w)$, и надеяться, что минимизация $\\tilde{Q}(X, w)$ позволит достаточно хорошо минимизировать и $Q(X, w)$.\n",
        "\n",
        "Логистическая регрессия предлагает использовать логистическую функцию потерь:\n",
        "\n",
        "$$\n",
        "\\tilde{Q}(X, w) = \\frac{1}{\\ell}\\sum_{i = 1}^{\\ell}\\log(1 + e^{-y_i \\langle x_i, w \\rangle}) \\rightarrow \\min_w.\n",
        "$$"
      ]
    },
    {
      "cell_type": "code",
      "execution_count": 5,
      "id": "f2a748cd",
      "metadata": {
        "id": "f2a748cd"
      },
      "outputs": [],
      "source": [
        "# Логистическая регрессия\n",
        "mod_lr = LogisticRegression(solver = 'newton-cg').fit(X_train, y_train)\n",
        "y_pred=mod_lr.predict(X_test)"
      ]
    },
    {
      "cell_type": "code",
      "execution_count": 6,
      "id": "f3af895c",
      "metadata": {
        "colab": {
          "base_uri": "https://localhost:8080/"
        },
        "id": "f3af895c",
        "outputId": "797f50a5-57bd-4e0a-92b0-e2c60bcdfc76"
      },
      "outputs": [
        {
          "output_type": "stream",
          "name": "stdout",
          "text": [
            "accuracy (точность) классификатора 0.95\n",
            "матрица ошибок\n",
            "[[20  0  0]\n",
            " [ 0 19  1]\n",
            " [ 0  2 18]]\n"
          ]
        }
      ],
      "source": [
        "#Выполняем предсказание\n",
        "y_pred=mod_lr.predict(X_test)\n",
        "\n",
        "print('accuracy (точность) классификатора',metrics.accuracy_score(y_pred,y_test))\n",
        "\n",
        "# матрица ошибок\n",
        "print(\"матрица ошибок\")\n",
        "print(metrics.confusion_matrix(y_test, y_pred))"
      ]
    },
    {
      "cell_type": "code",
      "execution_count": 7,
      "id": "3a9805f4",
      "metadata": {
        "colab": {
          "base_uri": "https://localhost:8080/"
        },
        "id": "3a9805f4",
        "outputId": "3a36f9f1-67b2-4d29-aa06-2d72fdab4463"
      },
      "outputs": [
        {
          "output_type": "stream",
          "name": "stdout",
          "text": [
            "['Iris-virginica']\n"
          ]
        }
      ],
      "source": [
        "# Использование построенной модели для предсказания класса\n",
        "new_iris=[1.3, 2.4, 5.6, 3.5]\n",
        "y_new_iris=mod_lr.predict([new_iris])\n",
        "\n",
        "print(y_new_iris)"
      ]
    },
    {
      "cell_type": "code",
      "execution_count": 8,
      "id": "9e2d5896",
      "metadata": {
        "colab": {
          "base_uri": "https://localhost:8080/"
        },
        "id": "9e2d5896",
        "outputId": "42bb8979-b40c-4145-8b06-66a08bf40e74"
      },
      "outputs": [
        {
          "output_type": "stream",
          "name": "stdout",
          "text": [
            "[[-0.55537613  0.67503606 -2.14801264 -0.88199928]\n",
            " [ 0.47658608 -0.39970253 -0.09971921 -0.80565171]\n",
            " [ 0.07879005 -0.27533353  2.24773185  1.68765099]]\n",
            "[  9.9162059    1.84086417 -11.75707006]\n"
          ]
        }
      ],
      "source": [
        "# Модель\n",
        "print(mod_lr.coef_)\n",
        "print(mod_lr.intercept_)\n"
      ]
    },
    {
      "cell_type": "markdown",
      "source": [
        "## Действия по классификации для набора Wine Quality Data Set"
      ],
      "metadata": {
        "id": "uwWGOP5Z3ivI"
      },
      "id": "uwWGOP5Z3ivI"
    },
    {
      "cell_type": "code",
      "source": [
        "url = 'https://raw.githubusercontent.com/setarets/mo2025/refs/heads/main/data/winequality-red.csv'\n",
        "df = pd.read_csv(url, sep=';')\n",
        "print(\"Первые 5 строк DataFrame:\")\n",
        "print(df.head(5))"
      ],
      "metadata": {
        "colab": {
          "base_uri": "https://localhost:8080/"
        },
        "id": "yCpzQmSz3uFi",
        "outputId": "9e0ae1ea-ccdf-483c-a9e7-9ed5242cab82"
      },
      "id": "yCpzQmSz3uFi",
      "execution_count": 9,
      "outputs": [
        {
          "output_type": "stream",
          "name": "stdout",
          "text": [
            "Первые 5 строк DataFrame:\n",
            "   fixed acidity  volatile acidity  citric acid  residual sugar  chlorides  \\\n",
            "0            7.4              0.70         0.00             1.9      0.076   \n",
            "1            7.8              0.88         0.00             2.6      0.098   \n",
            "2            7.8              0.76         0.04             2.3      0.092   \n",
            "3           11.2              0.28         0.56             1.9      0.075   \n",
            "4            7.4              0.70         0.00             1.9      0.076   \n",
            "\n",
            "   free sulfur dioxide  total sulfur dioxide  density    pH  sulphates  \\\n",
            "0                 11.0                  34.0   0.9978  3.51       0.56   \n",
            "1                 25.0                  67.0   0.9968  3.20       0.68   \n",
            "2                 15.0                  54.0   0.9970  3.26       0.65   \n",
            "3                 17.0                  60.0   0.9980  3.16       0.58   \n",
            "4                 11.0                  34.0   0.9978  3.51       0.56   \n",
            "\n",
            "   alcohol  quality  \n",
            "0      9.4        5  \n",
            "1      9.8        5  \n",
            "2      9.8        5  \n",
            "3      9.8        6  \n",
            "4      9.4        5  \n"
          ]
        }
      ]
    },
    {
      "cell_type": "code",
      "source": [
        "df1 = pd.read_csv('https://raw.githubusercontent.com/setarets/mo2025/refs/heads/main/data/winequality-red.csv')\n",
        "df1 = pd.read_csv(url, sep=';')\n",
        "df2 = pd.read_csv('https://raw.githubusercontent.com/setarets/mo2025/refs/heads/main/data/winequality-white.csv')\n",
        "df2 = pd.read_csv(url, sep=';')\n",
        "combined_df = pd.concat([df1, df2], ignore_index=True)\n",
        "combined_df.to_csv('combined_file.csv', index=False)\n",
        "print(combined_df.head(5))"
      ],
      "metadata": {
        "colab": {
          "base_uri": "https://localhost:8080/"
        },
        "id": "eCK6--qX4UxW",
        "outputId": "45972a07-aa9e-46a0-dbce-0cb28d01b9cc"
      },
      "id": "eCK6--qX4UxW",
      "execution_count": 10,
      "outputs": [
        {
          "output_type": "stream",
          "name": "stdout",
          "text": [
            "   fixed acidity  volatile acidity  citric acid  residual sugar  chlorides  \\\n",
            "0            7.4              0.70         0.00             1.9      0.076   \n",
            "1            7.8              0.88         0.00             2.6      0.098   \n",
            "2            7.8              0.76         0.04             2.3      0.092   \n",
            "3           11.2              0.28         0.56             1.9      0.075   \n",
            "4            7.4              0.70         0.00             1.9      0.076   \n",
            "\n",
            "   free sulfur dioxide  total sulfur dioxide  density    pH  sulphates  \\\n",
            "0                 11.0                  34.0   0.9978  3.51       0.56   \n",
            "1                 25.0                  67.0   0.9968  3.20       0.68   \n",
            "2                 15.0                  54.0   0.9970  3.26       0.65   \n",
            "3                 17.0                  60.0   0.9980  3.16       0.58   \n",
            "4                 11.0                  34.0   0.9978  3.51       0.56   \n",
            "\n",
            "   alcohol  quality  \n",
            "0      9.4        5  \n",
            "1      9.8        5  \n",
            "2      9.8        5  \n",
            "3      9.8        6  \n",
            "4      9.4        5  \n"
          ]
        }
      ]
    },
    {
      "cell_type": "code",
      "source": [
        "url_red = 'https://raw.githubusercontent.com/setarets/mo2025/refs/heads/main/data/winequality-red.csv'\n",
        "\n",
        "url_white = 'https://raw.githubusercontent.com/setarets/mo2025/refs/heads/main/data/winequality-white.csv'\n",
        "\n",
        "df1 = pd.read_csv(url_red, sep=';')\n",
        "df2 = pd.read_csv(url_white, sep=';')\n",
        "\n",
        "df1 = df1.assign(wine='red')\n",
        "df2 = df2.assign(wine='white')\n",
        "\n",
        "combined_df = pd.concat([df1, df2], ignore_index=True)\n",
        "\n",
        "combined_df.to_csv('combined_file.csv', index=False)\n",
        "\n",
        "print(combined_df.head(5))"
      ],
      "metadata": {
        "colab": {
          "base_uri": "https://localhost:8080/"
        },
        "id": "rM6fT9IW4gmf",
        "outputId": "a75684c8-7382-4086-f616-eeacb04375dd"
      },
      "id": "rM6fT9IW4gmf",
      "execution_count": 11,
      "outputs": [
        {
          "output_type": "stream",
          "name": "stdout",
          "text": [
            "   fixed acidity  volatile acidity  citric acid  residual sugar  chlorides  \\\n",
            "0            7.4              0.70         0.00             1.9      0.076   \n",
            "1            7.8              0.88         0.00             2.6      0.098   \n",
            "2            7.8              0.76         0.04             2.3      0.092   \n",
            "3           11.2              0.28         0.56             1.9      0.075   \n",
            "4            7.4              0.70         0.00             1.9      0.076   \n",
            "\n",
            "   free sulfur dioxide  total sulfur dioxide  density    pH  sulphates  \\\n",
            "0                 11.0                  34.0   0.9978  3.51       0.56   \n",
            "1                 25.0                  67.0   0.9968  3.20       0.68   \n",
            "2                 15.0                  54.0   0.9970  3.26       0.65   \n",
            "3                 17.0                  60.0   0.9980  3.16       0.58   \n",
            "4                 11.0                  34.0   0.9978  3.51       0.56   \n",
            "\n",
            "   alcohol  quality wine  \n",
            "0      9.4        5  red  \n",
            "1      9.8        5  red  \n",
            "2      9.8        5  red  \n",
            "3      9.8        6  red  \n",
            "4      9.4        5  red  \n"
          ]
        }
      ]
    },
    {
      "cell_type": "code",
      "source": [
        "print(combined_df.tail(5))"
      ],
      "metadata": {
        "colab": {
          "base_uri": "https://localhost:8080/"
        },
        "id": "K0kXTP8p4kNr",
        "outputId": "d0b67f87-9539-47c1-c6e4-1483ca7fa6bc"
      },
      "id": "K0kXTP8p4kNr",
      "execution_count": 12,
      "outputs": [
        {
          "output_type": "stream",
          "name": "stdout",
          "text": [
            "      fixed acidity  volatile acidity  citric acid  residual sugar  chlorides  \\\n",
            "6492            6.2              0.21         0.29             1.6      0.039   \n",
            "6493            6.6              0.32         0.36             8.0      0.047   \n",
            "6494            6.5              0.24         0.19             1.2      0.041   \n",
            "6495            5.5              0.29         0.30             1.1      0.022   \n",
            "6496            6.0              0.21         0.38             0.8      0.020   \n",
            "\n",
            "      free sulfur dioxide  total sulfur dioxide  density    pH  sulphates  \\\n",
            "6492                 24.0                  92.0  0.99114  3.27       0.50   \n",
            "6493                 57.0                 168.0  0.99490  3.15       0.46   \n",
            "6494                 30.0                 111.0  0.99254  2.99       0.46   \n",
            "6495                 20.0                 110.0  0.98869  3.34       0.38   \n",
            "6496                 22.0                  98.0  0.98941  3.26       0.32   \n",
            "\n",
            "      alcohol  quality   wine  \n",
            "6492     11.2        6  white  \n",
            "6493      9.6        5  white  \n",
            "6494      9.4        6  white  \n",
            "6495     12.8        7  white  \n",
            "6496     11.8        6  white  \n"
          ]
        }
      ]
    },
    {
      "cell_type": "code",
      "source": [
        "train, test = train_test_split(combined_df, test_size = 0.4, stratify = combined_df['quality'], random_state = 42)\n",
        "print(combined_df.columns.tolist())"
      ],
      "metadata": {
        "colab": {
          "base_uri": "https://localhost:8080/"
        },
        "id": "dz5Rbi7r4nyj",
        "outputId": "1d14d325-1aa7-4880-be5d-7f031f4907e2"
      },
      "id": "dz5Rbi7r4nyj",
      "execution_count": 14,
      "outputs": [
        {
          "output_type": "stream",
          "name": "stdout",
          "text": [
            "['fixed acidity', 'volatile acidity', 'citric acid', 'residual sugar', 'chlorides', 'free sulfur dioxide', 'total sulfur dioxide', 'density', 'pH', 'sulphates', 'alcohol', 'quality', 'wine']\n"
          ]
        }
      ]
    },
    {
      "cell_type": "code",
      "source": [
        "X_train = train[['fixed acidity', 'volatile acidity', 'citric acid', 'residual sugar', 'chlorides', 'free sulfur dioxide', 'total sulfur dioxide', 'density', 'pH', 'sulphates', 'alcohol']]\n",
        "y_train = train.quality\n",
        "X_test = test[['fixed acidity', 'volatile acidity', 'citric acid', 'residual sugar', 'chlorides', 'free sulfur dioxide', 'total sulfur dioxide', 'density', 'pH', 'sulphates', 'alcohol']]\n",
        "y_test = test.quality\n",
        "\n",
        "fn = ['fixed acidity', 'volatile acidity', 'citric acid', 'residual sugar', 'chlorides', 'free sulfur dioxide', 'total sulfur dioxide', 'density', 'pH', 'sulphates', 'alcohol']\n",
        "cn = combined_df['quality'].unique()"
      ],
      "metadata": {
        "id": "g2Nt6X8d4w3J"
      },
      "id": "g2Nt6X8d4w3J",
      "execution_count": 15,
      "outputs": []
    },
    {
      "cell_type": "code",
      "source": [
        "mod_lr = LogisticRegression(solver = 'newton-cg').fit(X_train, y_train)\n",
        "y_pred=mod_lr.predict(X_test)"
      ],
      "metadata": {
        "id": "Fa2EoaUy42xd"
      },
      "id": "Fa2EoaUy42xd",
      "execution_count": 16,
      "outputs": []
    },
    {
      "cell_type": "code",
      "source": [
        "y_pred=mod_lr.predict(X_test)\n",
        "print('accuracy (точность) классификатора',metrics.accuracy_score(y_pred,y_test))\n",
        "print(\"матрица ошибок\")\n",
        "print(metrics.confusion_matrix(y_test, y_pred))"
      ],
      "metadata": {
        "colab": {
          "base_uri": "https://localhost:8080/"
        },
        "id": "LSBuV-_u4-8R",
        "outputId": "c4bf190e-7778-496c-9972-bad0ce06e859"
      },
      "id": "LSBuV-_u4-8R",
      "execution_count": 17,
      "outputs": [
        {
          "output_type": "stream",
          "name": "stdout",
          "text": [
            "accuracy (точность) классификатора 0.5313582146979607\n",
            "матрица ошибок\n",
            "[[  0   0   5   6   0   1   0]\n",
            " [  0   0  50  34   2   0   0]\n",
            " [  0   0 473 378   4   0   0]\n",
            " [  0   0 250 822  63   0   0]\n",
            " [  0   0  25 321  86   0   0]\n",
            " [  0   0   7  43  27   0   0]\n",
            " [  0   0   0   0   2   0   0]]\n"
          ]
        }
      ]
    },
    {
      "cell_type": "code",
      "source": [
        "new_quality = [7.4, 0.7, 0, 1.9, 0.076, 11, 34, 0.9978, 3.51, 0.56, 9.4]\n",
        "y_new_quality=mod_lr.predict([new_quality])\n",
        "print(y_new_quality)"
      ],
      "metadata": {
        "colab": {
          "base_uri": "https://localhost:8080/"
        },
        "id": "kU_Mp60A5MUm",
        "outputId": "db631fe4-ff6b-47d5-a427-bad8d1a3124d"
      },
      "id": "kU_Mp60A5MUm",
      "execution_count": 19,
      "outputs": [
        {
          "output_type": "stream",
          "name": "stdout",
          "text": [
            "[5]\n"
          ]
        }
      ]
    },
    {
      "cell_type": "code",
      "source": [
        "print(mod_lr.coef_)\n",
        "print(mod_lr.intercept_)"
      ],
      "metadata": {
        "colab": {
          "base_uri": "https://localhost:8080/"
        },
        "id": "4zgZDFzk5bEr",
        "outputId": "017607e3-fd2a-4b28-aa0f-82c4cc3a1846"
      },
      "id": "4zgZDFzk5bEr",
      "execution_count": 20,
      "outputs": [
        {
          "output_type": "stream",
          "name": "stdout",
          "text": [
            "[[ 2.16415646e-01  2.03109592e+00 -6.89674230e-02  8.69486933e-03\n",
            "   2.00250139e-01 -9.11132504e-02  9.84725620e-03 -4.35028162e-03\n",
            "   5.16657609e-01 -1.05755050e+00 -4.50123100e-01]\n",
            " [-7.61924510e-02  2.26158183e+00 -1.71167587e-01 -7.15432825e-02\n",
            "  -3.53406606e-01 -5.61844348e-02  1.01242020e-02 -2.46681753e-02\n",
            "  -4.71396449e-01 -2.05087287e+00 -6.46628301e-01]\n",
            " [-6.94937517e-02  2.38115156e+00  3.72840471e-01 -6.38795098e-02\n",
            "   9.08442778e-01  4.65084551e-03  3.03105157e-03  6.77135449e-02\n",
            "  -6.57209559e-01 -3.18180876e-01 -9.14521853e-01]\n",
            " [-6.21977949e-02 -1.34723295e+00 -9.23509631e-02 -1.57052201e-03\n",
            "   7.70087886e-01  1.62403497e-02 -3.45626403e-03  8.89234372e-02\n",
            "  -1.74488737e-01  1.00712234e+00 -8.99122985e-02]\n",
            " [-4.32823481e-02 -3.66648212e+00  2.63897667e-03  2.41377559e-02\n",
            "  -1.18411384e+00  2.31730567e-02 -5.11062058e-03 -8.23758992e-02\n",
            "   4.56126987e-01  1.99514103e+00  5.41374293e-01]\n",
            " [-1.49185973e-01 -1.61668757e+00 -1.19523510e-01  5.08203016e-02\n",
            "  -2.65249930e-01  3.74247028e-02 -2.11305664e-03 -1.30980087e-02\n",
            "   1.51791186e-01  5.64534202e-01  8.38396995e-01]\n",
            " [ 1.83936673e-01 -4.34266737e-02  7.65300357e-02  5.33403875e-02\n",
            "  -7.60104300e-02  6.58087305e-02 -1.23225685e-02 -3.21446173e-02\n",
            "   1.78518963e-01 -1.40193313e-01  7.21414265e-01]]\n",
            "[  0.47048749  10.10366699  13.57838598   4.66405387  -5.13995561\n",
            "  -9.44261654 -14.23402218]\n"
          ]
        }
      ]
    }
  ],
  "metadata": {
    "kernelspec": {
      "display_name": "Python 3 (ipykernel)",
      "language": "python",
      "name": "python3"
    },
    "language_info": {
      "codemirror_mode": {
        "name": "ipython",
        "version": 3
      },
      "file_extension": ".py",
      "mimetype": "text/x-python",
      "name": "python",
      "nbconvert_exporter": "python",
      "pygments_lexer": "ipython3",
      "version": "3.9.13"
    },
    "colab": {
      "provenance": []
    }
  },
  "nbformat": 4,
  "nbformat_minor": 5
}
